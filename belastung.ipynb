{
 "cells": [
  {
   "cell_type": "code",
   "execution_count": 1,
   "metadata": {},
   "outputs": [
    {
     "data": {
      "text/html": [
       "<pre style=\"white-space:pre;overflow-x:auto;line-height:normal;font-family:Menlo,'DejaVu Sans Mono',consolas,'Courier New',monospace\">Manim Community <span style=\"color: #008000; text-decoration-color: #008000\">v0.18.0.post0</span>\n",
       "\n",
       "</pre>\n"
      ],
      "text/plain": [
       "Manim Community \u001b[32mv0.\u001b[0m\u001b[32m18.0\u001b[0m\u001b[32m.post0\u001b[0m\n",
       "\n"
      ]
     },
     "metadata": {},
     "output_type": "display_data"
    },
    {
     "name": "stdout",
     "output_type": "stream",
     "text": [
      "Jupyter Capture Output v0.0.11\n"
     ]
    }
   ],
   "source": [
    "from manim import *\n",
    "import jupyter_capture_output\n",
    "from numpy import linalg as npl\n",
    "\n",
    "video_scene = \" -v WARNING --disable_caching belastung_Scene\"\n",
    "image_scene = f\" -v WARNING --disable_caching -r {2*427},{2*240}  -s belastung_Scene\""
   ]
  },
  {
   "cell_type": "code",
   "execution_count": 2,
   "metadata": {},
   "outputs": [],
   "source": [
    "stress_data = np.array([\n",
    "        [1, 35.66990291, 1.453013591, 1],\n",
    "\n",
    "        [2, 38.52083333, 2.159834341, 2],\n",
    "\n",
    "        [3, 35.61016949, 1.745666246, 3],\n",
    "\n",
    "        [4, 45.515625, 1.31475876, 4],\n",
    "\n",
    "        [5, 50.09876543, 1.88296497, 5],\n",
    "\n",
    "        [6, 58.44444444, 2.285782927, 6],\n",
    "\n",
    "        [7, 54.56790123, 1.694484359, 7],\n",
    "\n",
    "        [8, 56.61971831, 1.888583321, 8],\n",
    "\n",
    "        [9, 56.67948718, 1.975330167, 9],\n",
    "\n",
    "        [10, 56.18181818, 1.926373102, 10],\n",
    "\n",
    "        [11, 59.08888889, 2.577059287, 11],\n",
    "\n",
    "        [12, 56.27777778, 2.570325322, 12],\n",
    "\n",
    "        [13, 55.14814815, 4.986221386, 13],\n",
    "\n",
    "        [14, 57.34883721, 1.821273246, 14],\n",
    "\n",
    "        [15, 60.54237288, 1.971053238, 15],\n",
    "\n",
    "        [16, 53.92405063, 1.773783271, 16],\n",
    "\n",
    "        [17, 55.53731343, 1.959486586, 17],\n",
    "\n",
    "        [18, 62.66666667, 2.584519019, 18],\n",
    "\n",
    "        [19, 63.60869565, 2.789547919, 19],\n",
    "\n",
    "        [20, 40.64705882, 5.487245356, 20],\n",
    "\n",
    "        [21, 26.6, 4.787682609, 21],\n",
    "\n",
    "        [22, 32.5, 5.306796389, 22],\n",
    "\n",
    "        [23, 20.16666667, 6.477739661, 23],\n",
    "])"
   ]
  },
  {
   "cell_type": "code",
   "execution_count": 7,
   "metadata": {},
   "outputs": [],
   "source": [
    "class BelastungTrajectorie(Mobject):\n",
    "    def __init__(self, center = np.array([0, 0, 0]), x_range = [0, 23.9, 1], y_range = [0, 79, 20], x_length = 10, y_length = 5, **kwargs):\n",
    "        super().__init__(**kwargs)\n",
    "        self.uniblau = ManimColor.from_rgb((21,50,104))\n",
    "\n",
    "        x_coord = [i for i in range(1, 24)]\n",
    "        y_coord = [20*i for i in range(4)]\n",
    "        y_label_coord = [20*i for i in range(4)]\n",
    "\n",
    "        x_dict = dict(zip(x_coord, x_coord))\n",
    "        y_dict = dict(zip(y_coord, y_label_coord))\n",
    "\n",
    "        self.ax = Axes(x_range = x_range, y_range = y_range, x_length = x_length, y_length = y_length,\n",
    "            axis_config = {\"stroke_opacity\": 1, \"stroke_color\": BLACK, \"font_size\": 24, \"tip_width\": 0.15, \"tip_height\": 0.15},# \"font\": \"Times New Roman\"}, \n",
    "            # y_axis_config = {\"stroke_opacity\": 1, \"stroke_color\": BLACK, \"font_size\": 24}, \n",
    "            x_axis_config = {\"include_ticks\": True, \"tick_size\": 0.001, \"numbers_with_elongated_ticks\": [0, 3, 18, 20, 23], \"longer_tick_multiple\": 100},\n",
    "        ).move_to(center).set_color(BLACK)\n",
    "\n",
    "        self.ax.y_axis.add_numbers(y_dict).set_color(BLACK)\n",
    "\n",
    "        x_label = Text(\"Course of the semester\", color = BLACK, font_size = 18, font = \"Arial\").next_to(self.ax.x_axis.get_center(), 2.5*DOWN)\n",
    "        y_label = Text(\"Perceived stress from 0 (min) to 100 (max)\", color = BLACK, font_size = 18, font = \"Arial\").next_to(self.ax.y_axis.get_center(), RIGHT+UP)\n",
    "        self.add(self.ax)#, x_label)#, y_label)\n",
    "\n",
    "\n",
    "    def get_dot(self, time, stress, std = False):\n",
    "        time = time-0.5\n",
    "        stress_dot = Dot(radius = 0.05, color = self.uniblau).move_to(self.ax.c2p(time, stress))\n",
    "        stress_group = VGroup()\n",
    "        stress_group.add(stress_dot)\n",
    "        if (std):\n",
    "            std_vert_line = Line(start = self.ax.c2p(time, stress-std), end = self.ax.c2p(time, stress+std), stroke_color = self.uniblau, stroke_width = 1)\n",
    "            std_top_line = Line(start = self.ax.c2p(time-0.1, stress+std), end = self.ax.c2p(time+0.1, stress+std), stroke_color = self.uniblau, stroke_width = 1)\n",
    "            std_bottom_line = Line(start = self.ax.c2p(time-0.1, stress-std), end = self.ax.c2p(time+0.1, stress-std), stroke_color = self.uniblau, stroke_width = 1)\n",
    "            stress_group.add(std_vert_line, std_top_line, std_bottom_line)\n",
    "        return stress_group\n",
    "    \n",
    "\n",
    "    def get_line(self, time, stress):\n",
    "        time_start = time[0]-0.5\n",
    "        time_end = time[1]-0.5\n",
    "        line = Line(start = self.ax.c2p(time_start, stress[0]), end = self.ax.c2p(time_end, stress[1]), stroke_color = self.uniblau, stroke_width = 2)\n",
    "        return line\n",
    "    \n",
    "\n",
    "    def get_period(self, time, polygon_opacity):\n",
    "        top = 79\n",
    "        period_rect = Polygon(\n",
    "            self.ax.c2p(time[0], 0),\n",
    "            self.ax.c2p(time[0], top),\n",
    "            self.ax.c2p(time[1], top),\n",
    "            self.ax.c2p(time[1], 0),\n",
    "            color = GRAY, fill_color = GRAY, stroke_opacity = 0, fill_opacity = polygon_opacity\n",
    "        )\n",
    "        return period_rect\n",
    "    \n",
    "\n",
    "    def get_descriptor_text(self, time, descriptor, offset = 0):\n",
    "        descriptor_text = Text(descriptor, color = BLACK, font_size = 72).move_to(self.ax.c2p((time[1]+time[0])/2, -4+offset)).scale(0.25)\n",
    "        return descriptor_text"
   ]
  },
  {
   "cell_type": "code",
   "execution_count": 9,
   "metadata": {},
   "outputs": [
    {
     "name": "stdout",
     "output_type": "stream",
     "text": [
      "Output saved by overwring previous file at animations/belastung/belastung_periods_sans.mp4.\n"
     ]
    },
    {
     "name": "stderr",
     "output_type": "stream",
     "text": [
      "                                                                                                  \r"
     ]
    },
    {
     "data": {
      "text/html": [
       "<video src=\"media/jupyter/belastung_Scene@2024-09-25@13-27-01.mp4\" controls autoplay loop style=\"max-width: 60%;\"  >\n",
       "      Your browser does not support the <code>video</code> element.\n",
       "    </video>"
      ],
      "text/plain": [
       "<IPython.core.display.Video object>"
      ]
     },
     "metadata": {},
     "output_type": "display_data"
    }
   ],
   "source": [
    "%%capture_video --path \"animations/belastung/belastung_periods_sans.mp4\"\n",
    "%%manim -qh --fps 60 $video_scene\n",
    "\n",
    "\n",
    "class belastung_Scene(Scene):\n",
    "    def construct(self):\n",
    "        self.camera.background_color = WHITE\n",
    "\n",
    "        headline = Text(\"Perceived stress from 0 (min) to 100 (max)\", font = \"Arial\", font_size = 48, color = BLACK).align_on_border(UP, buff = 0.75).scale(0.5)\n",
    "        self.add(headline)\n",
    "\n",
    "        ax_belastung = BelastungTrajectorie(center = np.array([0, 0, 0]))\n",
    "        self.add(ax_belastung)\n",
    "\n",
    "        text_pre = ax_belastung.get_descriptor_text([0, 3], \"Precourse\")\n",
    "        text_lw = ax_belastung.get_descriptor_text([3, 18], \"Lecture weeks\")\n",
    "        text_ew = ax_belastung.get_descriptor_text([18, 20], \"Exams\")\n",
    "        text_free = ax_belastung.get_descriptor_text([20, 23], \"Free\")\n",
    "        self.add(text_pre, text_lw, text_ew, text_free)\n",
    "\n",
    "\n",
    "        # play parameters\n",
    "        dot_fade = 0.15\n",
    "\n",
    "        # play stress data\n",
    "        self.wait(0.5)\n",
    "        stress_dot = ax_belastung.get_dot(stress_data[0][0], stress_data[0][1], stress_data[0][2])\n",
    "        period_rect = ax_belastung.get_period([0, 3], 0.125)\n",
    "        self.play(FadeIn(stress_dot), FadeIn(period_rect), run_time = dot_fade)\n",
    "        for x in range(1, len(stress_data)):\n",
    "            stress_dot = ax_belastung.get_dot(stress_data[x][0], stress_data[x][1], stress_data[x][2])\n",
    "            stress_line = ax_belastung.get_line([stress_data[x-1][0], stress_data[x][0]], [stress_data[x-1][1], stress_data[x][1]])\n",
    "            # if (x == 1):\n",
    "            #     self.play(FadeIn(stress_dot), FadeIn(stress_line), FadeIn(period_rect), run_time = dot_fade)\n",
    "            if (x == 3):\n",
    "                period_rect = ax_belastung.get_period([3, 18], 0.25)\n",
    "                self.play(FadeIn(stress_dot), FadeIn(stress_line), FadeIn(period_rect), run_time = dot_fade)\n",
    "            elif (x == 18):\n",
    "                period_rect = ax_belastung.get_period([18, 20], 0.125)\n",
    "                self.play(FadeIn(stress_dot), FadeIn(stress_line), FadeIn(period_rect), run_time = dot_fade)       \n",
    "            elif (x == 21):\n",
    "                period_rect = ax_belastung.get_period([20, 23], 0.25)\n",
    "                self.play(FadeIn(stress_dot), FadeIn(stress_line), FadeIn(period_rect), run_time = dot_fade)\n",
    "            else:\n",
    "                self.play(FadeIn(stress_dot), FadeIn(stress_line), run_time = dot_fade)\n",
    "\n",
    "        self.wait(1)"
   ]
  }
 ],
 "metadata": {
  "kernelspec": {
   "display_name": ".venv_per",
   "language": "python",
   "name": "python3"
  },
  "language_info": {
   "codemirror_mode": {
    "name": "ipython",
    "version": 3
   },
   "file_extension": ".py",
   "mimetype": "text/x-python",
   "name": "python",
   "nbconvert_exporter": "python",
   "pygments_lexer": "ipython3",
   "version": "3.12.3"
  }
 },
 "nbformat": 4,
 "nbformat_minor": 2
}
