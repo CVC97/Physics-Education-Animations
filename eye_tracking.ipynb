{
 "cells": [
  {
   "cell_type": "code",
   "execution_count": 12,
   "metadata": {},
   "outputs": [],
   "source": [
    "from manim import *\n",
    "import jupyter_capture_output\n",
    "\n",
    "video_scene = \" -v WARNING --progress_bar None --disable_caching et_Scene\"\n",
    "image_scene = f\" -v WARNING --progress_bar None --disable_caching -r {2*427},{2*240}  -s et_Scene\""
   ]
  },
  {
   "cell_type": "code",
   "execution_count": 186,
   "metadata": {},
   "outputs": [],
   "source": [
    "bin_count = 8\n",
    "\n",
    "# Array mit Eye-Tracking Daten ([x, y, t])\n",
    "et_array = np.array([\n",
    "    [-6, -3, 200],\n",
    "    [-5, 1, 400],\n",
    "    [-4, 0, 600],\n",
    "    [-2, 2, 200],\n",
    "    [-3, 2, 100],\n",
    "    [-2, -1, 300],\n",
    "    [-2, 2, 100],\n",
    "    [-3, 3, 100],\n",
    "    [-2, 2.5, 100],\n",
    "    [-1.5, 2.5, 100],\n",
    "    [-1, 2.5, 100],\n",
    "    [-1, -3, 100],\n",
    "    [-2, -3, 100],\n",
    "    [-2, -2, 200],\n",
    "    [-3, -3, 500],\n",
    "    [-4, -3, 200],\n",
    "])\n",
    "\n",
    "et_pos_array = np.zeros(np.shape(et_array))\n",
    "et_pos_array[:,:2], et_time_array = et_array[:,:2], et_array[:,2]\n",
    "\n",
    "\n",
    "# calculates angle of vector v\n",
    "def polar_angle(v):\n",
    "    return np.arctan2(v[1], v[0])\n",
    "\n",
    "\n",
    "# takes polar angle and returns bin indey and binned angle\n",
    "def bin_angle(angle):\n",
    "    for i, bin in enumerate(np.linspace(0, 2*PI, bin_count+1)):\n",
    "        if bin > (angle + 2*PI) % (2*PI) - PI/bin_count:\n",
    "            return i, bin"
   ]
  },
  {
   "cell_type": "code",
   "execution_count": 188,
   "metadata": {},
   "outputs": [
    {
     "data": {
      "text/html": [
       "<video src=\"media/jupyter/et_Scene@2022-09-22@23-49-58.mp4\" controls autoplay loop style=\"max-width: 60%;\"  >\n",
       "      Your browser does not support the <code>video</code> element.\n",
       "    </video>"
      ],
      "text/plain": [
       "<IPython.core.display.Video object>"
      ]
     },
     "metadata": {},
     "output_type": "display_data"
    }
   ],
   "source": [
    "%%capture_video --path \"animations/eye_tracking.mp4\"\n",
    "%%manim -qh --fps 60 $video_scene\n",
    "\n",
    "class et_Scene(Scene):\n",
    "    def construct(self):\n",
    "        pol = PolarPlane(azimuth_units = \"degrees\", size = 4, azimuth_label_font_size = 33.6, azimuth_step = bin_count, azimuth_label_buff = 0.2).add_coordinates(r_values=[]).shift(4*RIGHT)\n",
    "        self.add(pol)\n",
    "        phi_vals = np.linspace(0, 2*PI, bin_count+1)\n",
    "        r_vals = np.zeros_like(phi_vals)\n",
    "        for i, pos in enumerate(et_pos_array):\n",
    "            time = Text(f'{et_time_array[i]} ms').move_to(pos+0.5*UP).scale(0.5)\n",
    "            dot = Dot(color = WHITE, radius = 0.1).move_to(pos)\n",
    "            if i == 0:\n",
    "                x_vals, y_vals = [r_vals[i1] * np.cos(phi_vals[i1]) for i1 in range(len(phi_vals))], [r_vals[i1] * np.sin(phi_vals[i1]) for i1 in range(len(phi_vals))]       \n",
    "                graph0 = pol.plot_line_graph(x_values = x_vals, y_values = y_vals, stroke_color = YELLOW, add_vertex_dots = False, stroke_opacity = 0.5)        \n",
    "                self.add(graph0)\n",
    "                self.play(FadeIn(dot), Write(time))\n",
    "                self.play(FadeOut(time), run_time = et_time_array[i] / 400)\n",
    "            else:\n",
    "                arrow = Arrow(start = et_pos_array[i-1], end = pos, color = RED, stroke_width = 1, buff = 0.2, tip_length = 0.15)\n",
    "                index, binned_angel = bin_angle(polar_angle(pos - et_pos_array[i-1]))\n",
    "                r_vals[index] += 1\n",
    "                r_vals[-1] = r_vals[0] \n",
    "                plot_arrow = Arrow(start = [0, 0, 0], end = [r_vals[index] * np.cos(binned_angel) / 2, r_vals[index] * np.sin(binned_angel) / 2, 0], color = RED, buff = 0).shift(4*RIGHT)\n",
    "                x_vals, y_vals = [r_vals[i1] * np.cos(phi_vals[i1]) for i1 in range(len(phi_vals))], [r_vals[i1] * np.sin(phi_vals[i1]) for i1 in range(len(phi_vals))]\n",
    "                graph = pol.plot_line_graph(x_values = x_vals, y_values = y_vals, stroke_color = YELLOW, add_vertex_dots = False, stroke_opacity = 1)\n",
    "                self.play(FadeIn(dot), Create(arrow), Write(time))\n",
    "                self.play(TransformFromCopy(arrow, plot_arrow), Transform(graph0, graph))\n",
    "                self.play(FadeOut(time), run_time = et_time_array[i] / 400)\n",
    "        self.wait(3)"
   ]
  }
 ],
 "metadata": {
  "kernelspec": {
   "display_name": "Python 3.10.4 64-bit",
   "language": "python",
   "name": "python3"
  },
  "language_info": {
   "codemirror_mode": {
    "name": "ipython",
    "version": 3
   },
   "file_extension": ".py",
   "mimetype": "text/x-python",
   "name": "python",
   "nbconvert_exporter": "python",
   "pygments_lexer": "ipython3",
   "version": "3.10.4"
  },
  "orig_nbformat": 4,
  "vscode": {
   "interpreter": {
    "hash": "916dbcbb3f70747c44a77c7bcd40155683ae19c65e1c03b4aa3499c5328201f1"
   }
  }
 },
 "nbformat": 4,
 "nbformat_minor": 2
}
