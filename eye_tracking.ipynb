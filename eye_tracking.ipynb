{
 "cells": [
  {
   "cell_type": "code",
   "execution_count": 12,
   "metadata": {},
   "outputs": [],
   "source": [
    "from manim import *\n",
    "import jupyter_capture_output\n",
    "\n",
    "video_scene = \" -v WARNING --progress_bar None --disable_caching et_Scene\"\n",
    "image_scene = f\" -v WARNING --progress_bar None --disable_caching -r {2*427},{2*240}  -s et_Scene\""
   ]
  },
  {
   "cell_type": "code",
   "execution_count": 52,
   "metadata": {},
   "outputs": [
    {
     "data": {
      "text/plain": [
       "(array([[-6., -3.,  0.],\n",
       "        [-5.,  1.,  0.],\n",
       "        [-4.,  0.,  0.],\n",
       "        [-3.,  2.,  0.],\n",
       "        [-2., -1.,  0.]]),\n",
       " array([0.5 , 1.  , 1.5 , 0.5 , 0.75]))"
      ]
     },
     "execution_count": 52,
     "metadata": {},
     "output_type": "execute_result"
    }
   ],
   "source": [
    "# Array mit Eye-Tracking Daten ([x, y, t])\n",
    "et_array = np.array([\n",
    "    [-6, -3, 200],\n",
    "    [-5, 1, 400],\n",
    "    [-4, 0, 600],\n",
    "    [-3, 2, 200],\n",
    "    [-2, -1, 300],\n",
    "])\n",
    "\n",
    "et_pos_array = np.zeros(np.shape(et_array))\n",
    "et_pos_array[:,:2] = et_array[:,:2]\n",
    "\n",
    "et_time_array = et_array[:,2] / 400\n",
    "\n",
    "def polar_angle(v):\n",
    "    return np.arctan(v[1]/v[0])\n",
    "\n",
    "et_pos_array, et_time_array"
   ]
  },
  {
   "cell_type": "code",
   "execution_count": 51,
   "metadata": {},
   "outputs": [
    {
     "name": "stdout",
     "output_type": "stream",
     "text": [
      "1.3258176636680326\n",
      "-0.7853981633974483\n",
      "1.1071487177940904\n",
      "-1.2490457723982544\n"
     ]
    },
    {
     "data": {
      "text/html": [
       "<video src=\"media/jupyter/et_Scene@2022-09-22@16-13-07.mp4\" controls autoplay loop style=\"max-width: 60%;\"  >\n",
       "      Your browser does not support the <code>video</code> element.\n",
       "    </video>"
      ],
      "text/plain": [
       "<IPython.core.display.Video object>"
      ]
     },
     "metadata": {},
     "output_type": "display_data"
    }
   ],
   "source": [
    "%%capture_video --path \"animations/eye_tracking.mp4\"\n",
    "%%manim -ql --fps 20 $video_scene\n",
    "\n",
    "class et_Scene(Scene):\n",
    "    def construct(self):\n",
    "        polarplane_pi = PolarPlane(\n",
    "            azimuth_units = \"degrees\",\n",
    "            size = 4,\n",
    "            azimuth_label_font_size = 33.6,\n",
    "            azimuth_step = 8,\n",
    "            azimuth_label_buff = 0.2,\n",
    "        ).add_coordinates(r_values= []).shift(4*RIGHT)\n",
    "        self.add(polarplane_pi)\n",
    "\n",
    "\n",
    "        for i, pos in enumerate(et_pos_array):\n",
    "            if i == 0:\n",
    "                dot = Dot(color = WHITE, radius = 0.1).move_to(pos)\n",
    "                self.play(FadeIn(dot))\n",
    "                self.wait(et_time_array[i])\n",
    "            else:\n",
    "                dot = Dot(color = WHITE, radius = 0.1).move_to(pos)\n",
    "                arrow = Arrow(start = et_pos_array[i-1], end = pos, color = RED, stroke_width = 1, buff = 0.2, tip_length = 0.15)\n",
    "                print(polar_angle(pos - et_pos_array[i-1]))\n",
    "                self.play(FadeIn(dot), Create(arrow))\n",
    "                self.wait(et_time_array[i])"
   ]
  }
 ],
 "metadata": {
  "kernelspec": {
   "display_name": "Python 3.10.4 64-bit",
   "language": "python",
   "name": "python3"
  },
  "language_info": {
   "codemirror_mode": {
    "name": "ipython",
    "version": 3
   },
   "file_extension": ".py",
   "mimetype": "text/x-python",
   "name": "python",
   "nbconvert_exporter": "python",
   "pygments_lexer": "ipython3",
   "version": "3.10.4"
  },
  "orig_nbformat": 4,
  "vscode": {
   "interpreter": {
    "hash": "916dbcbb3f70747c44a77c7bcd40155683ae19c65e1c03b4aa3499c5328201f1"
   }
  }
 },
 "nbformat": 4,
 "nbformat_minor": 2
}
