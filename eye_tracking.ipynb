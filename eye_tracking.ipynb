{
 "cells": [
  {
   "cell_type": "code",
   "execution_count": 12,
   "metadata": {},
   "outputs": [],
   "source": [
    "from manim import *\n",
    "import jupyter_capture_output\n",
    "\n",
    "video_scene = \" -v WARNING --progress_bar None --disable_caching et_Scene\"\n",
    "image_scene = f\" -v WARNING --progress_bar None --disable_caching -r {2*427},{2*240}  -s et_Scene\""
   ]
  },
  {
   "cell_type": "code",
   "execution_count": 86,
   "metadata": {},
   "outputs": [
    {
     "name": "stdout",
     "output_type": "stream",
     "text": [
      "[0.         0.39269908 0.78539816 1.17809725 1.57079633 1.96349541\n",
      " 2.35619449 2.74889357 3.14159265 3.53429174 3.92699082 4.3196899\n",
      " 4.71238898 5.10508806 5.49778714 5.89048623 6.28318531]\n"
     ]
    },
    {
     "data": {
      "text/plain": [
       "(8, 3.141592653589793)"
      ]
     },
     "execution_count": 86,
     "metadata": {},
     "output_type": "execute_result"
    }
   ],
   "source": [
    "# Array mit Eye-Tracking Daten ([x, y, t])\n",
    "et_array = np.array([\n",
    "    [-6, -3, 200],\n",
    "    [-5, 1, 400],\n",
    "    [-4, 0, 600],\n",
    "    [-3, 2, 200],\n",
    "    [-2, -1, 300],\n",
    "])\n",
    "\n",
    "bin_count = 16\n",
    "\n",
    "et_pos_array = np.zeros(np.shape(et_array))\n",
    "et_pos_array[:,:2] = et_array[:,:2]\n",
    "et_time_array = et_array[:,2] / 400\n",
    "\n",
    "# calculates angle of vector v\n",
    "def polar_angle(v):\n",
    "    return np.arctan(v[1]/v[0])\n",
    "\n",
    "\n",
    "# takes polar angle and returns bin indey and binned angle\n",
    "def bin_angle(angle):\n",
    "    bins = np.linspace(0, 2*PI, bin_count+1)\n",
    "    for i, bin in enumerate(bins):\n",
    "        if bin > angle - PI/bin_count:\n",
    "            return i, bin\n",
    "\n",
    "print(np.linspace(0, 2*PI, bin_count+1))\n",
    "bin_angle(PI)"
   ]
  },
  {
   "cell_type": "code",
   "execution_count": 89,
   "metadata": {},
   "outputs": [
    {
     "name": "stdout",
     "output_type": "stream",
     "text": [
      "3\n",
      "0\n",
      "3\n",
      "0\n"
     ]
    },
    {
     "data": {
      "text/html": [
       "<video src=\"media/jupyter/et_Scene@2022-09-22@19-58-40.mp4\" controls autoplay loop style=\"max-width: 60%;\"  >\n",
       "      Your browser does not support the <code>video</code> element.\n",
       "    </video>"
      ],
      "text/plain": [
       "<IPython.core.display.Video object>"
      ]
     },
     "metadata": {},
     "output_type": "display_data"
    }
   ],
   "source": [
    "%%capture_video --path \"animations/eye_tracking.mp4\"\n",
    "%%manim -ql --fps 20 $video_scene\n",
    "\n",
    "class et_Scene(Scene):\n",
    "    def construct(self):\n",
    "        plot_center = 4*RIGHT\n",
    "\n",
    "        polarplane_pi = PolarPlane(\n",
    "            azimuth_units = \"degrees\",\n",
    "            size = 4,\n",
    "            azimuth_label_font_size = 33.6,\n",
    "            azimuth_step = bin_count,\n",
    "            azimuth_label_buff = 0.2,\n",
    "        ).add_coordinates(r_values= []).shift(plot_center)\n",
    "        self.add(polarplane_pi)\n",
    "\n",
    "        phi_vals = np.linspace(0, 2*PI, bin_count+1)\n",
    "        r_vals = np.zeros_like(phi_vals)\n",
    "\n",
    "        #graph = polarplane_pi.plot_line_graph(x_values = x_vals, y_values = y_vals)\n",
    "        for i, pos in enumerate(et_pos_array):\n",
    "            if i == 0:\n",
    "                dot = Dot(color = WHITE, radius = 0.1).move_to(pos)\n",
    "                #graph0 = polarplane_pi.plot_line_graph(x_values = [r_vals[i1] * np.cos(phi_vals[i1]) for i1 in len(phi_vals)], y_values = [r_vals[i1] * np.sin(phi_vals[i1]) for i1 in len(phi_vals)])\n",
    "                #self.add(graph0)\n",
    "                self.play(FadeIn(dot))\n",
    "                self.wait(et_time_array[i])\n",
    "            else:\n",
    "                dot = Dot(color = WHITE, radius = 0.1).move_to(pos)\n",
    "                arrow = Arrow(start = et_pos_array[i-1], end = pos, color = RED, stroke_width = 1, buff = 0.2, tip_length = 0.15)\n",
    "                index, binned_angel = bin_angle(polar_angle(pos - et_pos_array[i-1]))\n",
    "                r_vals[index] += 1\n",
    "                print(index)\n",
    "                plot_arrow =Arrow(start = [0, 0, 0], end = [r_vals[index] * np.cos(binned_angel), r_vals[index] * np.sin(binned_angel), 0], color = RED, buff = 0).shift(plot_center)\n",
    "                #graph = polarplane_pi.plot_line_graph(x_values = [r_vals[i1] * np.cos(phi_vals[i1]) for i1 in len(phi_vals)], y_values = [r_vals[i1] * np.sin(phi_vals[i1]) for i1 in len(phi_vals)])\n",
    "                self.play(FadeIn(dot), Create(arrow))\n",
    "                self.play(TransformFromCopy(arrow, plot_arrow))#, ReplacementTransform(graph0, graph))\n",
    "                self.wait(et_time_array[i])"
   ]
  }
 ],
 "metadata": {
  "kernelspec": {
   "display_name": "Python 3.10.4 64-bit",
   "language": "python",
   "name": "python3"
  },
  "language_info": {
   "codemirror_mode": {
    "name": "ipython",
    "version": 3
   },
   "file_extension": ".py",
   "mimetype": "text/x-python",
   "name": "python",
   "nbconvert_exporter": "python",
   "pygments_lexer": "ipython3",
   "version": "3.10.4"
  },
  "orig_nbformat": 4,
  "vscode": {
   "interpreter": {
    "hash": "916dbcbb3f70747c44a77c7bcd40155683ae19c65e1c03b4aa3499c5328201f1"
   }
  }
 },
 "nbformat": 4,
 "nbformat_minor": 2
}
