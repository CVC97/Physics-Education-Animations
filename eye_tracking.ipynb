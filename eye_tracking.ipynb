{
 "cells": [
  {
   "cell_type": "code",
   "execution_count": 48,
   "metadata": {},
   "outputs": [],
   "source": [
    "from manim import *\n",
    "import jupyter_capture_output\n",
    "from scipy.interpolate import make_interp_spline, BSpline\n",
    "\n",
    "\n",
    "video_scene = \" -v WARNING --progress_bar None --disable_caching et_Scene\"\n",
    "image_scene = f\" -v WARNING --progress_bar None --disable_caching -r {2*427},{2*240}  -s et_Scene\""
   ]
  },
  {
   "cell_type": "code",
   "execution_count": 2,
   "metadata": {},
   "outputs": [],
   "source": [
    "bin_count = 8\n",
    "\n",
    "# Array mit Eye-Tracking Daten ([x, y, t])\n",
    "et_array = np.array([\n",
    "    [-6, -3, 200],\n",
    "    [-5, 1, 400],\n",
    "    [-4, 0, 600],\n",
    "    [-2, 2, 200],\n",
    "    [-3, 2, 100],\n",
    "    [-2, -1, 300],\n",
    "    [-2, 2, 100],\n",
    "    [-3, 3, 100],\n",
    "    [-2, 2.5, 100],\n",
    "    [-1.5, 2.5, 100],\n",
    "    [-1, 2.5, 100],\n",
    "    [-1, -3, 100],\n",
    "    [-2, -3, 100],\n",
    "    [-2, -2, 200],\n",
    "    [-3, -3, 500],\n",
    "    [-4, -3, 200],\n",
    "])\n",
    "\n",
    "et_pos_array = np.zeros(np.shape(et_array))\n",
    "et_pos_array[:,:2], et_time_array = et_array[:,:2], et_array[:,2]\n",
    "\n",
    "\n",
    "# calculates angle of vector v\n",
    "def polar_angle(v):\n",
    "    return np.arctan2(v[1], v[0])\n",
    "\n",
    "\n",
    "# takes polar angle and returns bin indey and binned angle\n",
    "def bin_angle(angle):\n",
    "    for i, bin in enumerate(np.linspace(0, 2*PI, bin_count+1)):\n",
    "        if bin > (angle + 2*PI) % (2*PI) - PI/bin_count:\n",
    "            return i, bin"
   ]
  },
  {
   "cell_type": "code",
   "execution_count": 85,
   "metadata": {},
   "outputs": [
    {
     "data": {
      "text/html": [
       "<video src=\"media/jupyter/et_Scene@2022-09-24@22-15-58.mp4\" controls autoplay loop style=\"max-width: 60%;\"  >\n",
       "      Your browser does not support the <code>video</code> element.\n",
       "    </video>"
      ],
      "text/plain": [
       "<IPython.core.display.Video object>"
      ]
     },
     "metadata": {},
     "output_type": "display_data"
    }
   ],
   "source": [
    "%%capture_video --path \"animations/eye_tracking.mp4\"\n",
    "%%manim -ql --fps 20 $video_scene\n",
    "\n",
    "from turtle import fillcolor\n",
    "\n",
    "\n",
    "class et_Scene(Scene):\n",
    "    def construct(self):\n",
    "        #self.camera.background_color = WHITE    \n",
    "        pol = PolarPlane(\n",
    "            azimuth_units = \"degrees\", \n",
    "            size = 4, \n",
    "            azimuth_label_font_size = 33.6, \n",
    "            azimuth_step = bin_count, \n",
    "            azimuth_label_buff = 0.2,\n",
    "            ).add_coordinates(r_values = []).shift(4*RIGHT)\n",
    "        self.add(pol)\n",
    "        phi_vals = np.linspace(0, 2*PI, bin_count+1)\n",
    "        r_vals = np.zeros_like(phi_vals)\n",
    "        for i, pos in enumerate(et_pos_array):\n",
    "            dot = Dot(color = WHITE, radius = 0.1).move_to(pos)\n",
    "            line_group = VGroup()\n",
    "            if i == 0:\n",
    "                x_vals = [r_vals[i] * np.cos(phi_vals[i]) for i in range(len(phi_vals))]\n",
    "                y_vals = [r_vals[i] * np.sin(phi_vals[i]) for i in range(len(phi_vals))]  \n",
    "\n",
    "                pos_list = np.array([[x_vals[i], y_vals[i], 0] for i in range(len(x_vals))]) / 2\n",
    "                poly0 = Polygon(*pos_list, fill_color = YELLOW, fill_opacity = 0.2, color = YELLOW).shift(4*RIGHT) \n",
    "\n",
    "                graph0 = pol.plot_line_graph(x_values = x_vals, y_values = y_vals, stroke_color = YELLOW, add_vertex_dots = False, stroke_opacity = 0.5)        \n",
    "                self.add(graph0)\n",
    "                self.play(FadeIn(dot))\n",
    "            else:\n",
    "                arrow = Arrow(start = et_pos_array[i-1], end = pos, color = RED, stroke_width = 1, buff = 0.2, tip_length = 0.15)\n",
    "                index, binned_angel = bin_angle(polar_angle(pos - et_pos_array[i-1]))\n",
    "                r_vals[index] += 1\n",
    "                r_vals[-1] = r_vals[0] \n",
    "                plot_line = Line(start = [0, 0, 0], end = [r_vals[index] * np.cos(binned_angel) / 2, r_vals[index] * np.sin(binned_angel) / 2, 0], color = RED, buff = 0).shift(4*RIGHT)\n",
    "                line_group.add(plot_line)\n",
    "\n",
    "                x_vals = [r_vals[i] * np.cos(phi_vals[i]) for i in range(len(phi_vals))]\n",
    "                y_vals = [r_vals[i] * np.sin(phi_vals[i]) for i in range(len(phi_vals))]\n",
    "\n",
    "                # smoothing\n",
    "                phi_smooth = np.linspace(min(phi_vals), max(phi_vals), 100)\n",
    "                spl = make_interp_spline(phi_vals, r_vals, k=2) \n",
    "                r_smooth = spl(phi_smooth)\n",
    "\n",
    "                x_smooth = [r_smooth[i] * np.cos(phi_smooth[i]) for i in range(len(phi_smooth))]\n",
    "                y_smooth = [r_smooth[i] * np.sin(phi_smooth[i]) for i in range(len(phi_smooth))]\n",
    "\n",
    "                graph = pol.plot_line_graph(x_values = x_vals, y_values = y_vals, stroke_color = YELLOW, add_vertex_dots = False, stroke_opacity = 1)\n",
    "                graph_smooth = pol.plot_line_graph(x_values = x_smooth, y_values = y_smooth, stroke_color = YELLOW, add_vertex_dots = False, stroke_opacity = 1)\n",
    "\n",
    "                pos_list = np.array([[x_vals[i], y_vals[i], 0] for i in range(len(x_vals))]) / 2\n",
    "                pos_smooth_list = np.array([[x_smooth[i], y_smooth[i], 0] for i in range(len(x_smooth))]) / 2\n",
    "\n",
    "                poly = Polygon(*pos_list, fill_color = YELLOW, fill_opacity = 0.2).shift(4*RIGHT)\n",
    "                poly_smooth = Polygon(*pos_smooth_list, fill_color = YELLOW, fill_opacity = 0.2, color = YELLOW).shift(4*RIGHT)\n",
    "\n",
    "                self.play(FadeIn(dot), Create(arrow))\n",
    "                self.play(TransformFromCopy(arrow, line_group), Transform(graph0, graph_smooth))#, Transform(poly0, poly_smooth))\n",
    "                self.play(FadeOut(line_group))\n",
    "        #self.play(Transform(graph0, graph_smooth))\n",
    "        self.wait(3)"
   ]
  }
 ],
 "metadata": {
  "kernelspec": {
   "display_name": "Python 3.10.4 64-bit",
   "language": "python",
   "name": "python3"
  },
  "language_info": {
   "codemirror_mode": {
    "name": "ipython",
    "version": 3
   },
   "file_extension": ".py",
   "mimetype": "text/x-python",
   "name": "python",
   "nbconvert_exporter": "python",
   "pygments_lexer": "ipython3",
   "version": "3.10.4"
  },
  "orig_nbformat": 4,
  "vscode": {
   "interpreter": {
    "hash": "916dbcbb3f70747c44a77c7bcd40155683ae19c65e1c03b4aa3499c5328201f1"
   }
  }
 },
 "nbformat": 4,
 "nbformat_minor": 2
}
