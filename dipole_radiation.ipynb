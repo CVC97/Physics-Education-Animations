{
 "cells": [
  {
   "cell_type": "code",
   "execution_count": 19,
   "metadata": {},
   "outputs": [],
   "source": [
    "from manim import *\n",
    "from classes.electrodynamics_classes import *\n",
    "import jupyter_capture_output\n",
    "from numpy import linalg as npl\n",
    "\n",
    "video_scene = \" -v WARNING --disable_caching dipole_Scene\"\n",
    "image_scene = f\" -v WARNING --disable_caching -r {2*427},{2*240}  -s dipole_Scene\""
   ]
  },
  {
   "cell_type": "code",
   "execution_count": 18,
   "metadata": {},
   "outputs": [],
   "source": [
    "# physical natural constants (fuck this shit)\n",
    "c = 1\n",
    "epsilon_0 = 1"
   ]
  },
  {
   "cell_type": "code",
   "execution_count": 95,
   "metadata": {},
   "outputs": [],
   "source": [
    "class Dipole(Mobject):\n",
    "    def __init__(self, center = np.array([0, 0, 0]), omega = 1, amplitude = 1, **kwargs):\n",
    "        super().__init__(**kwargs)\n",
    "        self.center = center\n",
    "        self.omega = omega\n",
    "        self.amplitude = amplitude\n",
    "\n",
    "\n",
    "    def get_oscillation(self, t):\n",
    "        return self.center + self.amplitude * np.cos(self.omega*t) * UP\n",
    "\n",
    "\n",
    "    def get_charges(self, t):\n",
    "        pos_plus = self.get_oscillation(t)\n",
    "        pos_minus = -pos_plus \n",
    "        plus_circle = Circle(radius = 0.25, stroke_opacity = 0, fill_color = RED, fill_opacity = 0.5).move_to(pos_plus)\n",
    "        plus_text = Text(r\"+\", font_size = 32, weight = BOLD, color = main_color).move_to(pos_plus)\n",
    "        minus_circle = Circle(radius = 0.25, stroke_opacity = 0, fill_color = BLUE, fill_opacity = 0.5).move_to(pos_minus)\n",
    "        minus_text = Text(r\"-\", font_size = 32, weight = BOLD, color = main_color).move_to(pos_minus)\n",
    "        return VGroup(plus_circle, plus_text, minus_circle, minus_text)\n",
    "    \n",
    "\n",
    "    def get_dipole_field_function(self, t):\n",
    "        def dipole_field(pos):\n",
    "            r = np.sqrt((pos[0]-self.center[0])**2 + (pos[1]-self.center[1])**2)              # distance to center\n",
    "            rho = self.omega * r / c + 0.0000001                    # some (non-zero) constant\n",
    "            \n",
    "            pos_plus = self.get_oscillation(t)                      # position of the positive charge\n",
    "            pos_minus = -pos_plus                                   # position of the negative charge\n",
    "            \n",
    "            p_vec = pos_plus - pos_minus                            # dipole moment\n",
    "            n_vec = pos - self.center                               # direction vector\n",
    "            # print(n_vec)\n",
    "\n",
    "            term_1 = self.omega**3/(4*PI*epsilon_0*c**3)\n",
    "            term_2 = np.cross(np.cross(n_vec, p_vec), n_vec) / rho\n",
    "            term_3 = (3*n_vec*np.dot(n_vec, p_vec) - p_vec)\n",
    "\n",
    "            term_real = term_1 * np.cos(rho-self.omega*t) * (term_3/rho**3 + term_2)\n",
    "            term_imag = term_1 * np.sin(rho-self.omega*t) * (term_3/rho**2 + term_2)\n",
    "            return (term_real + term_imag)[0] * RIGHT + (term_real + term_imag)[1] * UP\n",
    "        return dipole_field\n",
    "    \n",
    "\n",
    "    def get_efield(self, t):\n",
    "        field_func = self.get_dipole_field_function(t)\n",
    "        vf = ArrowVectorField(field_func)\n",
    "        return vf\n"
   ]
  },
  {
   "cell_type": "code",
   "execution_count": 102,
   "metadata": {},
   "outputs": [
    {
     "name": "stdout",
     "output_type": "stream",
     "text": [
      "Output saved by overwring previous file at animations/dipole_radiation/dipole_radiation.mp4.\n"
     ]
    },
    {
     "name": "stderr",
     "output_type": "stream",
     "text": [
      "                                                                                              \r"
     ]
    },
    {
     "data": {
      "text/html": [
       "<video src=\"media/jupyter/dipole_Scene@2024-08-31@17-08-54.mp4\" controls autoplay loop style=\"max-width: 60%;\"  >\n",
       "      Your browser does not support the <code>video</code> element.\n",
       "    </video>"
      ],
      "text/plain": [
       "<IPython.core.display.Video object>"
      ]
     },
     "metadata": {},
     "output_type": "display_data"
    }
   ],
   "source": [
    "%%capture_video --path \"animations/dipole_radiation/dipole_radiation.mp4\"\n",
    "%%manim -qm --fps 60 $video_scene\n",
    "\n",
    "\n",
    "class dipole_Scene(ThreeDScene):\n",
    "    def construct(self):\n",
    "        self.camera.background_color = BLACK\n",
    "\n",
    "        CVC = Text('CVC', font_size = 12, weight = BOLD, color = WHITE, font = 'Latin Modern Sans').align_on_border(RIGHT + DOWN, buff = 0.2)\n",
    "        self.add(CVC)\n",
    "\n",
    "        dipole = Dipole(omega = 1, amplitude = 1)\n",
    "        charges = dipole.get_charges(0)\n",
    "        efield = dipole.get_efield(0)\n",
    "        self.add(charges, efield)\n",
    "\n",
    "        def efield_updater(field):\n",
    "            t = t_tracker.get_value()\n",
    "            field.become(dipole.get_efield(t))\n",
    "\n",
    "        def charges_updater(charges):\n",
    "            t = t_tracker.get_value()\n",
    "            charges.become(dipole.get_charges(t))\n",
    "\n",
    "\n",
    "        t_tracker = ValueTracker(0)\n",
    "        charges.add_updater(charges_updater)\n",
    "        efield.add_updater(efield_updater)\n",
    "        self.play(t_tracker.animate.set_value(2*PI), rate_func = linear, run_time = 4)  "
   ]
  }
 ],
 "metadata": {
  "kernelspec": {
   "display_name": ".venv_per",
   "language": "python",
   "name": "python3"
  },
  "language_info": {
   "codemirror_mode": {
    "name": "ipython",
    "version": 3
   },
   "file_extension": ".py",
   "mimetype": "text/x-python",
   "name": "python",
   "nbconvert_exporter": "python",
   "pygments_lexer": "ipython3",
   "version": "3.12.3"
  }
 },
 "nbformat": 4,
 "nbformat_minor": 2
}
