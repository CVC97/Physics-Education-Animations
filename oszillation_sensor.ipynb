{
 "cells": [
  {
   "cell_type": "code",
   "execution_count": 2,
   "metadata": {},
   "outputs": [
    {
     "data": {
      "text/html": [
       "<pre style=\"white-space:pre;overflow-x:auto;line-height:normal;font-family:Menlo,'DejaVu Sans Mono',consolas,'Courier New',monospace\">Manim Community <span style=\"color: #008000; text-decoration-color: #008000\">v0.17.3</span>\n",
       "\n",
       "</pre>\n"
      ],
      "text/plain": [
       "Manim Community \u001b[32mv0.\u001b[0m\u001b[32m17.3\u001b[0m\n",
       "\n"
      ]
     },
     "metadata": {},
     "output_type": "display_data"
    },
    {
     "name": "stdout",
     "output_type": "stream",
     "text": [
      "Jupyter Capture Output v0.0.8\n"
     ]
    }
   ],
   "source": [
    "from manim import *\n",
    "from numpy import linalg as npl\n",
    "import matplotlib.pyplot as plt\n",
    "import jupyter_capture_output\n",
    "\n",
    "video_scene = \" -v WARNING --progress_bar None --disable_caching oszillation_Scene\"\n",
    "image_scene = f\" -v WARNING --progress_bar None --disable_caching -r {2*427},{2*240}  -s oszillation_Scene\""
   ]
  },
  {
   "cell_type": "code",
   "execution_count": 8,
   "metadata": {},
   "outputs": [
    {
     "name": "stdout",
     "output_type": "stream",
     "text": [
      "Output saved by overwring previous file at animations/oszillation_sensor/OS_HD.mp4.\n"
     ]
    },
    {
     "data": {
      "text/html": [
       "<video src=\"media/jupyter/oszillation_Scene@2023-08-13@13-55-41.mp4\" controls autoplay loop style=\"max-width: 60%;\"  >\n",
       "      Your browser does not support the <code>video</code> element.\n",
       "    </video>"
      ],
      "text/plain": [
       "<IPython.core.display.Video object>"
      ]
     },
     "metadata": {},
     "output_type": "display_data"
    }
   ],
   "source": [
    "%%capture_video --path \"animations/oszillation_sensor/OS_HD.mp4\"\n",
    "%%manim -qh --fps 60 $video_scene\n",
    "\n",
    "\n",
    "# Processing data\n",
    "A14_Schwingungssensor_fancy_pos_data = np.loadtxt(\"external_data/A14_Schwingungssensor_fancy_pos.csv\", delimiter = \",\", skiprows = 1)\n",
    "\n",
    "x1_array = 5 * A14_Schwingungssensor_fancy_pos_data[::10,1]\n",
    "y1_array = 5 * A14_Schwingungssensor_fancy_pos_data[::10,2] / 4\n",
    "\n",
    "x1_iter = iter(x1_array)\n",
    "y1_iter = iter(y1_array)\n",
    "x1_A_iter = iter(x1_array)\n",
    "y1_A_iter = iter(y1_array)\n",
    "x1_B_iter = iter(x1_array)\n",
    "y1_B_iter = iter(y1_array)\n",
    "\n",
    "\n",
    "# Force Field\n",
    "x0 = -5             # x-Position des 1. Aufhängpunktes\n",
    "x1 = 5              # x-Position des 2. Aufhängpunktes\n",
    "r0 = 5              # Ruhelänge\n",
    "k = 0.1             # Federkonstante\n",
    "smoothing_factor = 1e-10\n",
    "\n",
    "\n",
    "# Federmodell\n",
    "def Spring(start = UP, end = DOWN, tip_buff = 0.25, nodes = 20, k = 0.5):\n",
    "    spring_group = VGroup()\n",
    "    start[2], end[2] = 0, 0\n",
    "\n",
    "    # Extended Parameters\n",
    "    direction = (end - start) / npl.norm(end - start)\n",
    "    anti_direction = np.array([direction[1], -direction[0], direction[2]])\n",
    "    eff_start = start + tip_buff*direction\n",
    "    eff_end = end - tip_buff*direction\n",
    "    eff_length = npl.norm(eff_end - eff_start)\n",
    "    node_length = eff_length / nodes\n",
    "    node_deviance = k\n",
    "\n",
    "    # Hinzufügen einer Linie mit gegebenem Start- 'l_start' und Endpunkt 'l_end'\n",
    "    def spring_add_line(l_start, l_end):\n",
    "        spring_group.add(Line(l_start, l_end, color = WHITE, stroke_width = 4, stroke_opacity = 0.5))\n",
    "    \n",
    "    # Hinzufügen eines Punktes mit gegebener Koordinate 'pos'\n",
    "    def spring_add_dot(d_pos):\n",
    "        spring_group.add(Dot(d_pos, color = WHITE, radius = 0.02))\n",
    "\n",
    "    # Objects\n",
    "    spring_add_line(start, eff_start)               # start linie\n",
    "    spring_add_line(eff_end, end)                   # end line\n",
    "    spring_add_dot(eff_start)                       # start dot\n",
    "    spring_add_dot(eff_end)                         # end dot\n",
    "    spring_add_line(eff_start, eff_start + direction * node_length / 2 + anti_direction * node_deviance / 2)                                # first line\n",
    "    spring_add_dot(eff_start + direction * node_length / 2 + anti_direction * node_deviance / 2)                                            # first dot\n",
    "    spring_add_line(eff_start + direction * (nodes - 1/2) * node_length + (-1)**(nodes+1) * anti_direction * node_deviance / 2, eff_end)    # last line\n",
    "    for i in range(1, nodes):\n",
    "        spring_add_line(eff_start + direction * (i - 1/2) * node_length + (-1)**(i+1) * anti_direction * node_deviance / 2, eff_start + direction * (i + 1/2) * node_length + (-1)**(i) * anti_direction * node_deviance / 2)\n",
    "        spring_add_dot(eff_start + direction * (i + 1/2) * node_length + (-1)**(i) * anti_direction * node_deviance / 2)\n",
    "    return spring_group\n",
    "\n",
    "\n",
    "def F(pos):\n",
    "    pos = pos / 2 \n",
    "    pos[1] = pos[1] * 4\n",
    "    force_left = -k * ( (np.sqrt((pos[0]-x0)**2 + pos[1]**2) - r0) / (np.sqrt((pos[0]-x0)**2 + pos[1]**2) + smoothing_factor) ) * ((pos[0]-x0) * RIGHT + pos[1] * UP )\n",
    "    force_right = -k * ( (np.sqrt((pos[0]-x1)**2 + pos[1]**2) - r0) / (np.sqrt((pos[0]-x1)**2 + pos[1]**2) + smoothing_factor) ) * ((pos[0]-x1) * RIGHT + pos[1] * UP )\n",
    "    return force_left + force_right\n",
    "\n",
    "\n",
    "class oszillation_Scene(Scene):\n",
    "    def construct(self):\n",
    "        CVC = Text('CVC', font_size = 12, weight = BOLD, color = WHITE, font = 'Latin Modern Sans').align_on_border(RIGHT + DOWN, buff = 0.2)\n",
    "        self.add(CVC) \n",
    "\n",
    "\n",
    "        # Headline und Vektorfeld\n",
    "        text_oszi = Tex(r\"Schwingungssensor: $\\Vec{F}=m\\ddot{\\Vec{x}}=-k\\Vec{x}$ (Newton)\", font_size = 48).align_on_border(UP + LEFT, buff = 0.5).shift(0.5 * RIGHT)  \n",
    "        eq_field = Tex(\n",
    "            r\"$\\Vec{F}=-k\\left(1-\\frac{r_0}{\\sqrt{(x-x_1)^2+y^2}}\\right)\\begin{bmatrix} x-x_1 \\\\ y \\end{bmatrix}-k\\left(1-\\frac{r_0}{\\sqrt{(x-x_2)^2+y^2}}\\right)\\begin{bmatrix} x-x_2 \\\\ y \\end{bmatrix}$\", \n",
    "            color = WHITE, font_size = 32).align_on_border(DOWN + LEFT, buff = 0.5).shift(1.5 * RIGHT)  \n",
    "        avf = ArrowVectorField(\n",
    "            F, x_range = [-10, 10, 1], y_range = [-4, 4, 1], length_func = lambda x: 1*x, \n",
    "            colors = [WHITE], opacity = 0.375, vector_config = {'stroke_width': 2}).scale(0.5)\n",
    "\n",
    "\n",
    "        # Federparameter\n",
    "        spring_nodes = 20\n",
    "        spring_tip_buff = 0.25\n",
    "        spring_k = 0.5\n",
    "\n",
    "\n",
    "        # Masse mit Aufhängpunkten und Federn\n",
    "        mass1 = Circle(color = RED, radius = 0.1, fill_color = RED, fill_opacity = 0.75).move_to([x1_array[0], y1_array[0], 1])\n",
    "        mass1.z_index = 2\n",
    "        line_A = Line([-5, -2, 0], [-5, 2, 0], color = WHITE, stroke_width = 5)\n",
    "        line_B = Line([5, -2, 0], [5, 2, 0], color = WHITE, stroke_width = 5)\n",
    "        A = Dot([-5, 0, 0], color = RED, radius = 0.05)\n",
    "        B = Dot([5, 0, 0], color = RED, radius = 0.05)\n",
    "        connec_A = Spring(start = np.array([-5, 0, 0]), end = np.array([x1_array[0], y1_array[0], 0]), k = spring_k, tip_buff = spring_tip_buff, nodes = spring_nodes)\n",
    "        connec_B = Spring(start = np.array([5, 0, 0]), end = np.array([x1_array[0], y1_array[0], 0]), k = spring_k, tip_buff = spring_tip_buff, nodes = spring_nodes)\n",
    "\n",
    "        # connec_A = Line([-5, 0, 0], [x1_array[0], y1_array[0], 0], color = RED, stroke_width = 2)\n",
    "        # connec_B = Line([5, 0, 0], [x1_array[0], y1_array[0], 0], color = RED, stroke_width = 2)\n",
    "\n",
    "\n",
    "        # Updater für die Masse\n",
    "        def mass_updater(mass):\n",
    "            x_mass = next(x1_iter)\n",
    "            y_mass = next(y1_iter)\n",
    "            self.add(Line(start = mass.get_center(), end = [x_mass, y_mass, 0], stroke_width = 1, color = RED).set_opacity(0.5))\n",
    "            # connec_A.become(Line([-5, 0, 0], [x_mass, y_mass, 0], color = RED, stroke_width = 2))\n",
    "            # connec_B.become(Line([5, 0, 0], [x_mass, y_mass, 0], color = RED, stroke_width = 2))\n",
    "            mass.move_to([x_mass, y_mass, 0])\n",
    "\n",
    "\n",
    "        # Updater für Feder A\n",
    "        def spring_A_updater(spring):\n",
    "            x_mass = next(x1_A_iter)\n",
    "            y_mass = next(y1_A_iter)\n",
    "            connec_A.become(Spring(start = np.array([-5, 0, 0]), end = np.array([x_mass, y_mass, 0]), k = spring_k, tip_buff = spring_tip_buff, nodes = spring_nodes))\n",
    "\n",
    "\n",
    "        # Updater für Feder B\n",
    "        def spring_B_updater(spring):\n",
    "            x_mass = next(x1_B_iter)\n",
    "            y_mass = next(y1_B_iter)\n",
    "            connec_B.become(Spring(start = np.array([5, 0, 0]), end = np.array([x_mass, y_mass, 0]), k = spring_k, tip_buff = spring_tip_buff, nodes = spring_nodes))\n",
    "\n",
    "\n",
    "        # self.add(text_oszi, eq_field, avf, line_A, line_B, A, B, mass1)\n",
    "\n",
    "        self.play(Write(text_oszi), run_time = 1.5)\n",
    "        self.wait(0.5)\n",
    "        self.play(FadeIn(line_A), FadeIn(line_B), FadeIn(mass1), FadeIn(connec_A), FadeIn(connec_B), FadeIn(A), FadeIn(B), run_time = 3)\n",
    "        self.wait(0.5)\n",
    "        self.play(Write(eq_field), Create(avf), run_time = 3)\n",
    "        self.wait(1.5)\n",
    "\n",
    "        mass1.add_updater(mass_updater)\n",
    "        connec_A.add_updater(spring_A_updater)\n",
    "        connec_B.add_updater(spring_B_updater)\n",
    "\n",
    "        timeline = ValueTracker(0)\n",
    "        self.play(timeline.animate.set_value(10), rate_func = linear, run_time = 20)\n",
    "        self.wait(5)"
   ]
  }
 ],
 "metadata": {
  "kernelspec": {
   "display_name": "Python 3",
   "language": "python",
   "name": "python3"
  },
  "language_info": {
   "codemirror_mode": {
    "name": "ipython",
    "version": 3
   },
   "file_extension": ".py",
   "mimetype": "text/x-python",
   "name": "python",
   "nbconvert_exporter": "python",
   "pygments_lexer": "ipython3",
   "version": "3.10.12"
  },
  "orig_nbformat": 4
 },
 "nbformat": 4,
 "nbformat_minor": 2
}
