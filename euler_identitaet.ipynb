{
 "cells": [
  {
   "cell_type": "code",
   "execution_count": 1,
   "metadata": {},
   "outputs": [
    {
     "data": {
      "text/html": [
       "<pre style=\"white-space:pre;overflow-x:auto;line-height:normal;font-family:Menlo,'DejaVu Sans Mono',consolas,'Courier New',monospace\">Manim Community <span style=\"color: #008000; text-decoration-color: #008000\">v0.17.3</span>\n",
       "\n",
       "</pre>\n"
      ],
      "text/plain": [
       "Manim Community \u001b[32mv0.\u001b[0m\u001b[32m17.3\u001b[0m\n",
       "\n"
      ]
     },
     "metadata": {},
     "output_type": "display_data"
    },
    {
     "name": "stdout",
     "output_type": "stream",
     "text": [
      "Jupyter Capture Output v0.0.8\n"
     ]
    }
   ],
   "source": [
    "from manim import *\n",
    "from numpy import linalg as npl\n",
    "import math\n",
    "import matplotlib.pyplot as plt\n",
    "import jupyter_capture_output\n",
    "\n",
    "video_scene = \" -v WARNING --progress_bar None --disable_caching euler_Scene\"\n",
    "image_scene = f\" -v WARNING --progress_bar None --disable_caching -r {2*427},{2*240}  -s euler_Scene\""
   ]
  },
  {
   "cell_type": "code",
   "execution_count": 2,
   "metadata": {},
   "outputs": [],
   "source": [
    "def get_gauss(phi):\n",
    "    return 2*np.cos(phi) + 2*np.sin(phi)*1j\n",
    "\n",
    "def parametric_e_i_ph(phi):\n",
    "    return 2*np.cos(phi), 2*np.sin(phi)"
   ]
  },
  {
   "cell_type": "code",
   "execution_count": 80,
   "metadata": {},
   "outputs": [
    {
     "name": "stdout",
     "output_type": "stream",
     "text": [
      "Output saved by overwring previous file at animations/euler/Euler_HD.mp4.\n"
     ]
    },
    {
     "data": {
      "text/html": [
       "<video src=\"media/jupyter/euler_Scene@2023-08-11@13-00-05.mp4\" controls autoplay loop style=\"max-width: 60%;\"  >\n",
       "      Your browser does not support the <code>video</code> element.\n",
       "    </video>"
      ],
      "text/plain": [
       "<IPython.core.display.Video object>"
      ]
     },
     "metadata": {},
     "output_type": "display_data"
    }
   ],
   "source": [
    "%%capture_video --path \"animations/euler/Euler_HD.mp4\"\n",
    "%%manim -qh --fps 60 $video_scene\n",
    "\n",
    "class euler_Scene(Scene):\n",
    "    def construct(self):\n",
    "        CVC = Text('CVC', font_size = 12, weight = BOLD, color = WHITE, font = 'Latin Modern Sans').align_on_border(RIGHT + DOWN, buff = 0.2)\n",
    "        self.add(CVC)\n",
    "\n",
    "\n",
    "        # Euler-Headline\n",
    "        text_euler = Tex(r\"Euler-Identität: $e^{i\\varphi}=\\cos(\\varphi)+i\\sin(\\varphi)$:\", font_size = 48).align_on_border(UP + LEFT, buff = 0.5).shift(0.5 * RIGHT)\n",
    "        text_euler[0][21:27].set_color(RED)\n",
    "        text_euler[0][28:35].set_color(BLUE)\n",
    "        exp_box = SurroundingRectangle(text_euler[0][17:20], buff = .1, color = WHITE)\n",
    "        real_box = SurroundingRectangle(text_euler[0][21:27], buff = .1, color = RED)\n",
    "        imag_box = SurroundingRectangle(text_euler[0][28:35], buff = .1, color = BLUE)\n",
    "\n",
    "        text_a = Tex(r'(a) Gaußsche Zahlenebene:', font_size = 32).move_to([-4.25, 2, 0])\n",
    "        text_b = Tex(r'(b) komplexe Darstellung des Kosinus:', font_size = 32).move_to([2.25, 2, 0])\n",
    "\n",
    "\n",
    "        # Coordinate System a: Gaußebene\n",
    "        origin_a = [-3.75, -1, 0]\n",
    "\n",
    "        x_range_a = [-2.5, 2.5, 1]\n",
    "        y_range_a = [-2.5, 2.5, 1]\n",
    "\n",
    "        x_length_a = 4\n",
    "        y_length_a = 4\n",
    "\n",
    "        npla_a = ComplexPlane(\n",
    "            x_range = x_range_a, y_range = y_range_a, x_length = x_length_a, y_length = y_length_a, \n",
    "            axis_config = {\"include_numbers\": False, \"stroke_opacity\": 0.25}, background_line_style = {\"stroke_opacity\": 0.25}, ).move_to(origin_a)#.add_coordinates()\n",
    "        npla_a_xlabel = npla_a.get_x_axis_label(Tex(r\"$\\mathbb{R}$\", font_size = 32)).shift(0.4*DOWN)\n",
    "        npla_a_ylabel = npla_a.get_y_axis_label(Tex(r\"$i\\mathbb{R}$\", font_size = 32))\n",
    "        npla_a_group = VGroup(npla_a, npla_a_xlabel, npla_a_ylabel)\n",
    "\n",
    "        # komplexer Punkt\n",
    "        e_to_power_iphi = npla_a.plot_parametric_curve(parametric_e_i_ph, color = GREY, stroke_width = 2, t_range = [0, 2*PI], stroke_opacity = 0.75)\n",
    "        complex_arrow = Line(npla_a.n2p(0), npla_a.n2p(get_gauss(PI/6)), color = WHITE, stroke_width = 2).add_tip(tip_length = 0.15, tip_width = 0.1)\n",
    "        e_angle = Arc(radius = 1.0, start_angle = 0, angle = PI/6, stroke_width = 2, arc_center = npla_a.n2p(0))\n",
    "        e_angle_text = Tex(r'$\\varphi$', font_size = 32, color = WHITE).move_to(npla_a.n2p(0)).shift(UP * 0.175 + RIGHT * 0.75)\n",
    "        e_angle_group = VGroup(e_angle, e_angle_text)\n",
    "\n",
    "        line_real = DashedLine(npla_a.n2p(np.imag(get_gauss(PI/6))*1j), npla_a.n2p(get_gauss(PI/6)), color = RED, stroke_width = 2, stroke_opacity = 1)\n",
    "        line_imag = DashedLine(npla_a.n2p(np.real(get_gauss(PI/6))), npla_a.n2p(get_gauss(PI/6)), color = BLUE, stroke_width = 2, stroke_opacity = 1)#.add_tip(tip_length = 0.15, tip_width = 0.1)\n",
    "        real_brace = Brace(line_real, color = RED, direction = np.array([0, 1, 0]), buff = 0.1, sharpness = 2)\n",
    "        imag_brace = Brace(line_imag, color = BLUE, direction = np.array([1, 0, 0]), buff = 0.1, sharpness = 2)\n",
    "        real_text = Tex(r'Re($e^{i\\varphi}$)', font_size = 32, color = RED).next_to(real_brace, UP / 2)\n",
    "        imag_text = Tex(r'Im($e^{i\\varphi}$)', font_size = 32, color = BLUE).next_to(imag_brace, RIGHT / 2)\n",
    "        real_a_group = VGroup(real_brace, real_text)\n",
    "        imag_a_group = VGroup(imag_brace, imag_text)\n",
    "\n",
    "        # Arrow-Updater\n",
    "        def arrow_updater(arrow):\n",
    "            phi = phi_tracker.get_value()\n",
    "            arrow.become(Line(npla_a.n2p(0), npla_a.n2p(get_gauss(phi)), color = WHITE, stroke_width = 2).add_tip(tip_length = 0.15, tip_width = 0.1))\n",
    "            line_real.become(DashedLine(npla_a.n2p(np.imag(get_gauss(phi))*1j), npla_a.n2p(get_gauss(phi)), color = RED, stroke_width = 2, stroke_opacity = 1))\n",
    "            line_imag.become(DashedLine(npla_a.n2p(np.real(get_gauss(phi))), npla_a.n2p(get_gauss(phi)), color = BLUE, stroke_width = 2, stroke_opacity = 1))\n",
    "\n",
    "\n",
    "        # Coordinate System b: Polardarstellung Kosinus\n",
    "        origin_b = [3, -1, 0]\n",
    "\n",
    "        x_range_b = [-0.5, 8.5, 1]\n",
    "        y_range_b = [-2.5, 2.5, 1]\n",
    "\n",
    "        x_length_b = 6\n",
    "        y_length_b = 4\n",
    "\n",
    "        npla_b = ComplexPlane(\n",
    "            x_range = x_range_b, y_range = y_range_b, x_length = x_length_b, y_length = y_length_b, \n",
    "            axis_config = {\"include_numbers\": False, \"stroke_opacity\": 0.25}, background_line_style = {\"stroke_opacity\": 0.25}, ).move_to(origin_b)#.add_coordinates()\n",
    "        npla_b_xlabel = npla_b.get_x_axis_label(Tex(r\"t\", font_size = 32)).shift(0.4*DOWN)\n",
    "        npla_b_ylabel = npla_b.get_y_axis_label(Tex(r\"$\\mathbb{R}$\", font_size = 32))\n",
    "        npla_b_group = VGroup(npla_b, npla_b_xlabel, npla_b_ylabel)\n",
    "\n",
    "        # Oszillation Realteil\n",
    "        real_func = npla_b.plot(lambda phi: 2*np.cos(phi*PI/2), color = RED, stroke_width = 1.5, stroke_opacity = 1, x_range = [0, 2/6])\n",
    "        real_line_func = DashedLine(npla_b.c2p(2/6, 0), npla_b.c2p(2/6, 2*np.cos(2/6*PI/2)), color = RED, stroke_width = 2, stroke_opacity = 1)\n",
    "        real_func_brace = Brace(real_line_func, color = RED, direction = np.array([1, 0, 0]), buff = 0.1, sharpness = 2)\n",
    "        real_func_text = Tex(r'Re($e^{i\\varphi}$)', font_size = 32, color = RED).next_to(real_func_brace, RIGHT / 2)\n",
    "\n",
    "        # Func Updater\n",
    "        def func_updater(func):\n",
    "            phi_track = phi_tracker.get_value() / PI * 2\n",
    "            real_func_new = npla_b.plot(lambda phi: 2*np.cos(phi*PI/2), color = RED, stroke_width = 1.5, stroke_opacity = 1, x_range = [0, phi_track])\n",
    "            real_line_func_new = DashedLine(npla_b.c2p(phi_track, 0), npla_b.c2p(phi_track, 2*np.cos(phi_track*PI/2)), color = RED, stroke_width = 2, stroke_opacity = 1)\n",
    "            func.become(real_func_new)\n",
    "            real_line_func.become(real_line_func_new)\n",
    "\n",
    "\n",
    "        # self.add(text_euler, text_a, text_b)\n",
    "        # self.add(real_box, imag_box)\n",
    "        # self.add(npla_a_group, e_to_power_iphi, complex_arrow)\n",
    "        # self.add(line_real, line_imag)\n",
    "        # self.add(npla_b_group)\n",
    "        # self.add(real_func, real_line_func)\n",
    "        # self.add(e_angle_group)\n",
    "        #self.add(real_func, real_line_func)\n",
    "\n",
    "        # Animation\n",
    "        self.play(Write(text_euler), run_time = 3)\n",
    "        self.wait(0.5)\n",
    "        self.play(Write(text_a), FadeIn(npla_a_group), run_time = 3)\n",
    "        self.wait(0.5)\n",
    "        self.play(Create(e_to_power_iphi), run_time = 1.5)\n",
    "        self.wait(0.5)\n",
    "        self.play(Create(exp_box), run_time = 1.5)\n",
    "        self.play(TransformFromCopy(exp_box, complex_arrow), run_time = 1.5)\n",
    "        self.wait(0.5)\n",
    "        self.play(FadeIn(e_angle_group), run_time = 1.5)\n",
    "        self.wait(0.5)\n",
    "        self.play(Uncreate(exp_box), run_time = 1.5)\n",
    "        self.wait(0.5)\n",
    "        self.play(Create(real_box), run_time = 1.5)\n",
    "        self.play(TransformFromCopy(real_box, real_brace), FadeIn(line_real), FadeIn(real_text), run_time = 1.5)\n",
    "        self.wait(0.5)\n",
    "        self.play(Uncreate(real_box))\n",
    "        self.wait(0.5)\n",
    "        self.play(Create(imag_box), run_time = 1.5)\n",
    "        self.play(TransformFromCopy(imag_box, imag_a_group), FadeIn(line_imag), run_time = 1.5)\n",
    "        self.wait(0.5)\n",
    "        self.play(Uncreate(imag_box))\n",
    "        self.wait(3)\n",
    "        self.play(Write(text_b), FadeIn(npla_b_group), run_time = 3)\n",
    "        self.wait(0.5)\n",
    "        self.play(Create(real_func), TransformFromCopy(line_real, real_line_func), TransformFromCopy(real_brace, real_func_brace), TransformFromCopy(real_text, real_func_text), run_time = 3)\n",
    "        self.wait(1.5)\n",
    "        self.play(FadeOut(real_brace), FadeOut(real_func_brace), FadeOut(real_text), FadeOut(real_func_text), FadeOut(imag_text), FadeOut(imag_brace), FadeOut(e_angle_group), run_time = 3)\n",
    "        self.wait(0.5)\n",
    "\n",
    "        complex_arrow.add_updater(arrow_updater)\n",
    "        real_func.add_updater(func_updater)\n",
    "\n",
    "        phi_tracker = ValueTracker(PI/6)\n",
    "        #self.play(phi_tracker.animate.set_value(PI/6), rate_func= smooth, run_time = 3.5)\n",
    "        self.play(phi_tracker.animate.set_value(4*PI), rate_func= smooth, run_time = 10)\n",
    "        self.wait(5)"
   ]
  }
 ],
 "metadata": {
  "kernelspec": {
   "display_name": "Python 3",
   "language": "python",
   "name": "python3"
  },
  "language_info": {
   "codemirror_mode": {
    "name": "ipython",
    "version": 3
   },
   "file_extension": ".py",
   "mimetype": "text/x-python",
   "name": "python",
   "nbconvert_exporter": "python",
   "pygments_lexer": "ipython3",
   "version": "3.10.12"
  },
  "orig_nbformat": 4
 },
 "nbformat": 4,
 "nbformat_minor": 2
}
