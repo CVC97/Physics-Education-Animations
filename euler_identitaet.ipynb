{
 "cells": [
  {
   "cell_type": "code",
   "execution_count": 2,
   "metadata": {},
   "outputs": [
    {
     "data": {
      "text/html": [
       "<pre style=\"white-space:pre;overflow-x:auto;line-height:normal;font-family:Menlo,'DejaVu Sans Mono',consolas,'Courier New',monospace\">Manim Community <span style=\"color: #008000; text-decoration-color: #008000\">v0.16.0.post0</span>\n",
       "\n",
       "</pre>\n"
      ],
      "text/plain": [
       "Manim Community \u001b[32mv0.\u001b[0m\u001b[32m16.0\u001b[0m\u001b[32m.post0\u001b[0m\n",
       "\n"
      ]
     },
     "metadata": {},
     "output_type": "display_data"
    },
    {
     "name": "stdout",
     "output_type": "stream",
     "text": [
      "Jupyter Capture Output v0.0.8\n"
     ]
    }
   ],
   "source": [
    "from manim import *\n",
    "from numpy import linalg as npl\n",
    "import math\n",
    "import matplotlib.pyplot as plt\n",
    "import jupyter_capture_output\n",
    "\n",
    "video_scene = \" -v WARNING --progress_bar None --disable_caching euler_Scene\"\n",
    "image_scene = f\" -v WARNING --progress_bar None --disable_caching -r {2*427},{2*240}  -s euler_Scene\""
   ]
  },
  {
   "cell_type": "code",
   "execution_count": 47,
   "metadata": {},
   "outputs": [],
   "source": [
    "def get_gauss(phi):\n",
    "    return np.cos(phi) + np.sin(phi)*1j\n",
    "\n",
    "def parametric_e_i_ph(phi):\n",
    "    return np.cos(phi), np.sin(phi)"
   ]
  },
  {
   "cell_type": "code",
   "execution_count": 62,
   "metadata": {},
   "outputs": [
    {
     "name": "stdout",
     "output_type": "stream",
     "text": [
      "Output saved by overwring previous file at animations/euler/euler.mp4.\n"
     ]
    },
    {
     "data": {
      "text/html": [
       "<video src=\"media/jupyter/euler_Scene@2023-05-06@20-34-13.mp4\" controls autoplay loop style=\"max-width: 60%;\"  >\n",
       "      Your browser does not support the <code>video</code> element.\n",
       "    </video>"
      ],
      "text/plain": [
       "<IPython.core.display.Video object>"
      ]
     },
     "metadata": {},
     "output_type": "display_data"
    }
   ],
   "source": [
    "%%capture_video --path \"animations/euler/euler.mp4\"\n",
    "%%manim -qm --fps 60 $video_scene\n",
    "\n",
    "class euler_Scene(Scene):\n",
    "    def construct(self):\n",
    "        CVC = Text('CVC', font_size = 12, weight = BOLD, color = WHITE, font = 'Latin Modern Sans').align_on_border(RIGHT + DOWN, buff = 0.2)\n",
    "        self.add(CVC)\n",
    "        phi_tracker = ValueTracker(PI/8)\n",
    "\n",
    "\n",
    "        # Euler-Headline\n",
    "        text_euler = Tex(r\"Euler-Identität: $e^{i\\varphi}=\\cos(\\varphi)+i\\sin(\\varphi)$:\", font_size = 48).align_on_border(UP + LEFT, buff = 0.5).shift(RIGHT)\n",
    "        \n",
    "\n",
    "\n",
    "        # Coordinate System\n",
    "        origin = [-2.5, -0.5, 0]\n",
    "\n",
    "        x_range = [-1.25, 1.25, 1]\n",
    "        y_range = [-1.25, 1.25, 1]\n",
    "\n",
    "        x_length = 5.5\n",
    "        y_length = 5.5\n",
    "\n",
    "        npla = ComplexPlane(\n",
    "            x_range = x_range, y_range = y_range, x_length = x_length, y_length = y_length, \n",
    "            axis_config = {\"include_numbers\": False, \"stroke_opacity\": 0.25}, background_line_style = {\"stroke_opacity\": 0.25}, ).move_to(origin).add_coordinates()\n",
    "\n",
    "        e_to_power_iphi = npla.plot_parametric_curve(parametric_e_i_ph, color = WHITE, stroke_width = 1, t_range = [0, 2*PI])\n",
    "        complex_arrow = Line(npla.n2p(0), npla.n2p(get_gauss(PI/8)), color = RED, stroke_width = 2).add_tip(tip_length = 0.15, tip_width = 0.1)#.set_opacity(0.5) \n",
    "\n",
    "        # Arrow-Updater\n",
    "        def arrow_updater(arrow):\n",
    "            phi = phi_tracker.get_value()\n",
    "            arrow.become(Line(npla.n2p(0), npla.n2p(get_gauss(phi)), color = RED, stroke_width = 2).add_tip(tip_length = 0.15, tip_width = 0.1))\n",
    "\n",
    "\n",
    "        # Animation\n",
    "        self.play(Write(text_euler), run_time = 3)\n",
    "        self.wait(0.5)\n",
    "        self.play(FadeIn(npla), run_time = 3)\n",
    "        self.wait(0.5)\n",
    "        self.play(Create(e_to_power_iphi), run_time = 2)\n",
    "        self.wait(1.5)\n",
    "        self.play(FadeIn(complex_arrow), run_time = 3)\n",
    "        complex_arrow.add_updater(arrow_updater)\n",
    "\n",
    "        self.play(phi_tracker.animate.set_value(PI), rate_func= smooth, run_time = 3.5)\n",
    "        self.play(phi_tracker.animate.set_value(2*PI), rate_func= smooth, run_time = 4)\n",
    "        self.wait(3)"
   ]
  }
 ],
 "metadata": {
  "kernelspec": {
   "display_name": "Python 3",
   "language": "python",
   "name": "python3"
  },
  "language_info": {
   "codemirror_mode": {
    "name": "ipython",
    "version": 3
   },
   "file_extension": ".py",
   "mimetype": "text/x-python",
   "name": "python",
   "nbconvert_exporter": "python",
   "pygments_lexer": "ipython3",
   "version": "3.10.6"
  },
  "orig_nbformat": 4
 },
 "nbformat": 4,
 "nbformat_minor": 2
}
