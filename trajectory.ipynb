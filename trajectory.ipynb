{
 "cells": [
  {
   "cell_type": "code",
   "execution_count": 2,
   "metadata": {},
   "outputs": [
    {
     "data": {
      "text/html": [
       "<pre style=\"white-space:pre;overflow-x:auto;line-height:normal;font-family:Menlo,'DejaVu Sans Mono',consolas,'Courier New',monospace\">Manim Community <span style=\"color: #008000; text-decoration-color: #008000\">v0.16.0.post0</span>\n",
       "\n",
       "</pre>\n"
      ],
      "text/plain": [
       "Manim Community \u001b[32mv0.\u001b[0m\u001b[32m16.0\u001b[0m\u001b[32m.post0\u001b[0m\n",
       "\n"
      ]
     },
     "metadata": {},
     "output_type": "display_data"
    },
    {
     "name": "stdout",
     "output_type": "stream",
     "text": [
      "Jupyter Capture Output v0.0.8\n"
     ]
    }
   ],
   "source": [
    "from manim import *\n",
    "from numpy import linalg as npl\n",
    "import matplotlib.pyplot as plt\n",
    "import jupyter_capture_output\n",
    "from scipy.interpolate import make_interp_spline, BSpline\n",
    "\n",
    "video_scene = \" -v WARNING --progress_bar None --disable_caching traj_Scene\"\n",
    "image_scene = f\" -v WARNING --progress_bar None --disable_caching -r {2*427},{2*240}  -s traj_Scene\""
   ]
  },
  {
   "cell_type": "code",
   "execution_count": 3,
   "metadata": {},
   "outputs": [
    {
     "data": {
      "image/png": "[encoded data removed]",
      "text/plain": [
       "<Figure size 640x480 with 1 Axes>"
      ]
     },
     "metadata": {},
     "output_type": "display_data"
    }
   ],
   "source": [
    "def traj1(t):\n",
    "    x = 1 * np.cos(t-1.5)\n",
    "    y = 2.5 * np.sin(t-2) \n",
    "    return np.array([x, y])\n",
    "\n",
    "t = np.linspace(0, 2*PI, 50)\n",
    "\n",
    "fig, ax = plt.subplots()\n",
    "\n",
    "ax.plot(traj1(t)[0], traj1(t)[1], color = 'red', alpha = 0.5, linestyle = '--')\n",
    "\n",
    "ax.set_xlabel('$x$')\n",
    "ax.set_ylabel('$y$')\n",
    "\n",
    "plt.grid()\n",
    "plt.show()"
   ]
  },
  {
   "cell_type": "code",
   "execution_count": 4,
   "metadata": {},
   "outputs": [
    {
     "name": "stdout",
     "output_type": "stream",
     "text": [
      "Output saved by overwring previous file at animations/trajectory/trajectory.mp4.\n"
     ]
    },
    {
     "data": {
      "text/html": [
       "<video src=\"media/jupyter/traj_Scene@2022-11-18@13-14-09.mp4\" controls autoplay loop style=\"max-width: 60%;\"  >\n",
       "      Your browser does not support the <code>video</code> element.\n",
       "    </video>"
      ],
      "text/plain": [
       "<IPython.core.display.Video object>"
      ]
     },
     "metadata": {},
     "output_type": "display_data"
    }
   ],
   "source": [
    "%%capture_video --path \"animations/trajectory/trajectory.mp4\"\n",
    "%%manim -qk --fps 60 $video_scene\n",
    "\n",
    "class traj_Scene(Scene):\n",
    "    def construct(self):\n",
    "        CVC = Text('CVC', font_size = 12, weight = BOLD, color = WHITE, font = 'Latin Modern Sans').align_on_border(RIGHT + DOWN, buff = 0.2)\n",
    "        self.add(CVC)\n",
    "        time = ValueTracker(0)\n",
    "\n",
    "        # Coordinates\n",
    "        cart_base = np.array([-5, 2, 0])\n",
    "        rad_base = np.array([-5, -2, 0])\n",
    "\n",
    "        ax1_base = np.array([-0.5, 2, 0])\n",
    "        ax2_base = np.array([4.5, 2, 0])\n",
    "        ax3_base = np.array([-0.5, -2, 0])\n",
    "        ax4_base = np.array([4.5, -2, 0])\n",
    "\n",
    "\n",
    "        # Coordinate Systems\n",
    "        npla = NumberPlane(\n",
    "            x_range = [-3, 3, 1], y_range = [-3, 3, 1], x_length = 3, y_length = 3, \n",
    "            axis_config = {\"include_numbers\": False, \"stroke_opacity\": 0.25}, background_line_style = {\"stroke_opacity\": 0.25}).move_to(cart_base)\n",
    "        ppla = PolarPlane(\n",
    "            radius_max = 3, size = 3, tips = True,\n",
    "            x_axis_config = {\"stroke_opacity\": 0.25}, y_axis_config = {\"stroke_opacity\": 0.25}, background_line_style = {\"stroke_opacity\": 0.25}).move_to(rad_base)\n",
    "\n",
    "        phi_dict = dict(zip([-2, -1, 0, 1, 2], [r'$-2\\pi$', r'$-\\pi$', 0, r'$\\pi$', r'$2\\pi$'])) \n",
    "        x_range = [0, 2.25*PI, PI/4]\n",
    "\n",
    "        x_dict = dict(zip([PI/2, PI, 3/2*PI, 2*PI], [1, 2, 3, 4]))\n",
    "        y_dict = dict(zip([-2, -1, 0, 1, 2], [-2, -1, 0, 1, 2]))\n",
    "\n",
    "        ax1_ax = Axes(x_range = x_range, y_range = [-3, 3, 1], x_length = 8, y_length = 6).move_to(ax1_base).add_coordinates(x_dict, y_dict).scale(0.5)\n",
    "        ax1_xlabel = ax1_ax.get_x_axis_label(Text(\"t\")).scale(0.4)\n",
    "        ax1_ylabel = ax1_ax.get_y_axis_label(Text(\"y\")).scale(0.4)\n",
    "        ax1 = VGroup(ax1_ax, ax1_xlabel, ax1_ylabel)\n",
    "\n",
    "        ax2_ax = Axes(x_range = x_range, y_range = [-3, 3, 1], x_length = 8, y_length = 6).move_to(ax2_base).add_coordinates(x_dict, y_dict).scale(0.5)\n",
    "        ax2_xlabel = ax2_ax.get_x_axis_label(Text(\"t\")).scale(0.4)\n",
    "        ax2_ylabel = ax2_ax.get_y_axis_label(Text(\"x\")).scale(0.4)\n",
    "        ax2 = VGroup(ax2_ax, ax2_xlabel, ax2_ylabel)\n",
    "\n",
    "        ax3_ax = Axes(x_range = x_range, y_range = [-3, 3, 1], x_length = 8, y_length = 6).move_to(ax3_base).add_coordinates(x_dict, y_dict).scale(0.5)\n",
    "        ax3_xlabel = ax3_ax.get_x_axis_label(Text(\"t\")).scale(0.4)\n",
    "        ax3_ylabel = ax3_ax.get_y_axis_label(Text(\"r\")).scale(0.4)\n",
    "        ax3 = VGroup(ax3_ax, ax3_xlabel, ax3_ylabel)\n",
    "\n",
    "        ax4_ax = Axes(x_range = x_range, y_range = [-3, 3, 1], x_length = 8, y_length = 6).move_to(ax4_base).add_coordinates(x_dict, phi_dict).scale(0.5)\n",
    "        ax4_xlabel = ax4_ax.get_x_axis_label(Text(\"t\")).scale(0.4)\n",
    "        ax4_ylabel = ax4_ax.get_y_axis_label(Tex(r'$\\varphi$')).scale(0.6)\n",
    "        ax4 = VGroup(ax4_ax, ax4_xlabel, ax4_ylabel)\n",
    "        \n",
    "\n",
    "        # Points\n",
    "        npp = Dot(npla.coords_to_point(traj1(0)[0], traj1(0)[1]), color = RED, radius = 0.05)  \n",
    "        ppp = Dot(ppla.coords_to_point(traj1(0)[0], traj1(0)[1]), color = RED, radius = 0.05)\n",
    "\n",
    "        ax1_dot = Dot(ax1_ax.coords_to_point(0, traj1(0)[1]), color = RED, radius = 0.05)\n",
    "        ax2_dot = Dot(ax2_ax.coords_to_point(0, traj1(0)[0]), color = RED, radius = 0.05)\n",
    "        ax3_dot = Dot(ax3_ax.coords_to_point(0, np.linalg.norm(traj1(0))), color = RED, radius = 0.05)\n",
    "        ax4_dot = Dot(ax4_ax.coords_to_point(0, ((np.arctan2(traj1(0)[1], traj1(0)[0])+2*PI) % (2*PI) ) / PI), color = RED, radius = 0.05)\n",
    "\n",
    "        def dot_np_updater(dot):\n",
    "            t = time.get_value()\n",
    "            self.add(Line(start = dot.get_center(), end = npla.coords_to_point(traj1(t)[0], traj1(t)[1]), color = RED).set_opacity(0.25))\n",
    "            dot.move_to(npla.coords_to_point(traj1(t)[0], traj1(t)[1]))\n",
    "\n",
    "        def dot_pp_updater(dot):\n",
    "            t = time.get_value()\n",
    "            self.add(Line(start = dot.get_center(), end = ppla.coords_to_point(traj1(t)[0], traj1(t)[1]), color = RED).set_opacity(0.25))\n",
    "            dot.move_to(ppla.coords_to_point(traj1(t)[0], traj1(t)[1]))\n",
    "\n",
    "        def ax1_dot_updater(ax_dot):\n",
    "            t = time.get_value()\n",
    "            if t != 0:\n",
    "                self.add(Line(start = ax_dot.get_center(), end = ax1_ax.coords_to_point(t, traj1(t)[1])).set_opacity(0.25))\n",
    "            ax_dot.move_to(ax1_ax.coords_to_point(t, traj1(t)[1]))\n",
    "\n",
    "        def ax2_dot_updater(ax_dot):\n",
    "            t = time.get_value()\n",
    "            if t != 0:\n",
    "                self.add(Line(start = ax_dot.get_center(), end = ax2_ax.coords_to_point(t, traj1(t)[0])).set_opacity(0.25))\n",
    "            ax_dot.move_to(ax2_ax.coords_to_point(t, traj1(t)[0]))\n",
    "\n",
    "        def ax3_dot_updater(ax_dot):\n",
    "            t = time.get_value()\n",
    "            if t != 0:\n",
    "                self.add(Line(start = ax_dot.get_center(), end = ax3_ax.coords_to_point(t, np.linalg.norm(traj1(t)))).set_opacity(0.25))\n",
    "            ax_dot.move_to(ax3_ax.coords_to_point(t, np.linalg.norm(traj1(t))))\n",
    "\n",
    "        def ax4_dot_updater(ax_dot):\n",
    "            t = time.get_value()\n",
    "            if t != 0:\n",
    "                self.add(Line(start = ax_dot.get_center(), end = ax4_ax.coords_to_point(t, ((np.arctan2(traj1(t)[1], traj1(t)[0]) + 2*PI) % (2*PI) ) / PI)).set_opacity(0.25))\n",
    "            ax_dot.move_to(ax4_ax.coords_to_point(t, ((np.arctan2(traj1(t)[1], traj1(t)[0]) + 2*PI) % (2*PI) ) / PI))\n",
    "        \n",
    "\n",
    "        # Lines\n",
    "        cart_lines = npla.get_lines_to_point(npla.c2p(traj1(0)[0], traj1(0)[1])).set_color(RED)\n",
    "        rad_line = DashedLine(ppla.pr2pt(0, 0), ppla.pr2pt(traj1(0)[0], traj1(0)[1]), color = RED, stroke_width = 2)\n",
    "        arc = Arc(arc_center = rad_base, radius = np.linalg.norm(traj1(0)) / 2, angle = (np.arctan2(traj1(0)[1], traj1(0)[0]) + 2*PI) % (2*PI), color = RED)\n",
    "\n",
    "        def cart_line_updater(line):\n",
    "            t = time.get_value()\n",
    "            line.become(npla.get_lines_to_point(npla.c2p(traj1(t)[0], traj1(t)[1])).set_color(RED))\n",
    "\n",
    "        def rad_line_updater(line):\n",
    "            t = time.get_value()\n",
    "            line.become(DashedLine(start = rad_base, end = ppla.coords_to_point(traj1(t)[0], traj1(t)[1]), color = RED, stroke_width = 2))\n",
    "\n",
    "        def arc_updater(line):\n",
    "            t = time.get_value()\n",
    "            line.become(Arc(arc_center = rad_base, radius = np.linalg.norm(traj1(t)) / 2, angle = (np.arctan2(traj1(t)[1], traj1(t)[0]) + 2*PI) % (2*PI), color = RED))\n",
    "\n",
    "\n",
    "        # Play \n",
    "        self.play(FadeIn(npla), FadeIn(ppla), FadeIn(npp), FadeIn(ppp), FadeIn(cart_lines), FadeIn(rad_line), Create(ax1), Create(ax2), Create(ax3), Create(ax4), run_time = 3)\n",
    "        self.play(Create(ax1_dot), Create(ax2_dot), Create(ax3_dot), Create(ax4_dot))#, Create(arc))\n",
    "\n",
    "        npp.add_updater(dot_np_updater)\n",
    "        ppp.add_updater(dot_pp_updater)\n",
    "\n",
    "        ax1_dot.add_updater(ax1_dot_updater)\n",
    "        ax2_dot.add_updater(ax2_dot_updater)\n",
    "        ax3_dot.add_updater(ax3_dot_updater)\n",
    "        ax4_dot.add_updater(ax4_dot_updater)\n",
    "\n",
    "        cart_lines.add_updater(cart_line_updater)\n",
    "        rad_line.add_updater(rad_line_updater)\n",
    "        #arc.add_updater(arc_updater)\n",
    "\n",
    "        self.play(time.animate.set_value(2*PI), rate_func= linear, run_time = 4)\n",
    "        time.set_value(0)\n",
    "        self.play(time.animate.set_value(2*PI), rate_func= linear, run_time = 4)\n",
    "        time.set_value(0)\n",
    "        self.play(time.animate.set_value(2*PI), rate_func= linear, run_time = 4)\n",
    "        time.set_value(0)\n",
    "        self.play(time.animate.set_value(2*PI), rate_func= linear, run_time = 4)"
   ]
  }
 ],
 "metadata": {
  "kernelspec": {
   "display_name": "Python 3.10.6 64-bit",
   "language": "python",
   "name": "python3"
  },
  "language_info": {
   "codemirror_mode": {
    "name": "ipython",
    "version": 3
   },
   "file_extension": ".py",
   "mimetype": "text/x-python",
   "name": "python",
   "nbconvert_exporter": "python",
   "pygments_lexer": "ipython3",
   "version": "3.10.6"
  },
  "orig_nbformat": 4,
  "vscode": {
   "interpreter": {
    "hash": "916dbcbb3f70747c44a77c7bcd40155683ae19c65e1c03b4aa3499c5328201f1"
   }
  }
 },
 "nbformat": 4,
 "nbformat_minor": 2
}
