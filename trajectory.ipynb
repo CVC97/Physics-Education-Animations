{
 "cells": [
  {
   "cell_type": "code",
   "execution_count": 5,
   "metadata": {},
   "outputs": [
    {
     "data": {
      "text/html": [
       "<pre style=\"white-space:pre;overflow-x:auto;line-height:normal;font-family:Menlo,'DejaVu Sans Mono',consolas,'Courier New',monospace\">Manim Community <span style=\"color: #008000; text-decoration-color: #008000\">v0.16.0.post0</span>\n",
       "\n",
       "</pre>\n"
      ],
      "text/plain": [
       "Manim Community \u001b[32mv0.\u001b[0m\u001b[32m16.0\u001b[0m\u001b[32m.post0\u001b[0m\n",
       "\n"
      ]
     },
     "metadata": {},
     "output_type": "display_data"
    },
    {
     "name": "stdout",
     "output_type": "stream",
     "text": [
      "Jupyter Capture Output v0.0.6\n"
     ]
    }
   ],
   "source": [
    "from manim import *\n",
    "from numpy import linalg as npl\n",
    "import jupyter_capture_output\n",
    "from scipy.interpolate import make_interp_spline, BSpline\n",
    "\n",
    "video_scene = \" -v WARNING --progress_bar None --disable_caching traj_Scene\"\n",
    "image_scene = f\" -v WARNING --progress_bar None --disable_caching -r {2*427},{2*240}  -s traj_Scene\""
   ]
  },
  {
   "cell_type": "code",
   "execution_count": 151,
   "metadata": {},
   "outputs": [
    {
     "data": {
      "text/plain": [
       "1.5707963267948966"
      ]
     },
     "execution_count": 151,
     "metadata": {},
     "output_type": "execute_result"
    }
   ],
   "source": [
    "def traj1(t):\n",
    "    x = 1 * np.cos(t)\n",
    "    y = 2 * np.sin(t)\n",
    "    return np.array([x, y])\n",
    "\n",
    "np.arctan2(1, 0)"
   ]
  },
  {
   "cell_type": "code",
   "execution_count": 162,
   "metadata": {},
   "outputs": [
    {
     "data": {
      "text/html": [
       "<video src=\"media/jupyter/traj_Scene@2022-10-15@13-52-09.mp4\" controls autoplay loop style=\"max-width: 60%;\"  >\n",
       "      Your browser does not support the <code>video</code> element.\n",
       "    </video>"
      ],
      "text/plain": [
       "<IPython.core.display.Video object>"
      ]
     },
     "metadata": {},
     "output_type": "display_data"
    }
   ],
   "source": [
    "%%capture_video --path \"animations/trajectory/trajectory.mp4\"\n",
    "%%manim -ql --fps 20 $video_scene\n",
    "\n",
    "class traj_Scene(Scene):\n",
    "    def construct(self):\n",
    "        time = ValueTracker(0)\n",
    "\n",
    "\n",
    "        # Coordinate Systems\n",
    "        npla = NumberPlane(x_range = [-3, 3, 1], y_range = [-3, 3, 1], x_length = 3, y_length = 3, axis_config = {\"include_numbers\": False}).move_to([-5, 2, 0])\n",
    "        ppla = PolarPlane(radius_max = 3, size = 3, tips = True).move_to([-5, -2, 0])\n",
    "\n",
    "        ax1_ax = Axes(x_range = [0, 10, 1], y_range = [-3, 3, 1], x_length = 8, y_length = 6).move_to([-0.5, 2, 0]).add_coordinates().scale(0.5)\n",
    "        ax1_xlabel = ax1_ax.get_x_axis_label(Text(\"t\")).scale(0.4)\n",
    "        ax1_ylabel = ax1_ax.get_y_axis_label(Text(\"y\")).scale(0.4)\n",
    "        ax1 = VGroup(ax1_ax, ax1_xlabel, ax1_ylabel)\n",
    "\n",
    "        ax2_ax = Axes(x_range = [0, 10, 1], y_range = [-3, 3, 1], x_length = 8, y_length = 6).move_to([4.5, 2, 0]).add_coordinates().scale(0.5)\n",
    "        ax2_xlabel = ax2_ax.get_x_axis_label(Text(\"t\")).scale(0.4)\n",
    "        ax2_ylabel = ax2_ax.get_y_axis_label(Text(\"x\")).scale(0.4)\n",
    "        ax2 = VGroup(ax2_ax, ax2_xlabel, ax2_ylabel)\n",
    "\n",
    "        ax3_ax = Axes(x_range = [0, 10, 1], y_range = [-3, 3, 1], x_length = 8, y_length = 6).move_to([-0.5, -2, 0]).add_coordinates().scale(0.5)\n",
    "        ax3_xlabel = ax3_ax.get_x_axis_label(Text(\"t\")).scale(0.4)\n",
    "        ax3_ylabel = ax3_ax.get_y_axis_label(Text(\"r\")).scale(0.4)\n",
    "        ax3 = VGroup(ax3_ax, ax3_xlabel, ax3_ylabel)\n",
    "\n",
    "        ax4_ax = Axes(x_range = [0, 10, 1], y_range = [-3, 3, 1], x_length = 8, y_length = 6).move_to([4.5, -2, 0]).add_coordinates().scale(0.5)\n",
    "        ax4_xlabel = ax4_ax.get_x_axis_label(Text(\"t\")).scale(0.4)\n",
    "        ax4_ylabel = ax4_ax.get_y_axis_label(Tex(r'$\\varphi/\\pi$')).scale(0.6)\n",
    "        ax4 = VGroup(ax4_ax, ax4_xlabel, ax4_ylabel)\n",
    "        \n",
    "\n",
    "        # Points\n",
    "        npp = Dot(npla.coords_to_point(traj1(0)[0], traj1(0)[1]), color = RED, radius = 0.05)  \n",
    "        ppp = Dot(ppla.coords_to_point(traj1(0)[0], traj1(0)[1]), color = RED, radius = 0.05)\n",
    "\n",
    "        ax1_dot = Dot(ax1_ax.coords_to_point(0, traj1(0)[1]), color = RED, radius = 0.05)\n",
    "        ax2_dot = Dot(ax2_ax.coords_to_point(0, traj1(0)[0]), color = RED, radius = 0.05)\n",
    "        ax3_dot = Dot(ax3_ax.coords_to_point(0, np.linalg.norm(traj1(0))), color = RED, radius = 0.05)\n",
    "        ax4_dot = Dot(ax4_ax.coords_to_point(0, ((np.arctan2(traj1(0)[1], traj1(0)[0])+2*PI) % (2*PI) ) / PI), color = RED, radius = 0.05)\n",
    "\n",
    "        def dot_np_updater(dot):\n",
    "            t = time.get_value()\n",
    "            dot.move_to(npla.coords_to_point(traj1(t)[0], traj1(t)[1]))\n",
    "\n",
    "        def dot_pp_updater(dot):\n",
    "            t = time.get_value()\n",
    "            dot.move_to(ppla.coords_to_point(traj1(t)[0], traj1(t)[1]))\n",
    "\n",
    "        def ax1_dot_updater(ax_dot):\n",
    "            t = time.get_value()\n",
    "            ax_dot.move_to(ax1_ax.coords_to_point(t, traj1(t)[1]))\n",
    "\n",
    "        def ax2_dot_updater(ax_dot):\n",
    "            t = time.get_value()\n",
    "            ax_dot.move_to(ax2_ax.coords_to_point(t, traj1(t)[0]))\n",
    "\n",
    "        def ax3_dot_updater(ax_dot):\n",
    "            t = time.get_value()\n",
    "            ax_dot.move_to(ax3_ax.coords_to_point(t, np.linalg.norm(traj1(t))))\n",
    "\n",
    "        def ax4_dot_updater(ax_dot):\n",
    "            t = time.get_value()\n",
    "            ax_dot.move_to(ax4_ax.coords_to_point(t, ((np.arctan2(traj1(t)[1], traj1(t)[0]) + 2*PI) % (2*PI) ) / PI) )\n",
    "        \n",
    "        \n",
    "        # Play \n",
    "        self.add(npla, ppla, ax1, ax2, ax3, ax4)\n",
    "        self.play(Create(npp), Create(ppp), Create(ax1_dot), Create(ax2_dot), Create(ax3_dot), Create(ax4_dot))\n",
    "\n",
    "        npp.add_updater(dot_np_updater)\n",
    "        ppp.add_updater(dot_pp_updater)\n",
    "\n",
    "        ax1_dot.add_updater(ax1_dot_updater)\n",
    "        ax2_dot.add_updater(ax2_dot_updater)\n",
    "        ax3_dot.add_updater(ax3_dot_updater)\n",
    "        ax4_dot.add_updater(ax4_dot_updater)\n",
    "\n",
    "        self.play(time.animate.set_value(3*PI), rate_func= linear, run_time = 5)\n"
   ]
  },
  {
   "cell_type": "code",
   "execution_count": 58,
   "metadata": {},
   "outputs": [],
   "source": [
    "# %%capture_video --path \"animations/trajectory/trajectory.mp4\"\n",
    "# %%manim -ql --fps 20 $video_scene\n",
    "\n",
    "# class traj_Scene(Scene):\n",
    "#     def construct(self):\n",
    "#         npb = NumberPlane(\n",
    "#             x_range = [-3, 3, 1],\n",
    "#             y_range = [-3, 3, 1],\n",
    "#             x_length = 8, \n",
    "#             y_length = 8,\n",
    "#             axis_config = {\"include_numbers\": False},\n",
    "#         ).scale(0.4).move_to([-5, 0, 0])\n",
    "\n",
    "#         ax1b = Axes(\n",
    "#             x_range = [0, 10, 1],\n",
    "#             y_range = [-3, 3, 1],\n",
    "#             x_length = 8, \n",
    "#             y_length = 8,\n",
    "#         ).scale(0.4).move_to([-0.5, 0, 0])\n",
    "\n",
    "#         ax2b = Axes(\n",
    "#             x_range = [0, 10, 1],\n",
    "#             y_range = [-3, 3, 1],\n",
    "#             x_length = 8, \n",
    "#             y_length = 8,\n",
    "#         ).scale(0.4).move_to([4, 0, 0])\n",
    "\n",
    "#         self.add(npb, ax1b, ax2b)"
   ]
  }
 ],
 "metadata": {
  "kernelspec": {
   "display_name": "Python 3.10.6 64-bit",
   "language": "python",
   "name": "python3"
  },
  "language_info": {
   "codemirror_mode": {
    "name": "ipython",
    "version": 3
   },
   "file_extension": ".py",
   "mimetype": "text/x-python",
   "name": "python",
   "nbconvert_exporter": "python",
   "pygments_lexer": "ipython3",
   "version": "3.10.6"
  },
  "orig_nbformat": 4,
  "vscode": {
   "interpreter": {
    "hash": "916dbcbb3f70747c44a77c7bcd40155683ae19c65e1c03b4aa3499c5328201f1"
   }
  }
 },
 "nbformat": 4,
 "nbformat_minor": 2
}
