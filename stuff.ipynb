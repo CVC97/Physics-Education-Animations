{
 "cells": [
  {
   "cell_type": "code",
   "execution_count": 1,
   "metadata": {},
   "outputs": [
    {
     "data": {
      "text/html": [
       "<pre style=\"white-space:pre;overflow-x:auto;line-height:normal;font-family:Menlo,'DejaVu Sans Mono',consolas,'Courier New',monospace\">Manim Community <span style=\"color: #008000; text-decoration-color: #008000\">v0.18.0.post0</span>\n",
       "\n",
       "</pre>\n"
      ],
      "text/plain": [
       "Manim Community \u001b[32mv0.\u001b[0m\u001b[32m18.0\u001b[0m\u001b[32m.post0\u001b[0m\n",
       "\n"
      ]
     },
     "metadata": {},
     "output_type": "display_data"
    },
    {
     "name": "stdout",
     "output_type": "stream",
     "text": [
      "Jupyter Capture Output v0.0.11\n"
     ]
    }
   ],
   "source": [
    "from manim import *\n",
    "import jupyter_capture_output\n",
    "from numpy import linalg as npl\n",
    "\n",
    "video_scene = \" -v WARNING --disable_caching stuff_Scene\"\n",
    "image_scene = f\" -v WARNING --disable_caching -r {2*427},{2*240}  -s stuff_Scene\""
   ]
  },
  {
   "cell_type": "code",
   "execution_count": 71,
   "metadata": {},
   "outputs": [
    {
     "name": "stdout",
     "output_type": "stream",
     "text": [
      "Output saved by overwring previous file at animations/stuff/scalar_field.mp4.\n"
     ]
    },
    {
     "name": "stderr",
     "output_type": "stream",
     "text": [
      "                                                                                                  \r"
     ]
    },
    {
     "data": {
      "text/html": [
       "<video src=\"media/jupyter/stuff_Scene@2024-10-07@20-11-09.mp4\" controls autoplay loop style=\"max-width: 60%;\"  >\n",
       "      Your browser does not support the <code>video</code> element.\n",
       "    </video>"
      ],
      "text/plain": [
       "<IPython.core.display.Video object>"
      ]
     },
     "metadata": {},
     "output_type": "display_data"
    }
   ],
   "source": [
    "%%capture_video --path \"animations/stuff/scalar_field.mp4\"\n",
    "%%manim -qh --fps 60 $video_scene\n",
    "\n",
    "class stuff_Scene(ThreeDScene):\n",
    "    def construct(self):\n",
    "        CVC = Text('CVC', font_size = 12, weight = BOLD, color = WHITE, font = 'Latin Modern Sans').align_on_border(RIGHT + DOWN, buff = 0.2).move_to([-3, 0, 0])\n",
    "        # self.add(CVC)\n",
    "\n",
    "        self.camera.background_color = WHITE\n",
    "        self.set_camera_orientation(phi=75*DEGREES, theta=-45*DEGREES)\n",
    "\n",
    "        # 3D-Coordinate System\n",
    "        CO3D = [0, 0, 0]\n",
    "        CO3D_x_range = (-3.5, 3.5, 1)\n",
    "        CO3D_y_range = (-3.5, 3.5, 1)\n",
    "        CO3D_z_range = (-1, 1.5, 1)\n",
    "        ax = ThreeDAxes(\n",
    "            x_range = CO3D_x_range, y_range = CO3D_y_range, z_range = CO3D_z_range,\n",
    "            x_length = 12, y_length = 12, z_length = 6, axis_config = {'tip_length': 0.05, 'tip_width': 0.3}, \n",
    "            # axis_config = {'color': BLACK},\n",
    "            ).move_to(CO3D).set_color(BLACK)\n",
    "        self.add(ax)\n",
    "\n",
    "\n",
    "        def scalar_surface(x, y):\n",
    "            z = (x**2+y**2)*np.exp(1-x**2-y**2)\n",
    "            return np.array(ax.c2p(x, y, z))\n",
    "\n",
    "        resolution_fa = 64\n",
    "        surface_plane = Surface(\n",
    "            scalar_surface,\n",
    "            resolution = (resolution_fa, resolution_fa),\n",
    "            v_range=[-3, +3],\n",
    "            u_range=[-3, +3]\n",
    "            )\n",
    "\n",
    "        surface_plane.set_style(fill_opacity = 1, stroke_color = GREY)\n",
    "        surface_plane.set_fill_by_checkerboard(GRAY, BLACK, opacity = 0.5)\n",
    "        self.add(surface_plane)\n",
    "\n",
    "\n",
    "        timeline = ValueTracker(0)\n",
    "        self.begin_ambient_camera_rotation(rate=1/PI/2)\n",
    "        self.play(timeline.animate.set_value(5), rate_func= linear, run_time = 2*19.73)"
   ]
  }
 ],
 "metadata": {
  "kernelspec": {
   "display_name": ".venv_per",
   "language": "python",
   "name": "python3"
  },
  "language_info": {
   "codemirror_mode": {
    "name": "ipython",
    "version": 3
   },
   "file_extension": ".py",
   "mimetype": "text/x-python",
   "name": "python",
   "nbconvert_exporter": "python",
   "pygments_lexer": "ipython3",
   "version": "3.12.3"
  }
 },
 "nbformat": 4,
 "nbformat_minor": 2
}
