{
 "cells": [
  {
   "cell_type": "code",
   "execution_count": 120,
   "metadata": {},
   "outputs": [],
   "source": [
    "from manim import *\n",
    "from numpy import linalg as npl\n",
    "import matplotlib.pyplot as plt\n",
    "import jupyter_capture_output\n",
    "from scipy.interpolate import make_interp_spline, BSpline\n",
    "\n",
    "video_scene = \" -v WARNING --progress_bar None --disable_caching li_Scene\"\n",
    "image_scene = f\" -v WARNING --progress_bar None --disable_caching -r {2*427},{2*240}  -s li_Scene\""
   ]
  },
  {
   "cell_type": "code",
   "execution_count": 121,
   "metadata": {},
   "outputs": [
    {
     "data": {
      "text/plain": [
       "(array([-3.51360499,  0.8       ,  0.        ]),\n",
       " array([ 1.81483342, -0.2       ,  0.        ]),\n",
       " array([0.9995736, 1.1357488]))"
      ]
     },
     "execution_count": 121,
     "metadata": {},
     "output_type": "execute_result"
    }
   ],
   "source": [
    "def F1(r):\n",
    "    r = r / 2\n",
    "    x = np.sin(r[1])\n",
    "    y = np.cos(r[0]) + r[1] / 4\n",
    "    return x * RIGHT + y * UP\n",
    "\n",
    "\n",
    "def F1_calc(r):\n",
    "    r = r * 2\n",
    "    x = np.sin(r[1])\n",
    "    y = np.cos(r[0]) + r[1] / 4\n",
    "    return np.array([x, y])\n",
    "\n",
    "\n",
    "def gamma1(t):\n",
    "    x = t / 2 - 2 * np.sin(t) \n",
    "    y = -t / 5\n",
    "    return np.array([x, y, 0])\n",
    "\n",
    "\n",
    "def dgamma1(t):\n",
    "    return (gamma1(t+0.01) - gamma1(t)) / 0.01\n",
    "\n",
    "\n",
    "def F_dot_dgamma(t):\n",
    "    r = gamma1(t)\n",
    "    F_t = F1_calc(r)\n",
    "    return F_t*dgamma1(t)\n",
    "\n",
    "\n",
    "t0 = -4\n",
    "t1 = 4\n",
    "\n",
    "gamma1(t0), dgamma1(t0), F1_calc(gamma1(t0))"
   ]
  },
  {
   "cell_type": "code",
   "execution_count": 126,
   "metadata": {},
   "outputs": [
    {
     "data": {
      "text/html": [
       "<video src=\"media/jupyter/li_Scene@2022-10-18@11-36-17.mp4\" controls autoplay loop style=\"max-width: 60%;\"  >\n",
       "      Your browser does not support the <code>video</code> element.\n",
       "    </video>"
      ],
      "text/plain": [
       "<IPython.core.display.Video object>"
      ]
     },
     "metadata": {},
     "output_type": "display_data"
    }
   ],
   "source": [
    "%%capture_video --path \"animations/line_integration/line_integration.mp4\"\n",
    "%%manim -ql --fps 20 $video_scene\n",
    "\n",
    "class li_Scene(Scene):\n",
    "    def construct(self):\n",
    "        F_eq = MathTex(r'F(x, y)=', font_size = 36, color = BLUE).align_on_border(LEFT).align_on_border(RIGHT, buff = 3.5).shift(1.5*UP)\n",
    "        F_vec = Matrix([[r'\\mathrm{sin}(y)'], [r'\\mathrm{cos}(x)+y/4']]).scale(0.75).next_to(F_eq, RIGHT).set_color(BLUE)\n",
    "        F = VGroup(F_eq, F_vec)\n",
    "\n",
    "        gamma_eq = MathTex(r'\\gamma(t)=', font_size = 36).next_to(F_eq, 6*DOWN)\n",
    "        gamma_vec = Matrix([[r't'], [r'\\mathrm{sin}(2t)/2+t/4']]).scale(0.75).next_to(gamma_eq, RIGHT)\n",
    "        gamma = VGroup(gamma_eq, gamma_vec)\n",
    "\n",
    "        li_eq1 = MathTex(r'\\int_{\\gamma}F\\cdot ds', font_size = 36).align_on_border(UP + LEFT, buff = 0.5)\n",
    "        li_eq2 = MathTex(r'=\\int_{\\gamma}F(x, y)\\cdot\\frac{d\\gamma}{dt}dt', font_size = 36).next_to(li_eq1, RIGHT)\n",
    "        li_eq2_Fblue = MathTex(r'=\\int_{\\gamma}F(x, y)\\cdot\\frac{d\\gamma}{dt}dt', font_size = 36).next_to(li_eq1, RIGHT)\n",
    "        #li_eq2_gammablue = MathTex(r'=\\int_{\\gamma}F(x, y)\\cdot\\frac{d\\gamma}{dt}dt', font_size = 36).align_on_border.next_to(li_eq1, RIGHT)\n",
    "        #self.add(index_labels(li_eq2_blue[0]))\n",
    "        li_eq2_Fblue[0][3:9].set_color(BLUE)\n",
    "        #li_eq2_gammablue[0][2].set_color(BLUE)\n",
    "        li_eq3 = MathTex(r'=\\int_{t_0}^{t_1}F(\\gamma(t))\\cdot\\dot{\\gamma}(t)dt', font_size = 36).next_to(li_eq2, RIGHT)\n",
    "\n",
    "\n",
    "        ax = Axes(x_range = [-4, 4, 1], y_range = [-1.5, 1.5, 1], x_length = 8, y_length = 4).set_opacity(0)\n",
    "        plot = ax.plot_parametric_curve(gamma1, t_range = [t0, t1], stroke_opacity = 0.5)\n",
    "        t0_line = Line(start = ax.coords_to_point(gamma1(t0)[0], gamma1(t0)[1] - 0.125, 0), end = ax.coords_to_point(gamma1(t0)[0], gamma1(t0)[1] + 0.125, 0), stroke_opacity = 0.5)\n",
    "        t1_line = Line(start = ax.coords_to_point(gamma1(t1)[0], gamma1(t1)[1] - 0.125, 0), end = ax.coords_to_point(gamma1(t1)[0], gamma1(t1)[1] + 0.125, 0), stroke_opacity = 0.5)\n",
    "        t0_label = MathTex(r't_0', font_size = 36, stroke_width = 1).next_to(t0_line, DOWN)\n",
    "        t1_label = MathTex(r't_1', font_size = 36, stroke_width = 1).next_to(t1_line, UP)\n",
    "        traj = VGroup(plot, t0_line, t1_line, t0_label, t1_label)\n",
    "\n",
    "        avf = ArrowVectorField(F1, x_range = [-16, 16, 1], y_range = [-6, 6, 1], length_func = lambda x: x/2, colors = [BLUE], opacity = 0.25, vector_config = {'stroke_width': 2}).scale(0.25)\n",
    "        rect = Rectangle(width = 8.4, height = 3.5, stroke_width = 0.75)\n",
    "        field = VGroup(ax, traj, avf, rect).shift(2.5*LEFT + 0.5*UP)\n",
    "\n",
    "\n",
    "        # Intro Animation\n",
    "\n",
    "        # self.play(Write(li_eq1)) \n",
    "        # self.play(Write(li_eq2))\n",
    "        # self.play(Write(F), Transform(li_eq2, li_eq2_Fblue))\n",
    "        # self.play(TransformFromCopy(F, avf), FadeIn(rect))\n",
    "        # self.play(Write(gamma), Transform(li_eq2_Fblue, li_eq2))\n",
    "        # self.play(TransformFromCopy(gamma, traj))\n",
    "        # self.play(Write(li_eq3))\n",
    "        # self.wait(3)\n",
    "\n",
    "        self.add(li_eq1, li_eq2, li_eq3, F, gamma, field)\n",
    "\n",
    "        # Vector Animation Setup\n",
    "        npla = NumberPlane(\n",
    "            x_range = [-4.5, 4.5, 1], y_range = [-3, 3, 1], x_length = 8, y_length = 2, \n",
    "            axis_config = {\"include_numbers\": False, \"stroke_opacity\": 0.25}, background_line_style = {\"stroke_opacity\": 0.25}).shift(2.5*LEFT + 2.5*DOWN\n",
    "            )\n",
    "        ppla = PolarPlane(\n",
    "            radius_max = 3, size = 2, \n",
    "            x_axis_config = {\"stroke_opacity\": 0.25}, y_axis_config = {\"stroke_opacity\": 0.25}, background_line_style = {\"stroke_opacity\": 0.25}).shift(2.5*DOWN + 3.5*RIGHT)\n",
    "\n",
    "        traj_dot = Dot(ax.c2p(gamma1(t0)[0], gamma1(t0)[1]), radius = 0.05, color = RED)\n",
    "        traj_arrow = Line(\n",
    "            start = ax.c2p(gamma1(t0)[0], gamma1(t0)[1]), \n",
    "            end = ax.c2p(gamma1(t0)[0] + dgamma1(t0)[0] / 4, gamma1(t0)[1] + dgamma1(t0)[1] / 4), \n",
    "            color = RED, buff = 0, stroke_width = 5).add_tip(tip_length = 0.15, tip_width = 0.15)\n",
    "        traj_dgv = VGroup(traj_dot, traj_arrow)\n",
    "\n",
    "\n",
    "        F_arrow = Line(\n",
    "            start = ax.c2p(gamma1(t0)[0], gamma1(t0)[1]), \n",
    "            end = ax.c2p(gamma1(t0)[0] + F1_calc(gamma1(t0))[0] / 4, gamma1(t0)[1] + F1_calc(gamma1(t0))[1] / 4), \n",
    "            color = BLUE, buff = 0, stroke_width = 5).add_tip(tip_length = 0.15, tip_width = 0.15)\n",
    "\n",
    "        # Vector Animation\n",
    "        time = ValueTracker(t0) \n",
    "\n",
    "        def dgv_updater(v):\n",
    "            t = time.get_value()\n",
    "            dot_new = Dot(ax.c2p(gamma1(t)[0], gamma1(t)[1]), radius = 0.05, color = RED)\n",
    "            arrow_new = Line(\n",
    "                start = ax.c2p(gamma1(t)[0], gamma1(t)[1]), \n",
    "                end = ax.c2p(gamma1(t)[0] + dgamma1(t)[0] / 4, gamma1(t)[1] + dgamma1(t)[1] / 4), \n",
    "                color = RED, buff = 0).add_tip(tip_length = 0.15, tip_width = 0.15)\n",
    "            dgv_new = VGroup(dot_new, arrow_new)\n",
    "            v.become(dgv_new)\n",
    "\n",
    "        def F_updater(v):\n",
    "            t = time.get_value()\n",
    "            F_arrow_new = Line(\n",
    "                start = ax.c2p(gamma1(t)[0], gamma1(t)[1]), \n",
    "                end = ax.c2p(gamma1(t)[0] + F1_calc(gamma1(t))[0] / 4, gamma1(t)[1] + F1_calc(gamma1(t))[1] / 4), \n",
    "                color = BLUE, buff = 0).add_tip(tip_length = 0.15, tip_width = 0.15)\n",
    "            #F_arrow_new.z_index = -1\n",
    "            v.become(F_arrow_new)\n",
    "\n",
    "\n",
    "        # Polar Animation\n",
    "        pol_dgv = Line(ppla.pr2pt(0, 0), ppla.pr2pt(0, 3), color = RED).add_tip(tip_length = 0.15, tip_width = 0.15)\n",
    "\n",
    "        # Integration Animation\n",
    "\n",
    "        self.add(npla, ppla, ax, traj_dgv, F_arrow, pol_dgv)\n",
    "        traj_dgv.add_updater(dgv_updater)\n",
    "        F_arrow.add_updater(F_updater)\n",
    "        self.play(time.animate.set_value(t1), rate_func= linear, run_time = 15)"
   ]
  }
 ],
 "metadata": {
  "kernelspec": {
   "display_name": "Python 3.10.6 64-bit",
   "language": "python",
   "name": "python3"
  },
  "language_info": {
   "codemirror_mode": {
    "name": "ipython",
    "version": 3
   },
   "file_extension": ".py",
   "mimetype": "text/x-python",
   "name": "python",
   "nbconvert_exporter": "python",
   "pygments_lexer": "ipython3",
   "version": "3.10.6"
  },
  "orig_nbformat": 4,
  "vscode": {
   "interpreter": {
    "hash": "916dbcbb3f70747c44a77c7bcd40155683ae19c65e1c03b4aa3499c5328201f1"
   }
  }
 },
 "nbformat": 4,
 "nbformat_minor": 2
}
