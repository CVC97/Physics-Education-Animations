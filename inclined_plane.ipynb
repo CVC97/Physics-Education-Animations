{
 "cells": [
  {
   "cell_type": "code",
   "execution_count": 1,
   "metadata": {},
   "outputs": [
    {
     "data": {
      "text/html": [
       "<pre style=\"white-space:pre;overflow-x:auto;line-height:normal;font-family:Menlo,'DejaVu Sans Mono',consolas,'Courier New',monospace\">Manim Community <span style=\"color: #008000; text-decoration-color: #008000\">v0.18.0.post0</span>\n",
       "\n",
       "</pre>\n"
      ],
      "text/plain": [
       "Manim Community \u001b[32mv0.\u001b[0m\u001b[32m18.0\u001b[0m\u001b[32m.post0\u001b[0m\n",
       "\n"
      ]
     },
     "metadata": {},
     "output_type": "display_data"
    },
    {
     "name": "stdout",
     "output_type": "stream",
     "text": [
      "Jupyter Capture Output v0.0.11\n"
     ]
    }
   ],
   "source": [
    "from manim import *\n",
    "import jupyter_capture_output\n",
    "\n",
    "video_scene = \" -v WARNING  --disable_caching ip_Scene\"\n",
    "image_scene = f\" -v WARNING --disable_caching -r {2*427},{2*240}  -s ip_Scene\""
   ]
  },
  {
   "cell_type": "code",
   "execution_count": 430,
   "metadata": {},
   "outputs": [],
   "source": [
    "class InclinedPlane(Mobject):\n",
    "    def __init__(self, starting_center, height, width, ejection_time = 0, g = 9.81, **kwargs):\n",
    "        super().__init__(**kwargs)\n",
    "\n",
    "        self.ax_center = starting_center            # this is good for exaxtly nothing because manim doesn't put ax origin into center [desgracia]\n",
    "        self.wedge_height = height\n",
    "        self.wedge_width = width\n",
    "        self.ejection_time = ejection_time\n",
    "        self.g = g\n",
    "        self.angle = np.arctan(height / width)\n",
    "\n",
    "\n",
    "        # coordinate system c\n",
    "        self.ax_c = Axes(x_range = (-1, self.wedge_width+1, 1), y_range = (-self.wedge_height, self.wedge_height, 1), x_length = self.wedge_width+2, y_length = 2*self.wedge_height,\n",
    "            axis_config = {'color': BLACK, \"tip_width\": 0.15, \"tip_height\": 0.15}\n",
    "        ).move_to(self.ax_center)\n",
    "        self.ax_c_xlabel = self.ax_c.get_x_axis_label(Tex(r\"$x$\", font_size = 36, color = BLACK)).shift(0.1 *LEFT)\n",
    "        self.ax_c_ylabel = self.ax_c.get_y_axis_label(Tex(r\"$y$\", font_size = 36, color = BLACK))\n",
    "\n",
    "\n",
    "        # coordinate system c'\n",
    "        self.ax_c_star = Axes(x_range = (-1, self.wedge_width+1, 1), y_range = (-self.wedge_height, self.wedge_height, 1), x_length = self.wedge_width+2, y_length = 2*self.wedge_height,\n",
    "            axis_config = {'color': BLACK, \"tip_width\": 0.15, \"tip_height\": 0.15}\n",
    "        ).move_to(self.ax_center).rotate(about_point = self.ax_c.c2p(0, 0, 0), angle = -self.angle).set_opacity(0.125)\n",
    "        self.ax_c_star_xlabel = self.ax_c_star.get_x_axis_label(Tex(r\"$x'$\", font_size = 36, color = BLACK)).shift(0.1 *LEFT)\n",
    "        self.ax_c_star_ylabel = self.ax_c_star.get_y_axis_label(Tex(r\"$y'$\", font_size = 36, color = BLACK))\n",
    "\n",
    "        # inclined plane\n",
    "        self.inclined_plane = Line(start = self.ax_c.c2p(0, 0, 0), end = self.ax_c.c2p(self.wedge_width, -self.wedge_height, 0), color = BLACK, stroke_opacity = 0.5)\n",
    "        self.inclined_plane_fill = Polygon(self.ax_c.c2p(0, 0, 0), self.ax_c.c2p(self.wedge_width, -self.wedge_height, 0), self.ax_c.c2p(0, -self.wedge_height, 0), fill_color = BLACK, fill_opacity = 0.125, stroke_opacity = 0)\n",
    "        self.add(self.ax_c)\n",
    "        self.add(self.inclined_plane, self.inclined_plane_fill)\n",
    "\n",
    "\n",
    "    # waggon rolling down the plane\n",
    "    def get_waggon(self, t):\n",
    "        waggon_x_coord = self.g/2*t**2 * np.sin(self.angle) * np.cos(self.angle)\n",
    "        waggon_y_coord = -self.g/2*t**2 * np.sin(self.angle) * np.sin(self.angle)\n",
    "        waggon_pos_increment = 0.25/2*(np.cos(self.angle)*UP + np.sin(self.angle)*RIGHT)\n",
    "        waggon_pos = self.ax_c.c2p(self.g/2*t**2 * np.sin(self.angle) * np.cos(self.angle), -self.g/2*t**2 * np.sin(self.angle) * np.sin(self.angle), 0) + 0.25/2*(np.cos(self.angle)*UP + np.sin(self.angle)*RIGHT)\n",
    "        # waggon = Rectangle(height = 0.25, width = 0.5, color = BLACK, fill_color = BLACK, fill_opacity = 0.5\n",
    "        #     ).move_to(waggon_pos).rotate(about_point = waggon_pos, angle = -self.angle)\n",
    "            \n",
    "        top_left = self.ax_c.c2p(waggon_x_coord-0.5/2, waggon_y_coord+0.25/2, 0)\n",
    "        top_right = self.ax_c.c2p(waggon_x_coord+0.5/2, waggon_y_coord+0.25/2, 0)\n",
    "        down_right = self.ax_c.c2p(waggon_x_coord+0.5/2, waggon_y_coord-0.25/2, 0)\n",
    "        down_left = self.ax_c.c2p(waggon_x_coord-0.5/2, waggon_y_coord-0.25/2, 0)\n",
    "        waggon = Polygon(top_left, top_right, down_right, down_left, color = BLACK, fill_color = BLACK, fill_opacity = 0.5).rotate(about_point = waggon_pos, angle = -self.angle).shift(waggon_pos_increment)\n",
    "        waggon.position = waggon_pos\n",
    "\n",
    "        # waggon vectors\n",
    "        waggon.gravitation = Line(start = waggon_pos, end = waggon_pos + 1.5*DOWN, color = BLACK).add_tip(tip_length = 0.15, tip_width = 0.15)\n",
    "        waggon.perp = Line(start = waggon_pos, end = waggon_pos + 1.5*np.cos(self.angle)*(np.cos(self.angle)*DOWN - np.sin(self.angle)*RIGHT), color = BLACK).add_tip(tip_length = 0.15, tip_width = 0.15).set_opacity(0.5)\n",
    "        waggon.line = Line(start = waggon_pos, end = waggon_pos + 1.5*np.sin(self.angle)*(np.sin(self.angle)*DOWN + np.cos(self.angle)*RIGHT), color = BLACK).add_tip(tip_length = 0.15, tip_width = 0.15).set_opacity(0.5)\n",
    "        return waggon\n",
    "    \n",
    "\n",
    "    # ball getting ejected\n",
    "    def get_ball(self, t):\n",
    "        v0 = 4.5 * self.g / 10                                      # starting velocity\n",
    "        # coordinate of the waggon\n",
    "        waggon_c = np.array([self.g/2*t**2 * np.sin(self.angle) * np.cos(self.angle), -self.g/2*t**2 * np.sin(self.angle) * np.sin(self.angle), 0])\n",
    "        # additional ejection position change\n",
    "        ball_increment_c = np.array([v0 * (t-self.ejection_time) * np.sin(self.angle), -self.g/2*(t-self.ejection_time)**2 + v0 * (t-self.ejection_time) * np.cos(self.angle), 0])\n",
    "        # speed and position of the waggon at ejection\n",
    "        waggon_eject_pos = np.array([self.g/2*self.ejection_time**2 * np.sin(self.angle) * np.cos(self.angle), -self.g/2*self.ejection_time**2 * np.sin(self.angle) * np.sin(self.angle), 0])\n",
    "        waggon_eject_speed = np.array([self.g*self.ejection_time * np.sin(self.angle) * np.cos(self.angle), -self.g*self.ejection_time * np.sin(self.angle) * np.sin(self.angle), 0])\n",
    "        # different time sections\n",
    "        if (t < self.ejection_time):\n",
    "            ball_pos = self.ax_c.c2p(*waggon_c) + 0.25/2*(np.cos(self.angle)*UP + np.sin(self.angle)*RIGHT)\n",
    "        elif (t > self.ejection_time + 2*v0 / (self.g*np.cos(self.angle))):\n",
    "            ball_pos = self.ax_c.c2p(*waggon_c) + 0.25/2*(np.cos(self.angle)*UP + np.sin(self.angle)*RIGHT)\n",
    "        else:\n",
    "            ball_pos = self.ax_c.c2p(*(waggon_eject_pos + waggon_eject_speed*(t-self.ejection_time) + ball_increment_c)) + 0.25/2*(np.cos(self.angle)*UP + np.sin(self.angle)*RIGHT)\n",
    "        ball = Circle(radius = 0.125, color = PURE_RED, fill_color = PURE_RED, fill_opacity = 0.5).move_to(ball_pos)\n",
    "        ball.position = ball_pos\n",
    "\n",
    "        # ball vectors\n",
    "        ball.gravitation = Line(start = ball_pos, end = ball_pos + 1.5*DOWN, color = PURE_RED).add_tip(tip_length = 0.15, tip_width = 0.15)\n",
    "        ball.perp = Line(start = ball_pos, end = ball_pos + 1.5*np.cos(self.angle)*(np.cos(self.angle)*DOWN - np.sin(self.angle)*RIGHT), color = PURE_RED).add_tip(tip_length = 0.15, tip_width = 0.15).set_opacity(0.5)\n",
    "        ball.line = Line(start = ball_pos, end = ball_pos + 1.5*np.sin(self.angle)*(np.sin(self.angle)*DOWN + np.cos(self.angle)*RIGHT), color = PURE_RED).add_tip(tip_length = 0.15, tip_width = 0.15).set_opacity(0.5)\n",
    "        return ball\n",
    "\n"
   ]
  },
  {
   "cell_type": "code",
   "execution_count": 432,
   "metadata": {},
   "outputs": [
    {
     "name": "stdout",
     "output_type": "stream",
     "text": [
      "Output saved by overwring previous file at animations/inclined_plane/inclined_plane_c.mp4.\n"
     ]
    },
    {
     "name": "stderr",
     "output_type": "stream",
     "text": [
      "                                                                                              \r"
     ]
    },
    {
     "data": {
      "text/html": [
       "<video src=\"media/jupyter/ip_Scene@2024-11-08@15-57-17.mp4\" controls autoplay loop style=\"max-width: 60%;\"  >\n",
       "      Your browser does not support the <code>video</code> element.\n",
       "    </video>"
      ],
      "text/plain": [
       "<IPython.core.display.Video object>"
      ]
     },
     "metadata": {},
     "output_type": "display_data"
    }
   ],
   "source": [
    "%%capture_video --path \"animations/inclined_plane/inclined_plane_c.mp4\"\n",
    "%%manim -qm --fps 60 $video_scene\n",
    "\n",
    "\n",
    "class ip_Scene(Scene):\n",
    "    def construct(self):\n",
    "        self.camera.background_color = WHITE\n",
    "\n",
    "        center = np.array([-0.5, 0, 0])\n",
    "        g = 25\n",
    "        height = 3\n",
    "        width = 8\n",
    "        angle = np.arctan(height / width)\n",
    "\n",
    "        # time controls\n",
    "        starting_time = 0.25\n",
    "        ejection_time = 0.25\n",
    "        snapshot_time = 0.75\n",
    "        end_time = 1.35\n",
    "\n",
    "        # plane object\n",
    "        inclined_plane = InclinedPlane(center, height = height, width = width, ejection_time = ejection_time, g = g)\n",
    "        self.add(inclined_plane, inclined_plane.ax_c_star)\n",
    "\n",
    "        # waggon and ball\n",
    "        waggon = inclined_plane.get_waggon(starting_time)\n",
    "        ball = inclined_plane.get_ball(starting_time)\n",
    "        waggon.getter = inclined_plane.get_waggon\n",
    "        ball.getter = inclined_plane.get_ball\n",
    "        waggon.counter = 0\n",
    "        ball.counter = 0\n",
    "        self.add(waggon, ball)\n",
    "\n",
    "        traj_group = VGroup()\n",
    "\n",
    "\n",
    "        # updater for waggon and ball\n",
    "        def physics_updater(object):\n",
    "            object.counter += 1\n",
    "            t = time.get_value()\n",
    "            new_object = object.getter(t)\n",
    "            if (object.counter % 20 == 0):\n",
    "                traj_object = new_object.scale(0.5)\n",
    "                traj_group.add(traj_object)\n",
    "                self.add(traj_object)\n",
    "            object.move_to(new_object.position)\n",
    "\n",
    "\n",
    "        # animation\n",
    "        time = ValueTracker(starting_time)\n",
    "        waggon.add_updater(physics_updater)\n",
    "        ball.add_updater(physics_updater)\n",
    "        self.play(time.animate.set_value(snapshot_time), rate_func = linear, run_time = (snapshot_time-starting_time) * 3)\n",
    "\n",
    "        # snapshot\n",
    "        waggon_snapshot = inclined_plane.get_waggon(time.get_value())\n",
    "        waggon_snapshot_gravitation_vector = waggon_snapshot.gravitation\n",
    "        waggon_snapshot_perp_vector = waggon_snapshot.perp\n",
    "        waggon_snapshot_line_vector = waggon_snapshot.line\n",
    "        ball_snapshot = inclined_plane.get_ball(time.get_value())\n",
    "        ball_snapshot_gravitation_vector = ball_snapshot.gravitation\n",
    "        ball_snapshot_perp_vector = ball_snapshot.perp\n",
    "        ball_snapshot_line_vector = ball_snapshot.line\n",
    "        self.add(waggon_snapshot_gravitation_vector, waggon_snapshot_perp_vector, waggon_snapshot_line_vector)\n",
    "        self.add(ball_snapshot_gravitation_vector, ball_snapshot_perp_vector, ball_snapshot_line_vector)\n",
    "\n",
    "        # remove updater before wait\n",
    "        waggon.remove_updater(physics_updater)\n",
    "        ball.remove_updater(physics_updater)\n",
    "        self.wait(3)\n",
    "\n",
    "        rotation_group = VGroup(\n",
    "            inclined_plane.inclined_plane, inclined_plane.ax_c, inclined_plane.inclined_plane_fill, \n",
    "            waggon, ball, waggon_snapshot_gravitation_vector, waggon_snapshot_perp_vector, waggon_snapshot_line_vector, ball_snapshot_gravitation_vector, ball_snapshot_perp_vector, ball_snapshot_line_vector,\n",
    "            *traj_group, inclined_plane.ax_c_star)\n",
    "\n",
    "        self.play( Rotate(rotation_group, about_point = inclined_plane.ax_c.c2p(0, 0, 0), angle = angle), rate_functions = linear, run_time = 1)\n",
    "        # self.play(rotation_group.animate.shift(0.5*DOWN), run_time = 1)\n",
    "        inclined_plane_c_trans = inclined_plane.ax_c.copy().set_opacity(0.125)\n",
    "        inclined_plane_c_star = inclined_plane.ax_c_star.copy().set_opacity(1)\n",
    "        self.play(FadeTransform(inclined_plane.ax_c, inclined_plane_c_trans), FadeTransform(inclined_plane.ax_c_star, inclined_plane_c_star))\n",
    "        self.wait(3)\n",
    "\n",
    "        # finish\n",
    "        self.remove(waggon_snapshot_gravitation_vector, waggon_snapshot_perp_vector, waggon_snapshot_line_vector)\n",
    "        self.remove(ball_snapshot_gravitation_vector, ball_snapshot_perp_vector, ball_snapshot_line_vector)\n",
    "        waggon.add_updater(physics_updater)\n",
    "        ball.add_updater(physics_updater)\n",
    "        self.play(time.animate.set_value(end_time), rate_func= linear, run_time = (end_time-snapshot_time) * 3)\n",
    "        self.wait(3)"
   ]
  }
 ],
 "metadata": {
  "kernelspec": {
   "display_name": ".venv_per",
   "language": "python",
   "name": "python3"
  },
  "language_info": {
   "codemirror_mode": {
    "name": "ipython",
    "version": 3
   },
   "file_extension": ".py",
   "mimetype": "text/x-python",
   "name": "python",
   "nbconvert_exporter": "python",
   "pygments_lexer": "ipython3",
   "version": "3.12.3"
  }
 },
 "nbformat": 4,
 "nbformat_minor": 2
}
