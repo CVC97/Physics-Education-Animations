{
 "cells": [
  {
   "cell_type": "code",
   "execution_count": 1,
   "metadata": {},
   "outputs": [
    {
     "data": {
      "text/html": [
       "<pre style=\"white-space:pre;overflow-x:auto;line-height:normal;font-family:Menlo,'DejaVu Sans Mono',consolas,'Courier New',monospace\">Manim Community <span style=\"color: #008000; text-decoration-color: #008000\">v0.18.0.post0</span>\n",
       "\n",
       "</pre>\n"
      ],
      "text/plain": [
       "Manim Community \u001b[32mv0.\u001b[0m\u001b[32m18.0\u001b[0m\u001b[32m.post0\u001b[0m\n",
       "\n"
      ]
     },
     "metadata": {},
     "output_type": "display_data"
    },
    {
     "name": "stdout",
     "output_type": "stream",
     "text": [
      "Jupyter Capture Output v0.0.11\n"
     ]
    }
   ],
   "source": [
    "from manim import *\n",
    "import jupyter_capture_output\n",
    "\n",
    "video_scene = \" -v WARNING  --disable_caching ip_Scene\"\n",
    "image_scene = f\" -v WARNING --disable_caching -r {2*427},{2*240}  -s ip_Scene\""
   ]
  },
  {
   "cell_type": "code",
   "execution_count": 157,
   "metadata": {},
   "outputs": [],
   "source": [
    "class InclinedPlane(Mobject):\n",
    "    def __init__(self, starting_center, height, width, **kwargs):\n",
    "        super().__init__(**kwargs)\n",
    "\n",
    "        self.ax_center = starting_center            # this is good for exaxtly nothing because manim doesn't put ax origin into center [desgracia]\n",
    "        self.wedge_height = height\n",
    "        self.wedge_width = width\n",
    "        self.angle = np.arctan(height / width)\n",
    "\n",
    "\n",
    "        # coordinate system c\n",
    "        self.ax_c = Axes(x_range = (-1, self.wedge_width, 1), y_range = (-self.wedge_height, 1, 1), x_length = self.wedge_width+1, y_length = self.wedge_height+1,\n",
    "            axis_config = {'color': BLACK, \"tip_width\": 0.15, \"tip_height\": 0.15}\n",
    "        ).move_to(self.ax_center)\n",
    "        self.ax_c_xlabel = self.ax_c.get_x_axis_label(Tex(r\"$x$\", font_size = 36, color = BLACK)).shift(0.1 *LEFT)\n",
    "        self.ax_c_ylabel = self.ax_c.get_y_axis_label(Tex(r\"$y$\", font_size = 36, color = BLACK))\n",
    "        self.add(self.ax_c, self.ax_c_xlabel, self.ax_c_ylabel)\n",
    "\n",
    "        inclined_plane = Line(start = self.ax_c.c2p(0, 0, 0), end = self.ax_c.c2p(self.wedge_width, -self.wedge_height, 0), color = BLACK, stroke_opacity = 0.5)\n",
    "        inclined_plane_fill = Polygon(self.ax_c.c2p(0, 0, 0), self.ax_c.c2p(self.wedge_width, -self.wedge_height, 0), self.ax_c.c2p(0, -self.wedge_height, 0), fill_color = BLACK, fill_opacity = 0.125, stroke_opacity = 0)\n",
    "        self.add(inclined_plane, inclined_plane_fill)\n",
    "\n",
    "\n",
    "    # coordinate system c'\n",
    "    def get_c_star(self):\n",
    "        self.ax_c_star = Axes(x_range = (-1, self.wedge_width+1, 1), y_range = (-self.wedge_height-1, 1, 1), x_length = self.wedge_width+2, y_length = self.wedge_height+2,\n",
    "            axis_config = {'color': BLACK, \"tip_width\": 0.15, \"tip_height\": 0.15}\n",
    "        ).move_to(self.ax_center).rotate(about_point = self.ax_c.c2p(0, 0, 0), angle = -self.angle)\n",
    "        self.ax_c_star_xlabel = self.ax_c_star.get_x_axis_label(Tex(r\"$x'$\", font_size = 36, color = BLACK)).shift(0.1 *LEFT)\n",
    "        self.ax_c_star_ylabel = self.ax_c_star.get_y_axis_label(Tex(r\"$y'$\", font_size = 36, color = BLACK))\n",
    "        # self.add(self.ax_c_star)#, self.ax_c_star_xlabel, self.ax_c_star_ylabel)     \n",
    "\n",
    "        return VGroup(self.ax_c_star)\n",
    "\n",
    "\n",
    "    # waggon rolling down the plane\n",
    "    def get_waggon(self, t):\n",
    "        waggon_pos = self.ax_c.c2p(5*t**2 * np.sin(self.angle) * np.cos(self.angle), -5*t**2 * np.sin(self.angle) * np.sin(self.angle), 0) + 0.25/2*(np.cos(self.angle)*UP + np.sin(self.angle)*RIGHT)\n",
    "        waggon = Rectangle(height = 0.25, width = 0.5, color = BLACK, fill_color = BLACK, fill_opacity = 0.5\n",
    "            ).move_to(waggon_pos).rotate(about_point = waggon_pos, angle = -self.angle)\n",
    "        # gravitation vector downwards\n",
    "        waggon.gravitation = Line(start = waggon_pos, end = waggon_pos + 1.5*DOWN, color = BLACK).add_tip(tip_length = 0.15, tip_width = 0.15)\n",
    "        waggon.perp = Line(start = waggon_pos, end = waggon_pos + np.cos(self.angle)*(np.cos(self.angle)*1.5*DOWN - np.sin(self.angle)*1.5*RIGHT), color = BLACK).add_tip(tip_length = 0.15, tip_width = 0.15)\n",
    "        waggon.line = Line(start = waggon_pos, end = waggon_pos + np.sin(self.angle)*(np.sin(self.angle)*1.5*DOWN + np.cos(self.angle)*1.5*RIGHT), color = BLACK).add_tip(tip_length = 0.15, tip_width = 0.15)\n",
    "        return waggon\n",
    "    \n",
    "\n",
    "    # ball getting ejected\n",
    "    def get_ball(self, t):\n",
    "        v0 = 6                                      # starting velocity\n",
    "        ejection_time = 0.75\n",
    "        # coordinate of the waggon\n",
    "        waggon_c = np.array([5*t**2 * np.sin(self.angle) * np.cos(self.angle), -5*t**2 * np.sin(self.angle) * np.sin(self.angle), 0])\n",
    "        # additional ejection position change\n",
    "        ball_increment_c = np.array([v0 * (t-ejection_time) * np.sin(self.angle), -5*(t-ejection_time)**2 + v0 * (t-ejection_time) * np.cos(self.angle), 0])\n",
    "        # speed and position of the waggon at ejection\n",
    "        waggon_eject_pos = np.array([5*ejection_time**2 * np.sin(self.angle) * np.cos(self.angle), -5*ejection_time**2 * np.sin(self.angle) * np.sin(self.angle), 0])\n",
    "        waggon_eject_speed = np.array([10*ejection_time * np.sin(self.angle) * np.cos(self.angle), -10*ejection_time * np.sin(self.angle) * np.sin(self.angle), 0])\n",
    "        # different time sections\n",
    "        if (t < ejection_time):\n",
    "            ball_pos = self.ax_c.c2p(*waggon_c) + 0.25/2*(np.cos(self.angle)*UP + np.sin(self.angle)*RIGHT)\n",
    "        elif (t > ejection_time + 2*v0 / (10*np.cos(self.angle))):\n",
    "            ball_pos = self.ax_c.c2p(*waggon_c) + 0.25/2*(np.cos(self.angle)*UP + np.sin(self.angle)*RIGHT)\n",
    "        else:\n",
    "            ball_pos = self.ax_c.c2p(*(waggon_eject_pos + waggon_eject_speed*(t-ejection_time) + ball_increment_c)) + 0.25/2*(np.cos(self.angle)*UP + np.sin(self.angle)*RIGHT)\n",
    "        ball = Circle(radius = 0.125, color = PURE_RED, fill_color = PURE_RED, fill_opacity = 0.5).move_to(ball_pos)\n",
    "        return ball\n",
    "\n"
   ]
  },
  {
   "cell_type": "code",
   "execution_count": 158,
   "metadata": {},
   "outputs": [
    {
     "name": "stdout",
     "output_type": "stream",
     "text": [
      "Output saved by overwring previous file at animations/inclined_plane/inclined_plane.mp4.\n"
     ]
    },
    {
     "name": "stderr",
     "output_type": "stream",
     "text": [
      "                                                                                               \r"
     ]
    },
    {
     "data": {
      "text/html": [
       "<video src=\"media/jupyter/ip_Scene@2024-11-07@16-22-10.mp4\" controls autoplay loop style=\"max-width: 60%;\"  >\n",
       "      Your browser does not support the <code>video</code> element.\n",
       "    </video>"
      ],
      "text/plain": [
       "<IPython.core.display.Video object>"
      ]
     },
     "metadata": {},
     "output_type": "display_data"
    }
   ],
   "source": [
    "%%capture_video --path \"animations/inclined_plane/inclined_plane.mp4\"\n",
    "%%manim -qm --fps 60 $video_scene\n",
    "\n",
    "\n",
    "class ip_Scene(Scene):\n",
    "    def construct(self):\n",
    "        self.camera.background_color = WHITE\n",
    "\n",
    "        center = np.array([0, 0, 0])\n",
    "\n",
    "        inclined_plane = InclinedPlane(center, height = 4, width = 10)\n",
    "        self.add(inclined_plane)\n",
    "\n",
    "        waggon = inclined_plane.get_waggon(0)\n",
    "        ball = inclined_plane.get_ball(0)\n",
    "        waggon.getter = inclined_plane.get_waggon\n",
    "        ball.getter = inclined_plane.get_ball\n",
    "        self.add(waggon, ball)\n",
    "\n",
    "\n",
    "        def physics_updater(object):\n",
    "            t = time.get_value()\n",
    "            get_object = object.getter\n",
    "            object.become(get_object(t))\n",
    "\n",
    "\n",
    "        time = ValueTracker(0)\n",
    "        waggon.add_updater(physics_updater)\n",
    "        ball.add_updater(physics_updater)\n",
    "        self.play(time.animate.set_value(1.5), rate_func= linear, run_time = 3)\n",
    "        # vectors\n",
    "        waggon = inclined_plane.get_waggon(time.get_value())\n",
    "        ball = inclined_plane.get_ball(time.get_value())\n",
    "        waggon_gravitation_vector = waggon.gravitation\n",
    "        waggon_perp_vector = waggon.perp\n",
    "        waggon_line_vector = waggon.line\n",
    "        self.add(waggon_gravitation_vector, waggon_perp_vector, waggon_line_vector)\n",
    "        self.wait(3)"
   ]
  }
 ],
 "metadata": {
  "kernelspec": {
   "display_name": ".venv_per",
   "language": "python",
   "name": "python3"
  },
  "language_info": {
   "codemirror_mode": {
    "name": "ipython",
    "version": 3
   },
   "file_extension": ".py",
   "mimetype": "text/x-python",
   "name": "python",
   "nbconvert_exporter": "python",
   "pygments_lexer": "ipython3",
   "version": "3.12.3"
  }
 },
 "nbformat": 4,
 "nbformat_minor": 2
}
