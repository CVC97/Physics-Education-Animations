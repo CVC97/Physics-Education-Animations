{
 "cells": [
  {
   "cell_type": "code",
   "execution_count": 1,
   "metadata": {},
   "outputs": [
    {
     "data": {
      "text/html": [
       "<pre style=\"white-space:pre;overflow-x:auto;line-height:normal;font-family:Menlo,'DejaVu Sans Mono',consolas,'Courier New',monospace\">Manim Community <span style=\"color: #008000; text-decoration-color: #008000\">v0.18.0.post0</span>\n",
       "\n",
       "</pre>\n"
      ],
      "text/plain": [
       "Manim Community \u001b[32mv0.\u001b[0m\u001b[32m18.0\u001b[0m\u001b[32m.post0\u001b[0m\n",
       "\n"
      ]
     },
     "metadata": {},
     "output_type": "display_data"
    },
    {
     "name": "stdout",
     "output_type": "stream",
     "text": [
      "Jupyter Capture Output v0.0.11\n"
     ]
    }
   ],
   "source": [
    "from manim import *\n",
    "import jupyter_capture_output\n",
    "\n",
    "video_scene = \" -v WARNING --progress_bar None --disable_caching pge_Scene\"\n",
    "image_scene = f\" -v WARNING --progress_bar None --disable_caching -r {2*427},{2*240}  -s pge_Scene\""
   ]
  },
  {
   "cell_type": "code",
   "execution_count": 34,
   "metadata": {},
   "outputs": [
    {
     "name": "stdout",
     "output_type": "stream",
     "text": [
      "Output saved by overwring previous file at animations/potential_gradient_equipot/pge.mp4.\n"
     ]
    },
    {
     "data": {
      "text/html": [
       "<video src=\"media/jupyter/pge_Scene@2024-10-24@15-59-29.mp4\" controls autoplay loop style=\"max-width: 60%;\"  >\n",
       "      Your browser does not support the <code>video</code> element.\n",
       "    </video>"
      ],
      "text/plain": [
       "<IPython.core.display.Video object>"
      ]
     },
     "metadata": {},
     "output_type": "display_data"
    }
   ],
   "source": [
    "%%capture_video --path \"animations/potential_gradient_equipot/pge.mp4\"\n",
    "%%manim -qm --fps 60 $video_scene\n",
    "\n",
    "\n",
    "class pge_Scene(ThreeDScene):\n",
    "    def construct(self):\n",
    "\n",
    "        \n",
    "        self.camera.background_color = WHITE\n",
    "        self.set_camera_orientation(phi=75*DEGREES, theta=-45*DEGREES)\n",
    "\n",
    "        # 3D-Coordinate System\n",
    "        CO3D = [0, 0, 0.25]\n",
    "        CO3D_x_range = (-2, 2, 0.25)\n",
    "        CO3D_y_range = (-2, 2, 0.25)\n",
    "        CO3D_z_range = (-1.25, 2.5, 1)\n",
    "        ax = ThreeDAxes(\n",
    "            x_range = CO3D_x_range, y_range = CO3D_y_range, z_range = CO3D_z_range,\n",
    "            x_length = 12, y_length = 12, z_length = 6, axis_config = {'tip_length': 0.05, 'tip_width': 0.3}, \n",
    "            # axis_config = {'color': BLACK},\n",
    "            ).move_to(CO3D).set_color(BLACK)\n",
    "        self.add(ax)\n",
    "\n",
    "\n",
    "        # potential function (return ax coordinate)\n",
    "        def potential_surface(x, y):\n",
    "            z = 1/2 * (x**2+y**2)\n",
    "            return np.array(ax.c2p(x, y, z))\n",
    "\n",
    "\n",
    "        # gradient funtion (returns force direction)\n",
    "        def potential_grad(pos):\n",
    "            x = pos[0]\n",
    "            y = pos[1]\n",
    "            delta = 0.001\n",
    "            f_x = -x\n",
    "            f_y = -y\n",
    "            return f_x * RIGHT + f_y * UP\n",
    "\n",
    "\n",
    "        # plot potential function\n",
    "        resolution_fa = 16\n",
    "        surface_plane = Surface(\n",
    "            potential_surface,\n",
    "            resolution = (resolution_fa, resolution_fa),\n",
    "            v_range=[-1.5, +1.5],\n",
    "            u_range=[-1.5, +1.5]\n",
    "            )\n",
    "\n",
    "        surface_plane.set_style(fill_opacity = 1, stroke_color = GREY)\n",
    "        surface_plane.set_fill_by_checkerboard(GRAY, BLACK, opacity = 0.5)\n",
    "        self.add(surface_plane)\n",
    "\n",
    "\n",
    "        # plot force field\n",
    "        vector_field = ArrowVectorField(potential_grad, x_range = [-3*1.5, 3*1.5], y_range = [-3*1.5, 3*1.5], min_color_scheme_value=0, max_color_scheme_value=5).move_to(ax.c2p(*CO3D))\n",
    "        self.add(vector_field)\n",
    "\n",
    "\n",
    "        timeline = ValueTracker(0)\n",
    "        self.begin_ambient_camera_rotation(rate=1/PI/2)\n",
    "        self.play(timeline.animate.set_value(5), rate_func= linear, run_time = 5)\n",
    "\n",
    "        # timeline = ValueTracker(0)\n",
    "        # self.begin_ambient_camera_rotation(rate=1/PI/2)\n",
    "        # self.play(timeline.animate.set_value(5), rate_func= linear, run_time = 2*19.73)"
   ]
  }
 ],
 "metadata": {
  "kernelspec": {
   "display_name": ".venv_per",
   "language": "python",
   "name": "python3"
  },
  "language_info": {
   "codemirror_mode": {
    "name": "ipython",
    "version": 3
   },
   "file_extension": ".py",
   "mimetype": "text/x-python",
   "name": "python",
   "nbconvert_exporter": "python",
   "pygments_lexer": "ipython3",
   "version": "3.12.3"
  }
 },
 "nbformat": 4,
 "nbformat_minor": 2
}
