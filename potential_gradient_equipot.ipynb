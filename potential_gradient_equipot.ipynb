{
 "cells": [
  {
   "cell_type": "code",
   "execution_count": 1,
   "metadata": {},
   "outputs": [
    {
     "data": {
      "text/html": [
       "<pre style=\"white-space:pre;overflow-x:auto;line-height:normal;font-family:Menlo,'DejaVu Sans Mono',consolas,'Courier New',monospace\">Manim Community <span style=\"color: #008000; text-decoration-color: #008000\">v0.18.0.post0</span>\n",
       "\n",
       "</pre>\n"
      ],
      "text/plain": [
       "Manim Community \u001b[32mv0.\u001b[0m\u001b[32m18.0\u001b[0m\u001b[32m.post0\u001b[0m\n",
       "\n"
      ]
     },
     "metadata": {},
     "output_type": "display_data"
    },
    {
     "name": "stdout",
     "output_type": "stream",
     "text": [
      "Jupyter Capture Output v0.0.11\n"
     ]
    }
   ],
   "source": [
    "from manim import *\n",
    "import jupyter_capture_output\n",
    "\n",
    "video_scene = \" -v WARNING --progress_bar None --disable_caching pge_Scene\"\n",
    "image_scene = f\" -v WARNING --progress_bar None --disable_caching -r {2*427},{2*240}  -s pge_Scene\""
   ]
  },
  {
   "cell_type": "code",
   "execution_count": null,
   "metadata": {},
   "outputs": [
    {
     "name": "stdout",
     "output_type": "stream",
     "text": [
      "Output saved by creating file at animations/potential_gradient_equipot/pge_HD.mp4.\n"
     ]
    },
    {
     "data": {
      "text/html": [
       "<video src=\"media/jupyter/pge_Scene@2024-10-31@10-16-13.mp4\" controls autoplay loop style=\"max-width: 60%;\"  >\n",
       "      Your browser does not support the <code>video</code> element.\n",
       "    </video>"
      ],
      "text/plain": [
       "<IPython.core.display.Video object>"
      ]
     },
     "metadata": {},
     "output_type": "display_data"
    }
   ],
   "source": [
    "%%capture_video --path \"animations/potential_gradient_equipot/pge.mp4\"\n",
    "%%manim -qh --fps 60 $video_scene\n",
    "\n",
    "\n",
    "class pge_Scene(ThreeDScene):\n",
    "    def construct(self):\n",
    "\n",
    "        \n",
    "        self.camera.background_color = WHITE\n",
    "        self.set_camera_orientation(phi=75*DEGREES, theta=-45*DEGREES)\n",
    "\n",
    "        # 3D-Coordinate System\n",
    "        CO3D = [0, 0, 0.25]\n",
    "        CO3D_x_range = (-2, 2, 0.25)\n",
    "        CO3D_y_range = (-2, 2, 0.25)\n",
    "        CO3D_z_range = (-1.25, 2.5, 1)\n",
    "        ax = ThreeDAxes(\n",
    "            x_range = CO3D_x_range, y_range = CO3D_y_range, z_range = CO3D_z_range,\n",
    "            x_length = 12, y_length = 12, z_length = 6, axis_config = {'tip_length': 0.05, 'tip_width': 0.3}, \n",
    "            # axis_config = {'color': BLACK},\n",
    "            ).move_to(CO3D).set_color(BLACK)\n",
    "        self.add(ax)\n",
    "\n",
    "\n",
    "        # potential function (return ax coordinate)\n",
    "        def potential_surface(x, y):\n",
    "            z = 1/2 * (x**2+y**2)\n",
    "            return np.array(ax.c2p(x, y, z))\n",
    "\n",
    "\n",
    "        # gradient funtion (returns force direction)\n",
    "        def potential_grad(pos):\n",
    "            x = pos[0]\n",
    "            y = pos[1]\n",
    "            delta = 0.001\n",
    "            f_x = x\n",
    "            f_y = y\n",
    "            return f_x * RIGHT + f_y * UP\n",
    "\n",
    "\n",
    "        # gradient funtion (returns force direction)\n",
    "        def potential_force(pos):\n",
    "            x = pos[0]\n",
    "            y = pos[1]\n",
    "            delta = 0.001\n",
    "            f_x = -x\n",
    "            f_y = -y\n",
    "            return f_x * RIGHT + f_y * UP\n",
    "\n",
    "\n",
    "        # equipotential lines\n",
    "        def get_equipot_line(z, shadow = False):\n",
    "            r = np.sqrt(2*z)\n",
    "            if shadow:\n",
    "                z = 0\n",
    "            return ax.plot_parametric_curve(lambda phi: np.array([r*np.cos(phi), r*np.sin(phi), z]), t_range = [0, 2*PI], stroke_opacity = 1, color = BLACK)\n",
    "\n",
    "\n",
    "        # plot potential function\n",
    "        resolution_fa = 64\n",
    "        surface_plane = Surface(\n",
    "            potential_surface,\n",
    "            resolution = (resolution_fa, resolution_fa),\n",
    "            v_range=[-1.5, +1.5],\n",
    "            u_range=[-1.5, +1.5]\n",
    "            )\n",
    "\n",
    "        surface_plane.set_style(fill_opacity = 1, stroke_color = GREY)\n",
    "        surface_plane.set_fill_by_checkerboard(GRAY, BLACK, opacity = 0.5)\n",
    "        self.add(surface_plane)\n",
    "\n",
    "\n",
    "        # plot force field\n",
    "        vector_field_grad = ArrowVectorField(potential_grad, x_range = [-3*1.5, 3*1.5], y_range = [-3*1.5, 3*1.5], min_color_scheme_value=0, max_color_scheme_value=5).move_to(ax.c2p(0,0,0))\n",
    "        vector_field_force = ArrowVectorField(potential_force, x_range = [-3*1.5, 3*1.5], y_range = [-3*1.5, 3*1.5], min_color_scheme_value=0, max_color_scheme_value=5).move_to(ax.c2p(0,0,0))\n",
    "        # self.add(vector_field)\n",
    "\n",
    "\n",
    "        # plot equipot lines\n",
    "        def create_lines():\n",
    "            for i in range(5):\n",
    "                z = i / 4.0\n",
    "                equiline = get_equipot_line(z)\n",
    "                equiline_shadow = get_equipot_line(z, True)\n",
    "                self.play(Create(equiline), run_time = 1)\n",
    "                self.wait(0.1)\n",
    "                self.play(FadeTransform(equiline, equiline_shadow), run_time = 1)\n",
    "                self.wait(0.2)\n",
    "\n",
    "\n",
    "        timeline = ValueTracker(0)\n",
    "        self.begin_ambient_camera_rotation(rate=1/PI/2)\n",
    "        self.play(timeline.animate.set_value(5), rate_func= linear, run_time = 5)\n",
    "        self.play(Create(vector_field_grad), run_time = 3)\n",
    "        self.wait(1.5)\n",
    "        self.play(Indicate(vector_field_grad), run_time = 1)\n",
    "        self.play(FadeTransform(vector_field_grad, vector_field_force), run_time = 1)\n",
    "        self.play(timeline.animate.set_value(5), rate_func= linear, run_time = 2)\n",
    "\n",
    "        # create lines\n",
    "        for i in range(1, 5):\n",
    "            z = i / 4.0\n",
    "            equiline = get_equipot_line(z)\n",
    "            equiline_shadow = get_equipot_line(z, True)\n",
    "            if (i == 2):\n",
    "                self.stop_ambient_camera_rotation()\n",
    "                self.play(Create(equiline), run_time = 1)\n",
    "                self.wait(3)\n",
    "                self.begin_ambient_camera_rotation(rate=1/PI/2)\n",
    "            else:\n",
    "                self.play(Create(equiline), run_time = 1)\n",
    "                self.wait(0.1)\n",
    "            self.play(FadeTransform(equiline, equiline_shadow), run_time = 1)\n",
    "            self.wait(0.2)\n",
    " \n",
    "\n",
    "        self.play(timeline.animate.set_value(5), rate_func= linear, run_time = 5)\n",
    "\n",
    "        # timeline = ValueTracker(0)\n",
    "        # self.begin_ambient_camera_rotation(rate=1/PI/2)\n",
    "        # self.play(timeline.animate.set_value(5), rate_func= linear, run_time = 2*19.73)"
   ]
  }
 ],
 "metadata": {
  "kernelspec": {
   "display_name": ".venv_per",
   "language": "python",
   "name": "python3"
  },
  "language_info": {
   "codemirror_mode": {
    "name": "ipython",
    "version": 3
   },
   "file_extension": ".py",
   "mimetype": "text/x-python",
   "name": "python",
   "nbconvert_exporter": "python",
   "pygments_lexer": "ipython3",
   "version": "3.12.3"
  }
 },
 "nbformat": 4,
 "nbformat_minor": 2
}
