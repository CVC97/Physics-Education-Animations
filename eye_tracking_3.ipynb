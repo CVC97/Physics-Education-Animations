{
 "cells": [
  {
   "cell_type": "code",
   "execution_count": 2,
   "metadata": {},
   "outputs": [
    {
     "data": {
      "text/html": [
       "<pre style=\"white-space:pre;overflow-x:auto;line-height:normal;font-family:Menlo,'DejaVu Sans Mono',consolas,'Courier New',monospace\">Manim Community <span style=\"color: #008000; text-decoration-color: #008000\">v0.17.3</span>\n",
       "\n",
       "</pre>\n"
      ],
      "text/plain": [
       "Manim Community \u001b[32mv0.\u001b[0m\u001b[32m17.3\u001b[0m\n",
       "\n"
      ]
     },
     "metadata": {},
     "output_type": "display_data"
    },
    {
     "name": "stdout",
     "output_type": "stream",
     "text": [
      "Jupyter Capture Output v0.0.11\n"
     ]
    }
   ],
   "source": [
    "from manim import *\n",
    "import jupyter_capture_output\n",
    "\n",
    "video_scene = \" -v WARNING --progress_bar None --disable_caching et3_Scene\"\n",
    "image_scene = f\" -v WARNING --progress_bar None --disable_caching -r {2*427},{2*240}  -s et3_Scene\""
   ]
  },
  {
   "cell_type": "code",
   "execution_count": 31,
   "metadata": {},
   "outputs": [],
   "source": [
    "POLAR_PUPIL_BASE = (0.05, 3/4*PI)\n",
    "\n",
    "\n",
    "def screen2polar(x, y):\n",
    "    ppb_radius = POLAR_PUPIL_BASE[0]\n",
    "    ppb_angle = POLAR_PUPIL_BASE[1]\n",
    "\n",
    "    correction = 0.8/np.sqrt(5)\n",
    "    cart_pupil = np.array([ppb_radius*np.cos(ppb_angle) + correction*x, ppb_radius*np.sin(ppb_angle) + correction*y, 0])\n",
    "\n",
    "    radius = np.sqrt(cart_pupil[0]**2 + cart_pupil[1]**2)\n",
    "    angle = np.arctan2(cart_pupil[1], cart_pupil[0])\n",
    "    return (radius, angle)\n",
    "\n",
    "\n",
    "def screen_path(t):\n",
    "    return 0"
   ]
  },
  {
   "cell_type": "code",
   "execution_count": 42,
   "metadata": {},
   "outputs": [],
   "source": [
    "class Eye(VMobject):\n",
    "    def __init__(self, position, size, **kwargs):\n",
    "        super().__init__(**kwargs)\n",
    "        self.eye_center = position\n",
    "        self.eye_radius = size\n",
    "        circle = Circle(radius = self.eye_radius, color = DARK_GREY, stroke_width = 15.0).move_to(self.eye_center)\n",
    "        self.add(circle)\n",
    "\n",
    "    # returns the pupil\n",
    "    def get_pupil(self, pupil_size, pupil_pradius, pupil_angle):\n",
    "        pupil_radius = pupil_pradius * (self.eye_radius - pupil_size)\n",
    "        self.pupil_center = self.eye_center + np.array([pupil_radius*np.cos(pupil_angle), pupil_radius*np.sin(pupil_angle), 0])\n",
    "        pupil_circle = Circle(radius = pupil_size, fill_opacity = 1).move_to(self.pupil_center).set_color(BLACK)\n",
    "        return pupil_circle\n",
    "    \n",
    "    # returns cornea reflection\n",
    "    def get_reflection(self, reflect_pradius, reflect_angle):\n",
    "        reflect_radius = reflect_pradius * self.eye_radius\n",
    "        self.reflect_center = self.eye_center + np.array([reflect_radius*np.cos(reflect_angle), reflect_radius*np.sin(reflect_angle), 0])\n",
    "        reflect_dot = Dot(point = self.reflect_center, radius = 0.1, fill_opacity = 0.8).set_color([PURE_RED, RED])\n",
    "        cross_length = 0.75\n",
    "        reflect_horizontal = Line(start = self.reflect_center - cross_length*RIGHT, end = self.reflect_center + cross_length*RIGHT, stroke_width = 2, color = RED)\n",
    "        reflect_vertical = Line(start = self.reflect_center - cross_length*UP, end = self.reflect_center + cross_length*UP, stroke_width = 2, color = RED)\n",
    "        return VGroup(reflect_dot, reflect_horizontal, reflect_vertical)\n",
    "        #return reflect_dot\n",
    "    \n",
    "    def get_connector(self):\n",
    "        connect_vector = Line(start = self.reflect_center, end = self.pupil_center, color = BLUE).add_tip(tip_length = 0.25, tip_width = 0.25)\n",
    "        return connect_vector\n",
    "\n",
    "\n",
    "class Screen(VMobject):\n",
    "    def __init__(self, position, height, width, **kwargs):\n",
    "        super().__init__(**kwargs)\n",
    "        self.npla = NumberPlane(x_range = [-2, 2, 1], y_range = [-1, 1, 0.5], x_length = width*0.8, y_length = height*0.8).move_to(position)\n",
    "        #self.add(npla)\n",
    "        rectangle = Rectangle(height = height, width = width, stroke_width = 4, color = BLACK).move_to(position)\n",
    "        self.add(rectangle)\n",
    "\n",
    "        dot_center = Dot(self.npla.c2p(0, 0, 0), radius = 0.1, color = GREY)\n",
    "        dot_top_left = Dot(self.npla.c2p(-2, 1, 0), radius = 0.1, color = GREY)\n",
    "        dot_bottom_left = Dot(self.npla.c2p(-2, -1, 0), radius = 0.1, color = GREY)\n",
    "        dot_bottom_right = Dot(self.npla.c2p(2, -1, 0), radius = 0.1, color = GREY)\n",
    "        dot_top_right = Dot(self.npla.c2p(2, 1, 0), radius = 0.1, color = GREY)\n",
    "        self.add(dot_center, dot_top_left, dot_bottom_left, dot_bottom_right, dot_top_right)\n",
    "\n",
    "    \n",
    "    def get_viewpoint(self, x, y):\n",
    "        dot_viewpoint = Dot(self.npla.c2p(x, y, 0), radius = 0.075, color = RED, fill_opacity = 0.75)\n",
    "        return dot_viewpoint"
   ]
  },
  {
   "cell_type": "code",
   "execution_count": 45,
   "metadata": {},
   "outputs": [
    {
     "name": "stdout",
     "output_type": "stream",
     "text": [
      "Output saved by overwring previous file at animations/eye_tracking_3/eye_tracking_3.mp4.\n"
     ]
    },
    {
     "data": {
      "image/png": "[encoded data removed]",
      "text/plain": [
       "<IPython.core.display.Image object>"
      ]
     },
     "metadata": {},
     "output_type": "display_data"
    }
   ],
   "source": [
    "%%capture_video --path \"animations/eye_tracking_3/eye_tracking_3.mp4\"\n",
    "%%manim -qm --fps 60 $video_scene\n",
    "\n",
    "\n",
    "class et3_Scene(Scene):\n",
    "    def construct(self):\n",
    "        self.camera.background_color = WHITE\n",
    "\n",
    "        # human eye to graphic transition\n",
    "        human_eye = ImageMobject(\"external_media/Eye1.jpg\")\n",
    "        #self.add(human_eye)\n",
    "\n",
    "        eye = Eye(position = np.array([0, 0.25, 0]), size = 2.15)\n",
    "        self.add(eye)\n",
    "\n",
    "        pupil = eye.get_pupil(pupil_size = 0.38, pupil_pradius = POLAR_PUPIL_BASE[0], pupil_angle = POLAR_PUPIL_BASE[1])\n",
    "        self.add(pupil)\n",
    "\n",
    "        cornea_reflection = eye.get_reflection(reflect_pradius = 0.5, reflect_angle = 7/4*PI)\n",
    "        self.add(cornea_reflection)\n",
    "\n",
    "        vector = eye.get_connector()\n",
    "        self.add(vector)\n",
    "\n",
    "\n",
    "        # eye tracking calibration\n",
    "        screen = Screen(position = np.array([2, 0.25, 0]), height = 5*0.8, width = 8*0.8)\n",
    "        self.add(screen)\n",
    "\n",
    "\n",
    "        # MAIN\n",
    "        # self.add(human_eye)\n",
    "        # self.wait(1.5)\n",
    "        # self.play(FadeIn(eye), FadeIn(pupil), FadeOut(human_eye), run_time = 3)\n",
    "        # self.wait(0.5)\n",
    "        # self.play(FadeIn(cornea_reflection), run_time = 3)\n",
    "        # self.play(Create(vector), run_time = 1.5)\n",
    "        # self.wait(1.5)\n",
    "\n",
    "        eye1 = VGroup(eye, pupil, cornea_reflection, vector)\n",
    "        eye1.scale(0.5).shift(4*LEFT)\n",
    "        # self.play(eye1.animate.scale(0.5).shift(4*LEFT), run_time = 1.5)\n",
    "        # self.wait(1.5)\n",
    "\n",
    "        # self.play(Create(screen), run_time = 1.5)\n",
    "        # self.wait(1.5)\n",
    "\n",
    "        eye2 = Eye(position = np.array([0, 0.25, 0] + 4*LEFT), size = 2.15*0.5)\n",
    "        pupil2 = eye2.get_pupil(pupil_size = 0.38*0.5, pupil_pradius = POLAR_PUPIL_BASE[0], pupil_angle = POLAR_PUPIL_BASE[1])\n",
    "        cornea_reflection2 = eye2.get_reflection(reflect_pradius = 0.5, reflect_angle = 7/4*PI)\n",
    "        vector2 = eye2.get_connector()\n",
    "        self.add(eye2, pupil2, cornea_reflection2, vector2)\n",
    "\n",
    "        \n",
    "        x = 2\n",
    "        y = -1\n",
    "\n",
    "        polar = screen2polar(x, y)\n",
    "        \n",
    "        pupil_top_left = eye2.get_pupil(pupil_size = 0.38*0.5, pupil_pradius = polar[0], pupil_angle = polar[1])\n",
    "        viewpoint = screen.get_viewpoint(x, y)\n",
    "        self.add(pupil_top_left, viewpoint)\n",
    "\n"
   ]
  }
 ],
 "metadata": {
  "kernelspec": {
   "display_name": ".venv_per",
   "language": "python",
   "name": "python3"
  },
  "language_info": {
   "codemirror_mode": {
    "name": "ipython",
    "version": 3
   },
   "file_extension": ".py",
   "mimetype": "text/x-python",
   "name": "python",
   "nbconvert_exporter": "python",
   "pygments_lexer": "ipython3",
   "version": "3.10.12"
  }
 },
 "nbformat": 4,
 "nbformat_minor": 2
}
