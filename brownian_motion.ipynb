{
 "cells": [
  {
   "cell_type": "code",
   "execution_count": 2,
   "metadata": {},
   "outputs": [
    {
     "data": {
      "text/html": [
       "<pre style=\"white-space:pre;overflow-x:auto;line-height:normal;font-family:Menlo,'DejaVu Sans Mono',consolas,'Courier New',monospace\">Manim Community <span style=\"color: #008000; text-decoration-color: #008000\">v0.18.0.post0</span>\n",
       "\n",
       "</pre>\n"
      ],
      "text/plain": [
       "Manim Community \u001b[32mv0.\u001b[0m\u001b[32m18.0\u001b[0m\u001b[32m.post0\u001b[0m\n",
       "\n"
      ]
     },
     "metadata": {},
     "output_type": "display_data"
    },
    {
     "name": "stdout",
     "output_type": "stream",
     "text": [
      "Jupyter Capture Output v0.0.11\n"
     ]
    }
   ],
   "source": [
    "from manim import *\n",
    "import jupyter_capture_output\n",
    "from numpy import linalg as npl\n",
    "\n",
    "video_scene = \" -v WARNING --disable_caching brown_Scene\"\n",
    "image_scene = f\" -v WARNING --disable_caching -r {2*427},{2*240}  -s brown_Scene\""
   ]
  },
  {
   "cell_type": "code",
   "execution_count": 3,
   "metadata": {},
   "outputs": [],
   "source": [
    "# updates the state of one brownian particle\n",
    "def next_state(state, params):\n",
    "    L = params[0]\n",
    "    x = state[0]\n",
    "    y = state[1]\n",
    "    x_increment = 2*np.random.randint(0, 2) - 1\n",
    "    y_increment = 2*np.random.randint(0, 2) - 1\n",
    "    return np.array([x + L*x_increment, y + L*y_increment, 0])\n",
    "\n",
    "\n",
    "# calculate second moment of displacement\n",
    "def get_second_displacement_moment(particle_list):\n",
    "    sum = 0\n",
    "    for particle in particle_list:    \n",
    "        x = particle.state[0]\n",
    "        y = particle.state[1]\n",
    "        sum += x**2 + y**2\n",
    "    return sum / len(particle_list)"
   ]
  },
  {
   "cell_type": "code",
   "execution_count": 4,
   "metadata": {},
   "outputs": [
    {
     "name": "stdout",
     "output_type": "stream",
     "text": [
      "Output saved by overwring previous file at animations/brownian_motion/Brownian_Motion.mp4.\n"
     ]
    },
    {
     "name": "stderr",
     "output_type": "stream",
     "text": [
      "<string>:34: SyntaxWarning: invalid escape sequence '\\m'\n",
      "                                                                                                \r"
     ]
    },
    {
     "data": {
      "text/html": [
       "<video src=\"media/jupyter/brown_Scene@2024-11-05@17-00-13.mp4\" controls autoplay loop style=\"max-width: 60%;\"  >\n",
       "      Your browser does not support the <code>video</code> element.\n",
       "    </video>"
      ],
      "text/plain": [
       "<IPython.core.display.Video object>"
      ]
     },
     "metadata": {},
     "output_type": "display_data"
    }
   ],
   "source": [
    "%%capture_video --path \"animations/brownian_motion/Brownian_Motion.mp4\"\n",
    "%%manim -qh --fps 60 $video_scene\n",
    "\n",
    "class brown_Scene(Scene):\n",
    "    def construct(self):\n",
    "        CVC = Text('CVC', font_size = 12, weight = BOLD, color = WHITE, font = 'Latin Modern Sans').align_on_border(RIGHT + DOWN, buff = 0.2)\n",
    "        self.add(CVC)\n",
    "\n",
    "        headline = Title(\"Brownian Motion\", font_size = 48).align_on_border(UP + LEFT, buff = 0.5).shift(0.5 * RIGHT)  \n",
    "        self.add(headline)\n",
    "\n",
    "        \n",
    "        # parameters\n",
    "        origin = np.array([0, 0, 0])\n",
    "        L_1D = 0.05\n",
    "        L = np.sqrt(2) * L_1D\n",
    "        params = (L_1D,)\n",
    "\n",
    "\n",
    "        # add particles\n",
    "        brown_1 = Circle(radius = 0.1, color = WHITE, fill_color = WHITE, fill_opacity = 0.5).move_to(origin)\n",
    "        brown_2 = Circle(radius = 0.1, color = RED, fill_color = RED, fill_opacity = 0.5).move_to(origin)\n",
    "        brown_3 = Circle(radius = 0.1, color = BLUE, fill_color = BLUE, fill_opacity = 0.5).move_to(origin)\n",
    "\n",
    "        brown_1.state = np.array([*origin])\n",
    "        brown_2.state = np.array([*origin])\n",
    "        brown_3.state = np.array([*origin])\n",
    "\n",
    "        brown_1.color = WHITE\n",
    "        brown_2.color = RED\n",
    "        brown_3.color = BLUE\n",
    "\n",
    "\n",
    "        # displacement display\n",
    "        second_moment = get_second_displacement_moment([brown_1, brown_2, brown_3])\n",
    "        k_B_calculator_1 = MathTex(\"k_\\mathrm{B}^\\mathrm{exp}=k_\\mathrm{B}^\\mathrm{theo}\\cdot\").align_on_border(DOWN + LEFT)\n",
    "        k_B_calculator_2 = Tex(f\"{round(1/L**2*second_moment/1, 2)}\").next_to(k_B_calculator_1, RIGHT)\n",
    "        k_B_calculator_2.t = 0\n",
    "        self.add(k_B_calculator_1, k_B_calculator_2)\n",
    "\n",
    "\n",
    "        self.add(brown_1)\n",
    "        self.add(brown_2)\n",
    "        self.add(brown_3)\n",
    "        self.wait(1.5)\n",
    "\n",
    "\n",
    "        # updater to move a given brownian particle to its next position\n",
    "        def particle_updater(particle):\n",
    "            particle_state = particle.state                                 # current state of the particle\n",
    "            particle_color = particle.color                                 # color of the particle \n",
    "            new_particle_state = next_state(particle_state, params)         # new state of the particle\n",
    "            # connecting old and new position\n",
    "            particle_connector = Line(start = particle_state, end = new_particle_state, color = particle_color, stroke_opacity = 0.5)\n",
    "            self.add(particle_connector)\n",
    "            # update the state of the particle to its new position\n",
    "            particle.state = new_particle_state\n",
    "            # move particle to new location\n",
    "            particle.move_to(new_particle_state)\n",
    "\n",
    "\n",
    "        def k_B_updater(k_B):\n",
    "            k_B.t += 1\n",
    "            if (k_B.t % 30 == 0):\n",
    "                second_moment = get_second_displacement_moment([brown_1, brown_2, brown_3])\n",
    "                k_B.become(Tex(f\"{round(1/L**2*second_moment/k_B.t, 2)}\").next_to(k_B_calculator_1, RIGHT))\n",
    "\n",
    "        \n",
    "        # add the updaters\n",
    "        brown_1.add_updater(particle_updater)\n",
    "        brown_2.add_updater(particle_updater)\n",
    "        brown_3.add_updater(particle_updater)\n",
    "        k_B_calculator_2.add_updater(k_B_updater)\n",
    "\n",
    "        timeline = ValueTracker(0)\n",
    "        self.play(timeline.animate.set_value(5), rate_func= linear, run_time = 30)\n",
    "        self.wait(5)"
   ]
  }
 ],
 "metadata": {
  "kernelspec": {
   "display_name": ".venv_per",
   "language": "python",
   "name": "python3"
  },
  "language_info": {
   "codemirror_mode": {
    "name": "ipython",
    "version": 3
   },
   "file_extension": ".py",
   "mimetype": "text/x-python",
   "name": "python",
   "nbconvert_exporter": "python",
   "pygments_lexer": "ipython3",
   "version": "3.12.3"
  }
 },
 "nbformat": 4,
 "nbformat_minor": 2
}
