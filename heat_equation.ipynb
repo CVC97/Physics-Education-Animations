{
 "cells": [
  {
   "cell_type": "code",
   "execution_count": 2,
   "metadata": {},
   "outputs": [
    {
     "data": {
      "text/html": [
       "<pre style=\"white-space:pre;overflow-x:auto;line-height:normal;font-family:Menlo,'DejaVu Sans Mono',consolas,'Courier New',monospace\">Manim Community <span style=\"color: #008000; text-decoration-color: #008000\">v0.16.0.post0</span>\n",
       "\n",
       "</pre>\n"
      ],
      "text/plain": [
       "Manim Community \u001b[32mv0.\u001b[0m\u001b[32m16.0\u001b[0m\u001b[32m.post0\u001b[0m\n",
       "\n"
      ]
     },
     "metadata": {},
     "output_type": "display_data"
    },
    {
     "name": "stdout",
     "output_type": "stream",
     "text": [
      "Jupyter Capture Output v0.0.8\n"
     ]
    }
   ],
   "source": [
    "from manim import *\n",
    "from numpy import linalg as npl\n",
    "import math\n",
    "import matplotlib.pyplot as plt\n",
    "import jupyter_capture_output\n",
    "from scipy.interpolate import make_interp_spline, BSpline\n",
    "from multiprocessing import Process\n",
    "\n",
    "video_scene = \" -v WARNING --progress_bar None --disable_caching heat_Scene\"\n",
    "image_scene = f\" -v WARNING --progress_bar None --disable_caching -r {2*427},{2*240}  -s heat_Scene\""
   ]
  },
  {
   "cell_type": "code",
   "execution_count": 59,
   "metadata": {},
   "outputs": [
    {
     "name": "stdout",
     "output_type": "stream",
     "text": [
      "Output saved by overwring previous file at animations/heat_equation/heat_equation.mp4.\n"
     ]
    },
    {
     "data": {
      "text/html": [
       "<video src=\"media/jupyter/heat_Scene@2023-06-11@11-30-06.mp4\" controls autoplay loop style=\"max-width: 60%;\"  >\n",
       "      Your browser does not support the <code>video</code> element.\n",
       "    </video>"
      ],
      "text/plain": [
       "<IPython.core.display.Video object>"
      ]
     },
     "metadata": {},
     "output_type": "display_data"
    }
   ],
   "source": [
    "%%capture_video --path \"animations/heat_equation/heat_equation.mp4\"\n",
    "%%manim -qh --fps 60 $video_scene\n",
    "\n",
    "\n",
    "### Datenerzeugung ###\n",
    "A22_Heat_data = np.loadtxt(\"external_data/A22_Waermeleitungsgleichung_data.csv\", delimiter = \",\", skiprows = 0)\n",
    "\n",
    "x_array = A22_Heat_data[0,:]\n",
    "heat_iter_list = []\n",
    "\n",
    "# Erzeugung des Iter-Arrays\n",
    "for i in range(len(x_array)):\n",
    "    heat_iter_list.append(iter(A22_Heat_data[1::10,i]))\n",
    "### Datenerzeugung ###\n",
    "\n",
    "\n",
    "class heat_Scene(Scene):\n",
    "    def construct(self):\n",
    "        CVC = Text('CVC', font_size = 12, weight = BOLD, color = WHITE, font = 'Latin Modern Sans').align_on_border(RIGHT + DOWN, buff = 0.2)\n",
    "        self.add(CVC)\n",
    "\n",
    "\n",
    "        # Header\n",
    "        text_heat = Tex(r\"Wärmeleitungsgleichung: $\\partial_t T(x,t)=D\\cdot\\partial_x^2 T(x, t)$\", font_size = 48).align_on_border(UP + LEFT, buff = 0.5).shift(RIGHT)\n",
    "        self.add(text_heat)\n",
    "\n",
    "\n",
    "        # Heat-Sources\n",
    "        left_source = Circle(radius = 1.0, color = RED, fill_opacity = 0.5).move_to([-5.5, 0, -1])\n",
    "        right_source = Circle(radius = 1.0, color = BLUE, fill_opacity = 0.5).move_to([5.5, 0, -1])\n",
    "        self.add(left_source, right_source)\n",
    "\n",
    "\n",
    "        # Heating Rode\n",
    "        Rode = Rectangle(height = 0.75 + 0.02, width = 10 + 0.02, fill_color = WHITE, fill_opacity = 0.5, stroke_opacity = 1, stroke_color = WHITE)\n",
    "        self.add(Rode)\n",
    "\n",
    "\n",
    "        # Initial Heat-Elementes of the Rode\n",
    "        T_line_list = []\n",
    "        for i, heat_iter in enumerate(heat_iter_list):\n",
    "            T = next(heat_iter)\n",
    "            if T > 0:\n",
    "                T_line = Line(start = [(-0.5 + x_array[i]) * 10, -0.75/2, 0], end = [(-0.5 + x_array[i]) * 10, 0.75/2, 0], color = RED, stroke_opacity = T)\n",
    "            else:\n",
    "                T_line = Line(start = [(-0.5 + x_array[i]) * 10, -0.75/2, 0], end = [(-0.5 + x_array[i]) * 10, 0.75/2, 0], color = BLUE, stroke_opacity = T)\n",
    "            T_line_list.append(T_line)\n",
    "            self.add(T_line_list[i])\n",
    "\n",
    "\n",
    "        # Heat-Elements-Updater\n",
    "        def T_updater(Rode):\n",
    "            for i, heat_iter in enumerate(heat_iter_list):\n",
    "                T = next(heat_iter)\n",
    "                if T > 0:\n",
    "                    T_line_list[i].become(Line(start = [(-0.5 + x_array[i]) * 10, -0.75/2, 0], end = [(-0.5 + x_array[i]) * 10, 0.75/2, 0], color = RED, stroke_opacity = T))\n",
    "                else:\n",
    "                    T_line_list[i].become(Line(start = [(-0.5 + x_array[i]) * 10, -0.75/2, 0], end = [(-0.5 + x_array[i]) * 10, 0.75/2, 0], color = BLUE, stroke_opacity = abs(T)))\n",
    "\n",
    "\n",
    "        # Adding Dynamic\n",
    "        time = ValueTracker(0)\n",
    "        Rode.add_updater(T_updater)\n",
    "        self.wait(0.5)\n",
    "        self.play(time.animate.set_value(1), rate_func= linear, run_time = 19.5)\n"
   ]
  }
 ],
 "metadata": {
  "kernelspec": {
   "display_name": "Python 3",
   "language": "python",
   "name": "python3"
  },
  "language_info": {
   "codemirror_mode": {
    "name": "ipython",
    "version": 3
   },
   "file_extension": ".py",
   "mimetype": "text/x-python",
   "name": "python",
   "nbconvert_exporter": "python",
   "pygments_lexer": "ipython3",
   "version": "3.10.6"
  },
  "orig_nbformat": 4
 },
 "nbformat": 4,
 "nbformat_minor": 2
}
