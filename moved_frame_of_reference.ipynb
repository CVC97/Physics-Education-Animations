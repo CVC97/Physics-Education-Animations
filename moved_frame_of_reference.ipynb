{
 "cells": [
  {
   "cell_type": "code",
   "execution_count": 2,
   "metadata": {},
   "outputs": [
    {
     "data": {
      "text/html": [
       "<pre style=\"white-space:pre;overflow-x:auto;line-height:normal;font-family:Menlo,'DejaVu Sans Mono',consolas,'Courier New',monospace\">Manim Community <span style=\"color: #008000; text-decoration-color: #008000\">v0.16.0.post0</span>\n",
       "\n",
       "</pre>\n"
      ],
      "text/plain": [
       "Manim Community \u001b[32mv0.\u001b[0m\u001b[32m16.0\u001b[0m\u001b[32m.post0\u001b[0m\n",
       "\n"
      ]
     },
     "metadata": {},
     "output_type": "display_data"
    },
    {
     "name": "stdout",
     "output_type": "stream",
     "text": [
      "Jupyter Capture Output v0.0.8\n"
     ]
    }
   ],
   "source": [
    "from manim import *\n",
    "from numpy import linalg as npl\n",
    "import matplotlib.pyplot as plt\n",
    "import jupyter_capture_output\n",
    "from scipy.interpolate import make_interp_spline, BSpline\n",
    "\n",
    "video_scene = \" -v WARNING --progress_bar None --disable_caching mfor_Scene\"\n",
    "image_scene = f\" -v WARNING --progress_bar None --disable_caching -r {2*427},{2*240}  -s mfor_Scene\""
   ]
  },
  {
   "cell_type": "code",
   "execution_count": 126,
   "metadata": {},
   "outputs": [],
   "source": [
    "# Trajektorie der Parabel: a*(x - x_shift)**2 + b\n",
    "def traj_ball(t):  \n",
    "    return (4*t - 16, 10*t - 2 * t**2, 0)\n",
    "\n",
    "\n",
    "# Trajektorie des bewegten reference-frames: a*x + b\n",
    "def traj_mfor(t):\n",
    "    x = -2*t\n",
    "    a = -7.5/10\n",
    "    return (x, a*x, 0)"
   ]
  },
  {
   "cell_type": "code",
   "execution_count": 150,
   "metadata": {},
   "outputs": [
    {
     "name": "stdout",
     "output_type": "stream",
     "text": [
      "Output saved by overwring previous file at animations/moved_frame_of_reference/moved_frame_of_reference.mp4.\n"
     ]
    },
    {
     "data": {
      "text/html": [
       "<video src=\"media/jupyter/mfor_Scene@2022-11-17@15-50-54.mp4\" controls autoplay loop style=\"max-width: 60%;\"  >\n",
       "      Your browser does not support the <code>video</code> element.\n",
       "    </video>"
      ],
      "text/plain": [
       "<IPython.core.display.Video object>"
      ]
     },
     "metadata": {},
     "output_type": "display_data"
    }
   ],
   "source": [
    "%%capture_video --path \"animations/moved_frame_of_reference/moved_frame_of_reference.mp4\"\n",
    "%%manim -qm --fps 20 $video_scene\n",
    "\n",
    "class mfor_Scene(Scene):\n",
    "    def construct(self):\n",
    "        CVC = Text('CVC', font_size = 12, weight = BOLD, color = WHITE, font = 'Latin Modern Sans').align_on_border(RIGHT + DOWN, buff = 0.2)\n",
    "        self.add(CVC)\n",
    "\n",
    "        text1 = Text(\"(a) Ruhendes Bezugssystem\", font_size = 36).align_on_border(UP + LEFT, buff = 0.5)\n",
    "        text2 = Text(\"(b) Bewegtes Bezugssystem\", font_size = 36).align_on_border(UP + LEFT, buff = 0.5)\n",
    "\n",
    "        npla = NumberPlane(\n",
    "            x_range = [-50, 50, 2], y_range  = [-50, 50, 2], x_length = 50, y_length = 40, \n",
    "            axis_config = {\"include_numbers\": False, \"stroke_opacity\": 0.25}, background_line_style = {\"stroke_opacity\": 0.25}).move_to([3, -2, -1])        \n",
    "\n",
    "        mfor_obj1 = ImageMobject(\"media/images/manim_animations/carlo_close_template.jpg\").move_to(npla.c2p(traj_mfor(0)[0], traj_mfor(0)[1], 0))\n",
    "        ball = Circle(radius = 0.125, color = RED, fill_opacity = 0.5).move_to(npla.c2p(traj_ball(0)[0], traj_ball(0)[1], 0))\n",
    "\n",
    "        mfor_x_axis = Line(npla.c2p(-50, traj_mfor(0)[1], 0), npla.c2p(50, traj_mfor(0)[1], 0), color = WHITE, stroke_width = 0.5)\n",
    "        mfor_y_axis = Line(npla.c2p(traj_mfor(0)[0], -50, 0), npla.c2p(traj_mfor(0)[0], 50, 0), color = WHITE, stroke_width = 0.5)\n",
    "\n",
    "        mfor_x = Text(\"x'\", font_size = 16).move_to([6.75, npla.c2p(0, traj_mfor(0)[1] + 0.5, 0)[1], 0])\n",
    "        mfor_y = Text(\"y'\", font_size = 16).move_to([npla.c2p(traj_mfor(0)[0] + 0.5, 0, 0)[0], 3.75, 0])\n",
    "        \n",
    "        \n",
    "        def ball_updater(obj):\n",
    "            t = time.get_value()\n",
    "            x = traj_ball(t)[0]\n",
    "            y = traj_ball(t)[1]\n",
    "            obj.move_to(npla.c2p(x, y, 0))\n",
    "\n",
    "\n",
    "        def mfor_updater(obj):\n",
    "            t = time.get_value()\n",
    "            x = traj_mfor(t)[0]\n",
    "            y = traj_mfor(t)[1]\n",
    "            obj.move_to(npla.c2p(x, y, 0))\n",
    "\n",
    "        def mfor_x_axis_updater(axis):\n",
    "            t = time.get_value()\n",
    "            y = traj_mfor(t)[1]\n",
    "            axis.move_to(npla.c2p(0, y, 0))\n",
    "\n",
    "        def mfor_y_axis_updater(axis):\n",
    "            t = time.get_value()\n",
    "            x = traj_mfor(t)[0]\n",
    "            axis.move_to(npla.c2p(x, 0, 0))\n",
    "\n",
    "        def mfor_x_updater(label):\n",
    "            t = time.get_value()\n",
    "            y = npla.c2p(0, traj_mfor(t)[1] + 0.5, 0)[1]\n",
    "            label.move_to([6.75, y, 0])\n",
    "\n",
    "        def mfor_y_updater(label):\n",
    "            t = time.get_value()\n",
    "            x = npla.c2p(traj_mfor(t)[0] + 0.5, 0, 0)[0]\n",
    "            label.move_to([x, 3.75, 0])\n",
    "\n",
    "        self.add(npla)\n",
    "        self.play(Write(text1), run_time = 1.5)\n",
    "        self.play(FadeIn(mfor_obj1), FadeIn(ball), FadeIn(mfor_x_axis), FadeIn(mfor_y_axis), FadeIn(mfor_x), FadeIn(mfor_y), run_time = 3)\n",
    "        self.play(Unwrite(text1), run_time = 1.5)\n",
    "        self.wait(0.5)\n",
    "        \n",
    "        self.add(mfor_obj1)\n",
    "        self.add(ball)\n",
    "\n",
    "        self.add(mfor_x_axis, mfor_y_axis)\n",
    "        self.add(mfor_x, mfor_y)\n",
    "        \n",
    "\n",
    "        time = ValueTracker(0)\n",
    "\n",
    "        ball.add_updater(ball_updater)\n",
    "        mfor_obj1.add_updater(mfor_updater)\n",
    "\n",
    "        mfor_x_axis.add_updater(mfor_x_axis_updater)\n",
    "        mfor_y_axis.add_updater(mfor_y_axis_updater)\n",
    "\n",
    "        mfor_x.add_updater(mfor_x_updater)\n",
    "        mfor_y.add_updater(mfor_y_updater)\n",
    "\n",
    "        self.play(time.animate.set_value(7.5), rate_func = linear, run_time = 7.5)\n",
    "        self.wait(1.5)\n",
    "        self.play(FadeOut(mfor_obj1), FadeOut(ball), FadeOut(mfor_x_axis), FadeOut(mfor_y_axis), FadeOut(mfor_x), FadeOut(mfor_y), run_time = 3)\n",
    "        self.play(Write(text2), run_time = 1.5)\n"
   ]
  }
 ],
 "metadata": {
  "kernelspec": {
   "display_name": "Python 3.10.6 64-bit",
   "language": "python",
   "name": "python3"
  },
  "language_info": {
   "codemirror_mode": {
    "name": "ipython",
    "version": 3
   },
   "file_extension": ".py",
   "mimetype": "text/x-python",
   "name": "python",
   "nbconvert_exporter": "python",
   "pygments_lexer": "ipython3",
   "version": "3.10.6"
  },
  "orig_nbformat": 4,
  "vscode": {
   "interpreter": {
    "hash": "916dbcbb3f70747c44a77c7bcd40155683ae19c65e1c03b4aa3499c5328201f1"
   }
  }
 },
 "nbformat": 4,
 "nbformat_minor": 2
}
