{
 "cells": [
  {
   "cell_type": "code",
   "execution_count": 2,
   "metadata": {},
   "outputs": [
    {
     "data": {
      "text/html": [
       "<pre style=\"white-space:pre;overflow-x:auto;line-height:normal;font-family:Menlo,'DejaVu Sans Mono',consolas,'Courier New',monospace\">Manim Community <span style=\"color: #008000; text-decoration-color: #008000\">v0.16.0.post0</span>\n",
       "\n",
       "</pre>\n"
      ],
      "text/plain": [
       "Manim Community \u001b[32mv0.\u001b[0m\u001b[32m16.0\u001b[0m\u001b[32m.post0\u001b[0m\n",
       "\n"
      ]
     },
     "metadata": {},
     "output_type": "display_data"
    },
    {
     "name": "stdout",
     "output_type": "stream",
     "text": [
      "Jupyter Capture Output v0.0.8\n"
     ]
    }
   ],
   "source": [
    "from manim import *\n",
    "from numpy import linalg as npl\n",
    "import matplotlib.pyplot as plt\n",
    "import jupyter_capture_output\n",
    "from scipy.interpolate import make_interp_spline, BSpline\n",
    "\n",
    "video_scene = \" -v WARNING --progress_bar None --disable_caching mfor_Scene\"\n",
    "image_scene = f\" -v WARNING --progress_bar None --disable_caching -r {2*427},{2*240}  -s mfor_Scene\""
   ]
  },
  {
   "cell_type": "code",
   "execution_count": 33,
   "metadata": {},
   "outputs": [],
   "source": [
    "# Trajektorie der Parabel: a*(x - x_shift)**2 + b\n",
    "def traj_bird(t):  \n",
    "    return (2.5*t - 16, 12.5*t - 2 * t**2, 0)\n",
    "\n",
    "\n",
    "# Trajektorie des bewegten reference-frames: a*x + b\n",
    "def traj_cat(t):\n",
    "    x = -2*t\n",
    "    a = -7.5/10\n",
    "    return (x, a*x, 0)"
   ]
  },
  {
   "cell_type": "code",
   "execution_count": 35,
   "metadata": {},
   "outputs": [
    {
     "name": "stdout",
     "output_type": "stream",
     "text": [
      "Output saved by overwring previous file at animations/moved_frame_of_reference/moved_frame_of_reference_F4.mp4.\n"
     ]
    },
    {
     "data": {
      "text/html": [
       "<video src=\"media/jupyter/mfor_Scene@2022-11-24@19-04-51.mp4\" controls autoplay loop style=\"max-width: 60%;\"  >\n",
       "      Your browser does not support the <code>video</code> element.\n",
       "    </video>"
      ],
      "text/plain": [
       "<IPython.core.display.Video object>"
      ]
     },
     "metadata": {},
     "output_type": "display_data"
    }
   ],
   "source": [
    "%%capture_video --path \"animations/moved_frame_of_reference/moved_frame_of_reference.mp4\"\n",
    "%%manim -qm --fps 20 $video_scene\n",
    "\n",
    "class mfor_Scene(Scene):\n",
    "    def construct(self):\n",
    "        CVC = Text('CVC', font_size = 12, weight = BOLD, color = WHITE, font = 'Latin Modern Sans').align_on_border(RIGHT + DOWN, buff = 0.2)\n",
    "        self.add(CVC)\n",
    "\n",
    "        origin = [3, -1, -1]\n",
    "\n",
    "        text1 = Text(\"(a) Ruhendes Bezugssystem\", font_size = 36).align_on_border(UP + LEFT, buff = 0.5)\n",
    "        text2 = Text(\"(b) Bewegtes Bezugssystem\", font_size = 36).align_on_border(UP + LEFT, buff = 0.5)\n",
    "\n",
    "        npla = NumberPlane(\n",
    "            x_range = [-50, 50, 2], y_range  = [-50, 50, 2], x_length = 50, y_length = 20, \n",
    "            axis_config = {\"include_numbers\": False, \"stroke_opacity\": 0.25}, background_line_style = {\"stroke_opacity\": 0.25}).move_to(origin)  \n",
    "\n",
    "        npla2 = NumberPlane(x_range = [-50, 50, 2], y_range  = [-50, 50, 2], x_length = 50, y_length = 20).move_to(origin)       \n",
    "\n",
    "        cat = ImageMobject(\"media/images/manim_animations/leothekiller_t.png\").move_to(npla.c2p(traj_cat(0)[0], traj_cat(0)[1], 3))\n",
    "        bird = ImageMobject(\"media/images/manim_animations/birdyvictim_t.png\").move_to(npla.c2p(traj_bird(0)[0], traj_bird(0)[1], 1))\n",
    "\n",
    "        cat_x_axis = Line(npla.c2p(-50, traj_cat(0)[1], 0), npla.c2p(50, traj_cat(0)[1], 0), color = WHITE, stroke_width = 0.5)\n",
    "        cat_y_axis = Line(npla.c2p(traj_cat(0)[0], -50, 0), npla.c2p(traj_cat(0)[0], 50, 0), color = WHITE, stroke_width = 0.5)\n",
    "\n",
    "        cat_x = Text(\"x'\", font_size = 16).move_to([6.75, npla.c2p(0, traj_cat(0)[1] + 0.5, 0)[1], 0])\n",
    "        cat_y = Text(\"y'\", font_size = 16).move_to([npla.c2p(traj_cat(0)[0] + 0.5, 0, 0)[0], 3.75, 0])\n",
    "\n",
    "        x = Text(\"x\", font_size = 16).move_to([6.75, npla.c2p(0, traj_cat(0)[1] + 0.5, 0)[1], 0])\n",
    "        y = Text(\"y\", font_size = 16).move_to([npla.c2p(traj_cat(0)[0] + 0.5, 0, 0)[0], 3.75, 0])\n",
    "\n",
    "        # z-Indizes\n",
    "        npla.z_index = -1\n",
    "        cat.z_index = 2\n",
    "        bird.z_index = 4\n",
    "        \n",
    "        def dot_fadeout_updater(dot):\n",
    "            if dot.counter > 0:\n",
    "                dot.fill_opacity -= 1/dot.counter\n",
    "                dot.set_opacity(dot.fill_opacity)\n",
    "                dot.counter -= 1               \n",
    "\n",
    "\n",
    "        def bird_updater(obj):\n",
    "            t = time.get_value()\n",
    "            x = traj_bird(t)[0]\n",
    "            y = traj_bird(t)[1]\n",
    "\n",
    "            dot1 = Dot(radius = 0.05, fill_color = RED, fill_opacity = 0.5).move_to(npla.c2p(x, y, -1))\n",
    "            dot1.z_index = 3\n",
    "            dot1.counter = 200\n",
    "            dot1.fill_opacity = 1\n",
    "            dot1.set_opacity(dot1.fill_opacity)\n",
    "            self.add(dot1)\n",
    "            dot1.add_updater(dot_fadeout_updater)\n",
    "\n",
    "            obj.move_to(npla.c2p(x, y, 0))\n",
    "\n",
    "        def cat_updater(obj):\n",
    "            t = time.get_value()\n",
    "            x = traj_cat(t)[0]\n",
    "            y = traj_cat(t)[1]\n",
    "            obj.move_to(npla.c2p(x, y, 0))\n",
    "\n",
    "        def cat_x_axis_updater(axis):\n",
    "            t = time.get_value()\n",
    "            y = traj_cat(t)[1]\n",
    "            axis.move_to(npla.c2p(0, y, 0))\n",
    "\n",
    "        def cat_y_axis_updater(axis):\n",
    "            t = time.get_value()\n",
    "            x = traj_cat(t)[0]\n",
    "            axis.move_to(npla.c2p(x, 0, 0))\n",
    "\n",
    "        def cat_x_updater(label):\n",
    "            t = time.get_value()\n",
    "            y = npla.c2p(0, traj_cat(t)[1] + 0.5, 0)[1]\n",
    "            label.move_to([6.75, y, 0])\n",
    "\n",
    "        def cat_y_updater(label):\n",
    "            t = time.get_value()\n",
    "            x = npla.c2p(traj_cat(t)[0] + 0.5, 0, 0)[0]\n",
    "            label.move_to([x, 3.75, 0])\n",
    "\n",
    "        def x_updater(label):\n",
    "            t = time.get_value()\n",
    "            y = npla.c2p(0, traj_cat(0)[1] + 0.5, 0)[1]\n",
    "            label.move_to([6.75, y, 0])\n",
    "\n",
    "        def y_updater(label):\n",
    "            t = time.get_value()\n",
    "            x = npla.c2p(traj_cat(0)[0] + 0.5, 0, 0)[0]\n",
    "            label.move_to([x, 3.75, 0])\n",
    "\n",
    "        def npla_updater(plane):\n",
    "            t = time.get_value()\n",
    "            x = -traj_cat(t)[0]\n",
    "            y = -traj_cat(t)[1]      \n",
    "            plane.move_to(npla2.c2p(x, y, 0))\n",
    "\n",
    "\n",
    "########## Animation ##########\n",
    "\n",
    "        self.add(npla)\n",
    "        self.play(Write(text1), run_time = 1.5)\n",
    "        self.play(FadeIn(cat), FadeIn(bird), FadeIn(cat_x_axis), FadeIn(cat_y_axis), FadeIn(cat_x), FadeIn(cat_y), FadeIn(x), FadeIn(y), run_time = 3)\n",
    "        self.play(Unwrite(text1), run_time = 1.5)\n",
    "        self.wait(0.5)\n",
    "        \n",
    "        time = ValueTracker(0)\n",
    "\n",
    "        bird.add_updater(bird_updater)\n",
    "        cat.add_updater(cat_updater)\n",
    "        cat_x_axis.add_updater(cat_x_axis_updater)\n",
    "        cat_y_axis.add_updater(cat_y_axis_updater)\n",
    "        cat_x.add_updater(cat_x_updater)\n",
    "        cat_y.add_updater(cat_y_updater)\n",
    "        x.add_updater(x_updater)\n",
    "        y.add_updater(y_updater)\n",
    "\n",
    "        self.play(time.animate.set_value(7.5), rate_func = linear, run_time = 7.5)\n",
    "        #self.wait(1.5)\n",
    "        cat.remove_updater(cat_updater)\n",
    "        self.play(FadeOut(cat), FadeOut(bird), FadeOut(cat_x_axis), FadeOut(cat_y_axis), FadeOut(cat_x), FadeOut(cat_y), run_time = 4.5)\n",
    "        self.play(Write(text2), run_time = 1.5)\n",
    "\n",
    "        bird.remove_updater(bird_updater)\n",
    "        bird.move_to(npla.c2p(traj_bird(0)[0], traj_bird(0)[1], 0))\n",
    "        time = ValueTracker(0)\n",
    "\n",
    "        cat.add_updater(cat_updater)\n",
    "        self.play(FadeIn(cat), FadeIn(bird), FadeIn(cat_x_axis), FadeIn(cat_y_axis), FadeIn(cat_x), FadeIn(cat_y), run_time = 3)\n",
    "\n",
    "        self.play(Unwrite(text2), run_time = 1.5)\n",
    "        self.wait(0.5)        \n",
    "\n",
    "        bird.add_updater(bird_updater)\n",
    "        npla.add_updater(npla_updater)\n",
    "\n",
    "        self.play(time.animate.set_value(7.5), rate_func = linear, run_time = 7.5)\n",
    "        cat.remove_updater(cat_updater)\n",
    "        self.play(FadeOut(cat), FadeOut(bird), FadeOut(cat_x_axis), FadeOut(cat_y_axis), FadeOut(cat_x), FadeOut(cat_y), run_time = 4.5)\n",
    "        self.wait(3)"
   ]
  }
 ],
 "metadata": {
  "kernelspec": {
   "display_name": "Python 3.10.6 64-bit",
   "language": "python",
   "name": "python3"
  },
  "language_info": {
   "codemirror_mode": {
    "name": "ipython",
    "version": 3
   },
   "file_extension": ".py",
   "mimetype": "text/x-python",
   "name": "python",
   "nbconvert_exporter": "python",
   "pygments_lexer": "ipython3",
   "version": "3.10.6"
  },
  "orig_nbformat": 4,
  "vscode": {
   "interpreter": {
    "hash": "916dbcbb3f70747c44a77c7bcd40155683ae19c65e1c03b4aa3499c5328201f1"
   }
  }
 },
 "nbformat": 4,
 "nbformat_minor": 2
}
