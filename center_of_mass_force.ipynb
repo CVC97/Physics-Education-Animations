{
 "cells": [
  {
   "cell_type": "code",
   "execution_count": 1,
   "metadata": {},
   "outputs": [
    {
     "data": {
      "text/html": [
       "<pre style=\"white-space:pre;overflow-x:auto;line-height:normal;font-family:Menlo,'DejaVu Sans Mono',consolas,'Courier New',monospace\">Manim Community <span style=\"color: #008000; text-decoration-color: #008000\">v0.16.0.post0</span>\n",
       "\n",
       "</pre>\n"
      ],
      "text/plain": [
       "Manim Community \u001b[32mv0.\u001b[0m\u001b[32m16.0\u001b[0m\u001b[32m.post0\u001b[0m\n",
       "\n"
      ]
     },
     "metadata": {},
     "output_type": "display_data"
    },
    {
     "name": "stdout",
     "output_type": "stream",
     "text": [
      "Jupyter Capture Output v0.0.8\n"
     ]
    }
   ],
   "source": [
    "from manim import *\n",
    "from numpy import linalg as npl\n",
    "import matplotlib.pyplot as plt\n",
    "import jupyter_capture_output\n",
    "from scipy.interpolate import make_interp_spline, BSpline\n",
    "\n",
    "video_scene = \" -v WARNING --progress_bar None --disable_caching comf_Scene\"\n",
    "image_scene = f\" -v WARNING --progress_bar None --disable_caching -r {2*427},{2*240}  -s comf_Scene\""
   ]
  },
  {
   "cell_type": "code",
   "execution_count": 72,
   "metadata": {},
   "outputs": [],
   "source": [
    "# zentraler Stoß\n",
    "m1 = 5\n",
    "m2 = 5\n",
    "m3 = 5\n",
    "\n",
    "r1 = np.sqrt(m1/PI/10)\n",
    "r2 = np.sqrt(m2/PI/10)\n",
    "r3 = np.sqrt(m3/PI/10)\n",
    "\n",
    "\n",
    "def x_i(T, dt):\n",
    "    N = int(T/dt)\n",
    "\n",
    "    x_array = np.zeros((N+1, 3))\n",
    "    x_com_array = np.zeros((N+1, 3))\n",
    "    com_array = np.zeros((N+1, ))\n",
    "\n",
    "    x1 = -5\n",
    "    x2 = -1\n",
    "    x3 = 3\n",
    "\n",
    "    v_x1 = 10\n",
    "    v_x2 = 0    # FIX\n",
    "    v_x3 = 0\n",
    "    \n",
    "    com = (m1*x1+m2*x2+m3*x3) / (m1+m2+m3)\n",
    "    com_array[0] = com\n",
    "\n",
    "    # Arrays der Positionen der 3 Massen im Labor- und Schwerpunktsystem\n",
    "    x_array[0][0] = x1\n",
    "    x_array[0][1] = x2\n",
    "    x_array[0][2] = x3\n",
    "\n",
    "    x_com_array[0][0] = x1 - com\n",
    "    x_com_array[0][1] = x2 - com\n",
    "    x_com_array[0][2] = x3 - com\n",
    "\n",
    "    i = 1\n",
    "\n",
    "    # Konstante Geschwindigkeit von m1 bis Treffen auf m2\n",
    "    while (x1 + r1 < x2- r2):\n",
    "        x1 += v_x1*dt\n",
    "\n",
    "        com = (m1*x1+m2*x2+m3*x3) / (m1+m2+m3)\n",
    "        com_array[i] = com\n",
    "\n",
    "        x_array[i][0] = x1\n",
    "        x_array[i][1] = x2\n",
    "        x_array[i][2] = x3\n",
    "\n",
    "        x_com_array[i][0] = x1 - com\n",
    "        x_com_array[i][1] = x2 - com\n",
    "        x_com_array[i][2] = x3 - com\n",
    "\n",
    "        i += 1\n",
    "\n",
    "    # Vollkommen elastischer Stoß von m1 auf m2\n",
    "    v_x2 = v_x1 * 2*m1 / (m1 + m2)   \n",
    "    v_x1 = v_x1 * (m1 - m2) / (m1 + m2)  \n",
    "\n",
    "    # Konstante Geschwindigkeit m1 und m2 bis Treffen m2 auf m3\n",
    "    while (x2 + r2 < x3- r3):\n",
    "        x1 += v_x1*dt\n",
    "        x2 += v_x2*dt\n",
    "\n",
    "        com = (m1*x1+m2*x2+m3*x3) / (m1+m2+m3)\n",
    "        com_array[i] = com\n",
    "\n",
    "        x_array[i][0] = x1\n",
    "        x_array[i][1] = x2\n",
    "        x_array[i][2] = x3\n",
    "\n",
    "        x_com_array[i][0] = x1 - com\n",
    "        x_com_array[i][1] = x2 - com\n",
    "        x_com_array[i][2] = x3 - com\n",
    "\n",
    "        i += 1\n",
    "\n",
    "    # Vollkommen inelastischer Stoß von m2 auf m3\n",
    "    v_x2 = v_x2 * m2 / (m2 + m3)\n",
    "    v_x3 = v_x2\n",
    "\n",
    "    # Konstante Geschwindigkeit m1 und m2+m3 bis Ende des Arrays\n",
    "    while (i <= N):\n",
    "        x1 += v_x1*dt\n",
    "        x2 += v_x2*dt\n",
    "        x3 += v_x3*dt\n",
    "\n",
    "        com = (m1*x1+m2*x2+m3*x3) / (m1+m2+m3)\n",
    "        com_array[i] = com\n",
    "\n",
    "        x_array[i][0] = x1\n",
    "        x_array[i][1] = x2\n",
    "        x_array[i][2] = x3\n",
    "\n",
    "        x_com_array[i][0] = x1 - com\n",
    "        x_com_array[i][1] = x2 - com\n",
    "        x_com_array[i][2] = x3 - com\n",
    "\n",
    "        i += 1\n",
    "    \n",
    "    return x_array, x_com_array, com_array"
   ]
  },
  {
   "cell_type": "code",
   "execution_count": 73,
   "metadata": {},
   "outputs": [
    {
     "data": {
      "text/plain": [
       "array([-1.        , -0.96666667, -0.93333333, ..., 32.26666667,\n",
       "       32.3       , 32.33333333])"
      ]
     },
     "execution_count": 73,
     "metadata": {},
     "output_type": "execute_result"
    }
   ],
   "source": [
    "# Parameter\n",
    "T = 10\n",
    "dt = 0.01\n",
    "\n",
    "# Generierung der Datenarrays\n",
    "x_array, x_com_array, com_array = x_i(T, dt)\n",
    "com = [com_array[0], 0, 0]\n",
    "\n",
    "#x_array\n",
    "#x_array[0][0], x_array[0][1], x_array[0][2]\n",
    "#type(x_array[::,0])\n",
    "com_array"
   ]
  },
  {
   "cell_type": "code",
   "execution_count": 90,
   "metadata": {},
   "outputs": [
    {
     "name": "stdout",
     "output_type": "stream",
     "text": [
      "Output saved by overwring previous file at animations/center_of_mass_force/moved_frame_of_reference.mp4.\n"
     ]
    },
    {
     "data": {
      "text/html": [
       "<video src=\"media/jupyter/comf_Scene@2022-12-15@19-33-23.mp4\" controls autoplay loop style=\"max-width: 60%;\"  >\n",
       "      Your browser does not support the <code>video</code> element.\n",
       "    </video>"
      ],
      "text/plain": [
       "<IPython.core.display.Video object>"
      ]
     },
     "metadata": {},
     "output_type": "display_data"
    }
   ],
   "source": [
    "%%capture_video --path \"animations/center_of_mass_force/moved_frame_of_reference.mp4\"\n",
    "%%manim -qm --fps 60 $video_scene\n",
    "\n",
    "class comf_Scene(Scene):\n",
    "    def construct(self):\n",
    "        CVC = Text('CVC', font_size = 12, weight = BOLD, color = WHITE, font = 'Latin Modern Sans').align_on_border(RIGHT + DOWN, buff = 0.2)\n",
    "        self.add(CVC)\n",
    "\n",
    "        # Parameter\n",
    "        T = 10\n",
    "        dt = 0.01\n",
    "\n",
    "        # Generierung der Datenarrays\n",
    "        x_array, x_com_array, com_array = x_i(T, dt)\n",
    "        com = [com_array[0], 0, 0]\n",
    "        \n",
    "        text1 = Text(\"(a) Laborsystem\", font_size = 36).align_on_border(UP + LEFT, buff = 0.5)\n",
    "        text2 = Text(\"(b) Schwerpunktsystem (mit Masseschwerpunkt COM)\", font_size = 36).align_on_border(UP + LEFT, buff = 0.5)\n",
    "\n",
    "        npla = NumberPlane(axis_config = {\"include_numbers\": False, \"stroke_opacity\": 0.25}, background_line_style = {\"stroke_opacity\": 0.25})\n",
    "        npla2 = NumberPlane()\n",
    "\n",
    "        com_x_axis = Line([com_array[0], -5, 0], [com_array[0], 5, 0], color = WHITE, stroke_width = 0.5)\n",
    "        #com_y_axis = Line(npla.c2p(traj_cat(0)[0], -50, 0), npla.c2p(traj_cat(0)[0], 50, 0), color = WHITE, stroke_width = 0.5)\n",
    "\n",
    "        com_x = Text(\"x (COM)\", font_size = 16).move_to([com_array[0] + 0.75, 3.75, 0])\n",
    "        #com_y = Text(\"y (COM)\", font_size = 16).move_to([npla.c2p(traj_cat(0)[0] + 0.5, 0, 0)[0], 3.75, 0])\n",
    "\n",
    "        m1 = Dot(radius = r1, color = RED).move_to([x_array[0][0], 0, 0])\n",
    "        m2 = Dot(radius = r2, color = WHITE).move_to([x_array[0][1], 0, 0])\n",
    "        m3 = Dot(radius = r3, color = YELLOW).move_to([x_array[0][2], 0, 0])\n",
    "\n",
    "        # Positionen als Iterator\n",
    "        m1.iter = iter(x_array[::,0])\n",
    "        m2.iter = iter(x_array[::,1])\n",
    "        m3.iter = iter(x_array[::,2])\n",
    "\n",
    "        com_x_axis.iter = iter(com_array)\n",
    "        com_x.iter = iter(com_array)\n",
    "\n",
    "        def mass_updater(mass):\n",
    "            mass.move_to([next(mass.iter), 0, 0])\n",
    "\n",
    "        def com_x_updater(label):\n",
    "            label.move_to([next(label.iter) + 0.75, 3.75, 0])\n",
    "\n",
    "        self.add(npla, m1, m2, m3, com_x_axis, com_x)\n",
    "\n",
    "        m1.add_updater(mass_updater)\n",
    "        m2.add_updater(mass_updater)\n",
    "        m3.add_updater(mass_updater)\n",
    "        com_x_axis.add_updater(mass_updater)\n",
    "        com_x.add_updater(com_x_updater)\n",
    "\n",
    "        timeline = ValueTracker(0)\n",
    "        self.play(timeline.animate.set_value(5), rate_func= linear, run_time = 5)"
   ]
  }
 ],
 "metadata": {
  "kernelspec": {
   "display_name": "Python 3.10.6 64-bit",
   "language": "python",
   "name": "python3"
  },
  "language_info": {
   "codemirror_mode": {
    "name": "ipython",
    "version": 3
   },
   "file_extension": ".py",
   "mimetype": "text/x-python",
   "name": "python",
   "nbconvert_exporter": "python",
   "pygments_lexer": "ipython3",
   "version": "3.10.6"
  },
  "orig_nbformat": 4,
  "vscode": {
   "interpreter": {
    "hash": "916dbcbb3f70747c44a77c7bcd40155683ae19c65e1c03b4aa3499c5328201f1"
   }
  }
 },
 "nbformat": 4,
 "nbformat_minor": 2
}
