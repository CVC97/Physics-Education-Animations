{
 "cells": [
  {
   "cell_type": "code",
   "execution_count": 1,
   "metadata": {},
   "outputs": [
    {
     "data": {
      "text/html": [
       "<pre style=\"white-space:pre;overflow-x:auto;line-height:normal;font-family:Menlo,'DejaVu Sans Mono',consolas,'Courier New',monospace\">Manim Community <span style=\"color: #008000; text-decoration-color: #008000\">v0.16.0.post0</span>\n",
       "\n",
       "</pre>\n"
      ],
      "text/plain": [
       "Manim Community \u001b[32mv0.\u001b[0m\u001b[32m16.0\u001b[0m\u001b[32m.post0\u001b[0m\n",
       "\n"
      ]
     },
     "metadata": {},
     "output_type": "display_data"
    },
    {
     "name": "stdout",
     "output_type": "stream",
     "text": [
      "Jupyter Capture Output v0.0.6\n"
     ]
    }
   ],
   "source": [
    "from manim import *\n",
    "from numpy import linalg as npl\n",
    "import matplotlib.pyplot as plt\n",
    "import jupyter_capture_output\n",
    "from scipy.interpolate import make_interp_spline, BSpline\n",
    "\n",
    "video_scene = \" -v WARNING --progress_bar None --disable_caching moi_Scene\"\n",
    "image_scene = f\" -v WARNING --progress_bar None --disable_caching -r {2*427},{2*240}  -s moi_Scene\""
   ]
  },
  {
   "cell_type": "code",
   "execution_count": 8,
   "metadata": {},
   "outputs": [
    {
     "data": {
      "text/html": [
       "<video src=\"media/jupyter/moi_Scene@2022-10-24@16-53-16.mp4\" controls autoplay loop style=\"max-width: 60%;\"  >\n",
       "      Your browser does not support the <code>video</code> element.\n",
       "    </video>"
      ],
      "text/plain": [
       "<IPython.core.display.Video object>"
      ]
     },
     "metadata": {},
     "output_type": "display_data"
    }
   ],
   "source": [
    "%%capture_video --path \"animations/moment_of_inertia/moment_of_inertia.mp4\"\n",
    "%%manim -ql --fps 20 $video_scene\n",
    "\n",
    "class moi_Scene(ThreeDScene):\n",
    "    def construct(self):\n",
    "        CVC = Text('CVC', font_size = 12, weight = BOLD, color = WHITE, font = 'Latin Modern Sans').align_on_border(RIGHT + DOWN, buff = 0.2)\n",
    "        self.add(CVC)\n",
    "\n",
    "\n",
    "        # Equations\n",
    "        moi_eq1 = MathTex(r'\\Theta=\\int r_{\\perp}^2 dm', font_size = 36).align_on_border(UP + LEFT, buff = 0.5)\n",
    "        moi_eq2 = MathTex(r'\\Theta=\\varrho\\int_V r_{\\perp}^2 dV', font_size = 36).align_on_border(UP + LEFT, buff = 0.5)\n",
    "        moi_eq3 = MathTex(r'\\mathrm{mit}~\\varrho=const.=\\frac{m}{V}', font_size = 36, color = BLUE).next_to(moi_eq2, 2*RIGHT)     \n",
    "\n",
    "        cone_eq1 = MathTex(r'\\Xi:=\\{(x, y, z)\\in\\mathbb{R}:x^2+y^2\\leq R^2,\\,0\\leq z\\leq H-2R\\}', font_size = 36).align_on_border(LEFT + DOWN).shift(0.5*UP)\n",
    "        cone_eq2 = Tex(r'$\\mathrm{Kegel}$ $\\Xi$: Höhe $H$, Radius $R(z)=(H-z)/2$', font_size = 24, color = GREY).align_on_border(LEFT + DOWN)\n",
    "\n",
    "\n",
    "        # 3D-Coordinate System\n",
    "        CO3D = [-6, 0, -6]\n",
    "        ax = ThreeDAxes(\n",
    "            x_range = (-3, 3, 1), y_range = (-3, 3, 1), z_range = (-2, 5, 1),\n",
    "            x_length = 6, y_length = 6, z_length = 6, axis_config = {'tip_length': 0.05, 'tip_width': 0.3}, \n",
    "            z_axis_config = {'color': WHITE},\n",
    "            ).move_to(CO3D).rotate(\n",
    "                axis = [1, 0, 0], angle = 6*PI/4\n",
    "                ).rotate(\n",
    "                    axis = [0, 1, 0], angle = 5*PI/4\n",
    "                    ).rotate(axis = [1, 0, 0], angle = PI/12).rotate(\n",
    "                        axis = [0, 1, 0], angle = PI/16\n",
    "                        )#.add_coordinates()\n",
    "\n",
    "\n",
    "        # Cone\n",
    "        def cone_circ(z):\n",
    "            r = (4 - z) / 2\n",
    "            return ax.plot_parametric_curve(lambda phi: np.array([r*np.cos(phi), r*np.sin(phi), z]), t_range = [0, 2*PI], stroke_opacity = 0.125, color = GREY)\n",
    "\n",
    "        cone_circ_list = [cone_circ(z) for z in np.arange(0, 4.01, 0.1)]\n",
    "\n",
    "\n",
    "        # Mass-Elements\n",
    "        def cone_cube(x, y, z):\n",
    "            dm_cube = Cube(side_length = 0.125, fill_opacity = 0, color = RED, stroke_width = 1).rotate(\n",
    "                    axis = [1, 0, 0], angle = 6*PI/4\n",
    "                    ).rotate(\n",
    "                        axis = [0, 1, 0], angle = 5*PI/4\n",
    "                        ).rotate(axis = [1, 0, 0], angle = PI/12).rotate(\n",
    "                            axis = [0, 1, 0], angle = PI/16\n",
    "                            ).move_to(ax.coords_to_point(x, y, z))\n",
    "            dm_radius = Line(ax.coords_to_point(x, y, z), ax.coords_to_point(0, 0, z), color = RED, stroke_width = 1)\n",
    "            dm = VGroup(dm_cube, dm_radius)\n",
    "            dV_cube = Cube(side_length = 0.125, fill_opacity = 0, color = BLUE, stroke_width = 1).rotate(\n",
    "                    axis = [1, 0, 0], angle = 6*PI/4\n",
    "                    ).rotate(\n",
    "                        axis = [0, 1, 0], angle = 5*PI/4\n",
    "                        ).rotate(axis = [1, 0, 0], angle = PI/12).rotate(\n",
    "                            axis = [0, 1, 0], angle = PI/16\n",
    "                            ).move_to(ax.coords_to_point(x, y, z))\n",
    "            dV_radius = Line(ax.coords_to_point(x, y, z), ax.coords_to_point(0, 0, z), color = BLUE, stroke_width = 1)\n",
    "            dV = VGroup(dV_cube, dV_radius)\n",
    "            return dm, dV\n",
    "\n",
    "\n",
    "        cone_cube1 = cone_cube(3/2, -1/2, 0.5)\n",
    "        cone_cube2 = cone_cube(0, 1.5, 1.5)\n",
    "        #cone_cube3 = cone_cube(1/2, -1/2, 2)\n",
    "\n",
    "\n",
    "\n",
    "        self.add(moi_eq1)\n",
    "        self.add(cone_eq1, cone_eq2)\n",
    "        self.add(ax)\n",
    "                \n",
    "        for cone_circ_i in cone_circ_list:\n",
    "            self.wait(0.05)\n",
    "            self.add(cone_circ_i)\n",
    "\n",
    "        self.wait(0.5)\n",
    "        self.play(Create(cone_cube1[0]), run_time = 1.5)\n",
    "        self.play(Create(cone_cube2[0]), run_time = 1.5)\n",
    "        self.wait(0.5)\n",
    "        self.play(Write(moi_eq3))\n",
    "        self.wait(0.5)\n",
    "        self.play(Transform(moi_eq1, moi_eq2), Transform(cone_cube1[0], cone_cube1[1]), Transform(cone_cube2[0], cone_cube2[1]), run_time = 1.5)\n",
    "        self.wait(0.5)\n",
    "        self.play(Uncreate(moi_eq3))\n",
    "        #self.play(Create(cone_cube3[0]))\n",
    "        #self.wait(1.5)\n",
    "        #self.play(FadeTransform(cone_cube1[0], cone_cube1[1]), FadeTransform(cone_cube2[0], cone_cube2[1]), FadeTransform(cone_cube3[0], cone_cube3[1]))\n",
    "        self.wait(3)\n",
    "            "
   ]
  }
 ],
 "metadata": {
  "kernelspec": {
   "display_name": "Python 3.10.6 64-bit",
   "language": "python",
   "name": "python3"
  },
  "language_info": {
   "codemirror_mode": {
    "name": "ipython",
    "version": 3
   },
   "file_extension": ".py",
   "mimetype": "text/x-python",
   "name": "python",
   "nbconvert_exporter": "python",
   "pygments_lexer": "ipython3",
   "version": "3.10.6"
  },
  "orig_nbformat": 4,
  "vscode": {
   "interpreter": {
    "hash": "916dbcbb3f70747c44a77c7bcd40155683ae19c65e1c03b4aa3499c5328201f1"
   }
  }
 },
 "nbformat": 4,
 "nbformat_minor": 2
}
