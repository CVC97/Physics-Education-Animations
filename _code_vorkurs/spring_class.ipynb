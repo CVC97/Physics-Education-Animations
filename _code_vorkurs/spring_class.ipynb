{
 "cells": [
  {
   "cell_type": "code",
   "execution_count": 1,
   "metadata": {},
   "outputs": [
    {
     "data": {
      "text/html": [
       "<pre style=\"white-space:pre;overflow-x:auto;line-height:normal;font-family:Menlo,'DejaVu Sans Mono',consolas,'Courier New',monospace\">Manim Community <span style=\"color: #008000; text-decoration-color: #008000\">v0.17.3</span>\n",
       "\n",
       "</pre>\n"
      ],
      "text/plain": [
       "Manim Community \u001b[32mv0.\u001b[0m\u001b[32m17.3\u001b[0m\n",
       "\n"
      ]
     },
     "metadata": {},
     "output_type": "display_data"
    },
    {
     "name": "stdout",
     "output_type": "stream",
     "text": [
      "Jupyter Capture Output v0.0.8\n"
     ]
    }
   ],
   "source": [
    "from manim import *\n",
    "from numpy import linalg as npl\n",
    "import math\n",
    "import matplotlib.pyplot as plt\n",
    "import jupyter_capture_output\n",
    "\n",
    "video_scene = \" -v WARNING --disable_caching Example\"\n",
    "image_scene = f\" -v WARNING --progress_bar None --disable_caching -r {2*427},{2*240}  -s Example\""
   ]
  },
  {
   "cell_type": "code",
   "execution_count": 2,
   "metadata": {},
   "outputs": [
    {
     "ename": "TypeError",
     "evalue": "Mobject.__init__() got an unexpected keyword argument 'fill_opacity'",
     "output_type": "error",
     "traceback": [
      "\u001b[0;31m---------------------------------------------------------------------------\u001b[0m",
      "\u001b[0;31mTypeError\u001b[0m                                 Traceback (most recent call last)",
      "\u001b[1;32m/home/carlo/Documents/Studium/Physik_B.Sc/physics-education-animations/animations_code/spring_class.ipynb Cell 2\u001b[0m line \u001b[0;36m1\n\u001b[1;32m      <a href='vscode-notebook-cell:/home/carlo/Documents/Studium/Physik_B.Sc/physics-education-animations/animations_code/spring_class.ipynb#W1sZmlsZQ%3D%3D?line=6'>7</a>\u001b[0m     \u001b[39mdef\u001b[39;00m \u001b[39mset_color\u001b[39m(\u001b[39mself\u001b[39m, new_color):\n\u001b[1;32m      <a href='vscode-notebook-cell:/home/carlo/Documents/Studium/Physik_B.Sc/physics-education-animations/animations_code/spring_class.ipynb#W1sZmlsZQ%3D%3D?line=7'>8</a>\u001b[0m         \u001b[39mself\u001b[39m[\u001b[39m0\u001b[39m]\u001b[39m.\u001b[39mcolor \u001b[39m=\u001b[39m new_color\n\u001b[0;32m---> <a href='vscode-notebook-cell:/home/carlo/Documents/Studium/Physik_B.Sc/physics-education-animations/animations_code/spring_class.ipynb#W1sZmlsZQ%3D%3D?line=10'>11</a>\u001b[0m m1 \u001b[39m=\u001b[39m Moon(fill_opacity \u001b[39m=\u001b[39;49m \u001b[39m0.25\u001b[39;49m)\n\u001b[1;32m     <a href='vscode-notebook-cell:/home/carlo/Documents/Studium/Physik_B.Sc/physics-education-animations/animations_code/spring_class.ipynb#W1sZmlsZQ%3D%3D?line=11'>12</a>\u001b[0m m1\u001b[39m.\u001b[39mset_color(GREY)\n",
      "\u001b[1;32m/home/carlo/Documents/Studium/Physik_B.Sc/physics-education-animations/animations_code/spring_class.ipynb Cell 2\u001b[0m line \u001b[0;36m3\n\u001b[1;32m      <a href='vscode-notebook-cell:/home/carlo/Documents/Studium/Physik_B.Sc/physics-education-animations/animations_code/spring_class.ipynb#W1sZmlsZQ%3D%3D?line=1'>2</a>\u001b[0m \u001b[39mdef\u001b[39;00m \u001b[39m__init__\u001b[39m(\u001b[39mself\u001b[39m, color \u001b[39m=\u001b[39m RED, \u001b[39m*\u001b[39m\u001b[39m*\u001b[39mkwargs):\n\u001b[0;32m----> <a href='vscode-notebook-cell:/home/carlo/Documents/Studium/Physik_B.Sc/physics-education-animations/animations_code/spring_class.ipynb#W1sZmlsZQ%3D%3D?line=2'>3</a>\u001b[0m     \u001b[39msuper\u001b[39;49m()\u001b[39m.\u001b[39;49m\u001b[39m__init__\u001b[39;49m(\u001b[39m*\u001b[39;49m\u001b[39m*\u001b[39;49mkwargs)\n\u001b[1;32m      <a href='vscode-notebook-cell:/home/carlo/Documents/Studium/Physik_B.Sc/physics-education-animations/animations_code/spring_class.ipynb#W1sZmlsZQ%3D%3D?line=3'>4</a>\u001b[0m     d \u001b[39m=\u001b[39m Dot(radius \u001b[39m=\u001b[39m \u001b[39m0.2\u001b[39m, color \u001b[39m=\u001b[39m color, \u001b[39m*\u001b[39m\u001b[39m*\u001b[39mkwargs)\n\u001b[1;32m      <a href='vscode-notebook-cell:/home/carlo/Documents/Studium/Physik_B.Sc/physics-education-animations/animations_code/spring_class.ipynb#W1sZmlsZQ%3D%3D?line=4'>5</a>\u001b[0m     \u001b[39mself\u001b[39m\u001b[39m.\u001b[39madd(d)\n",
      "\u001b[0;31mTypeError\u001b[0m: Mobject.__init__() got an unexpected keyword argument 'fill_opacity'"
     ]
    }
   ],
   "source": [
    "class Moon(Mobject):\n",
    "    def __init__(self, color = RED, **kwargs):\n",
    "        super().__init__(**kwargs)\n",
    "        d = Dot(radius = 0.2, color = color, **kwargs)\n",
    "        self.add(d)\n",
    "    \n",
    "    def set_color(self, new_color):\n",
    "        self[0].color = new_color\n",
    "\n",
    "\n",
    "m1 = Moon(fill_opacity = 0.25)\n",
    "m1.set_color(GREY)"
   ]
  },
  {
   "cell_type": "code",
   "execution_count": 52,
   "metadata": {},
   "outputs": [],
   "source": [
    "class PhaseSpace(Mobject):\n",
    "    def __init__(self, center, phase_array, side_length = 3, stroke_width = 1, labels = 0, **kwargs):\n",
    "        super().__init__(**kwargs)\n",
    "        self.center = center\n",
    "        self.side_length = side_length\n",
    "        self.stroke_with = stroke_width\n",
    "        self.x_array = phase_array[0]\n",
    "        self.xdot_array = phase_array[1]\n",
    "        self.x_inc = (max(self.x_array) - min(self.x_array)) / 10\n",
    "        self.xdot_inc = (max(self.xdot_array) - min(self.xdot_array)) / 10\n",
    "\n",
    "        square = Square(side_length = side_length, stroke_width = stroke_width, stroke_color = WHITE, **kwargs).move_to(center)\n",
    "        self.add(square)\n",
    "\n",
    "        if labels:\n",
    "            x_label = Tex(labels[0], color = WHITE, font_size = 156 / self.side_length).next_to(square, DOWN)\n",
    "            xdot_label = Tex(labels[1], color = WHITE, font_size = 156 / self.side_length).next_to(square, LEFT)\n",
    "            self.add(x_label, xdot_label)\n",
    "\n",
    "\n",
    "    def c2p(self, x, y, z):\n",
    "        ax = Axes(x_range = [min(self.x_array) + self.x_inc, max(self.x_array) - self.x_inc, 1], \n",
    "                  y_range = [min(self.xdot_array) + self.xdot_inc, max(self.xdot_array) - self.xdot_inc, 1], \n",
    "                  x_length = self.side_length, \n",
    "                  y_length = self.side_length).move_to(self.center)\n",
    "        return ax.c2p(x, y, z)"
   ]
  },
  {
   "cell_type": "code",
   "execution_count": 53,
   "metadata": {},
   "outputs": [
    {
     "data": {
      "image/png": "[encoded data removed]",
      "text/plain": [
       "<IPython.core.display.Image object>"
      ]
     },
     "metadata": {},
     "output_type": "display_data"
    }
   ],
   "source": [
    "%%manim -qm --fps 60 $video_scene\n",
    "\n",
    "\n",
    "\n",
    "class Example(Scene):\n",
    "    def construct(self):\n",
    "\n",
    "        # d1 = Dot(point= [0,0,0], radius=2)\n",
    "        # d2 = Dot(point= [1,0,0], radius=2)\n",
    "        # diff = Difference(d1,d2,fill_opacity=1,stroke_width=0)\n",
    "        # self.add(m1)\n",
    "        # self.add(diff)\n",
    "        # print(m1.color)\n",
    "        \n",
    "        x_array = np.array([-1, 100])\n",
    "        xdot_array = np.array([-5, 10])\n",
    "\n",
    "\n",
    "        ps = PhaseSpace(center = [3, 0, 0], phase_array = (x_array, xdot_array), side_length = 4, labels = (r'$\\varphi$', r'$\\dot{\\varphi}$'))\n",
    "        self.add(ps)\n",
    "\n",
    "        dot = Dot(ps.c2p(50, 5, 0))\n",
    "        self.add(dot) "
   ]
  },
  {
   "cell_type": "code",
   "execution_count": null,
   "metadata": {},
   "outputs": [],
   "source": [
    "\n",
    "\n",
    "s1 = Square()"
   ]
  },
  {
   "cell_type": "code",
   "execution_count": null,
   "metadata": {},
   "outputs": [],
   "source": [
    "circ = Circle()"
   ]
  },
  {
   "cell_type": "code",
   "execution_count": null,
   "metadata": {},
   "outputs": [],
   "source": [
    "s1.add(circ)"
   ]
  },
  {
   "cell_type": "code",
   "execution_count": null,
   "metadata": {},
   "outputs": [],
   "source": [
    "s1.submobjects[0]"
   ]
  },
  {
   "cell_type": "code",
   "execution_count": null,
   "metadata": {},
   "outputs": [],
   "source": []
  }
 ],
 "metadata": {
  "kernelspec": {
   "display_name": "Python 3",
   "language": "python",
   "name": "python3"
  },
  "language_info": {
   "codemirror_mode": {
    "name": "ipython",
    "version": 3
   },
   "file_extension": ".py",
   "mimetype": "text/x-python",
   "name": "python",
   "nbconvert_exporter": "python",
   "pygments_lexer": "ipython3",
   "version": "3.10.12"
  },
  "orig_nbformat": 4
 },
 "nbformat": 4,
 "nbformat_minor": 2
}
