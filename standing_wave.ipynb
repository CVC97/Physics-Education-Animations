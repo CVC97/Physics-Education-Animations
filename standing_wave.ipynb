{
 "cells": [
  {
   "cell_type": "code",
   "execution_count": 2,
   "metadata": {},
   "outputs": [
    {
     "data": {
      "text/html": [
       "<pre style=\"white-space:pre;overflow-x:auto;line-height:normal;font-family:Menlo,'DejaVu Sans Mono',consolas,'Courier New',monospace\">Manim Community <span style=\"color: #008000; text-decoration-color: #008000\">v0.17.3</span>\n",
       "\n",
       "</pre>\n"
      ],
      "text/plain": [
       "Manim Community \u001b[32mv0.\u001b[0m\u001b[32m17.3\u001b[0m\n",
       "\n"
      ]
     },
     "metadata": {},
     "output_type": "display_data"
    },
    {
     "name": "stdout",
     "output_type": "stream",
     "text": [
      "Jupyter Capture Output v0.0.11\n"
     ]
    }
   ],
   "source": [
    "from manim import *\n",
    "#from classes.christmas_fourier_classes import *\n",
    "from PIL import Image\n",
    "import jupyter_capture_output\n",
    "\n",
    "video_scene = f\" -v WARNING --disable_caching sw_Scene\"\n",
    "image_scene = f\" -v WARNING --disable_caching -r {2*427},{2*240}  -s sw_Scene\""
   ]
  },
  {
   "cell_type": "code",
   "execution_count": 76,
   "metadata": {},
   "outputs": [],
   "source": [
    "GLOBAL_AMPLITUDE = 1\n",
    "TUBE_LENGTH = 8\n",
    "MAIN_COLOR = WHITE\n",
    "\n",
    "\n",
    "# incoming wave\n",
    "def get_wave_in(t, wave_params):\n",
    "    lambda_wave = wave_params[0]\n",
    "    omega_wave = wave_params[1]\n",
    "    k_wave = 2*PI / lambda_wave\n",
    "    v_ph = lambda_wave * omega_wave / 2 / PI\n",
    "    def wave_in(x):\n",
    "        # if (x < v_ph*t):\n",
    "        #     return -np.sin(k_wave*x - omega_wave*t)\n",
    "        # else:\n",
    "        #     return 0\n",
    "        return -np.sin(k_wave*x - omega_wave*t)\n",
    "    return wave_in\n",
    "\n",
    "\n",
    "# reflected wave\n",
    "def get_wave_out(t, wave_params):\n",
    "    lambda_wave = wave_params[0]\n",
    "    omega_wave = wave_params[1]\n",
    "    k_wave = 2*PI / lambda_wave\n",
    "    v_ph = lambda_wave * omega_wave / 2 / PI\n",
    "    def wave_out(x):\n",
    "        # if (x < TUBE_LENGTH-omega_wave*t):\n",
    "        #     return 0\n",
    "        # else:\n",
    "        #     return -np.sin(-k_wave*x - omega_wave*t - PI)\n",
    "        return -np.sin(-k_wave*x - omega_wave*t)\n",
    "    return wave_out\n",
    "\n",
    "\n",
    "# superpositioned wave\n",
    "def get_super_wave(t, wave_params):\n",
    "    lambda_wave = wave_params[0]\n",
    "    omega_wave = wave_params[1]\n",
    "    k_wave = 2*PI / lambda_wave\n",
    "    v_ph = lambda_wave * omega_wave / 2 / PI\n",
    "    T = TUBE_LENGTH / v_ph\n",
    "    if (t < T):\n",
    "        def super_wave(x):\n",
    "            if (x < v_ph*t):\n",
    "                return get_wave_in(t, wave_params)(x)\n",
    "            else:\n",
    "                return 0\n",
    "        return super_wave\n",
    "    elif (t < 2*T):\n",
    "        def super_wave(x):\n",
    "            if (x < TUBE_LENGTH - v_ph*(t-T)):\n",
    "                return get_wave_in(t, wave_params)(x)\n",
    "            else:\n",
    "                return get_wave_in(t, wave_params)(x) + get_wave_out(t, wave_params)(x)\n",
    "        return super_wave\n",
    "    else:\n",
    "        def super_wave(x):\n",
    "            return get_wave_in(t, wave_params)(x) + get_wave_out(t, wave_params)(x)\n",
    "        return super_wave\n",
    "\n",
    "\n",
    "# class creating a box to display incoming / outgoing transversal wave as well as their superposition\n",
    "class StandingWaveTrans(Mobject):\n",
    "    def __init__(self, position, height, width, **kwargs):\n",
    "        super().__init__(**kwargs)\n",
    "        self.vertical_shift = np.array([0, -height/6, 0])\n",
    "        rectangle = Rectangle(height = height, width = width, stroke_width = 2, color = MAIN_COLOR).move_to(position)\n",
    "        separator = Line(start = position - np.array([width/2, 0, 0]), end = position + np.array([width/2, 0, 0]), stroke_width = 1, color = MAIN_COLOR).shift(self.vertical_shift)\n",
    "        self.add(rectangle, separator)\n",
    "        text_super = Tex(r\"Superposition\", font_size = 24, color = MAIN_COLOR).next_to(separator, 0.5*DOWN + LEFT).shift(height/2 * UP).shift(width * RIGHT).shift(-self.vertical_shift)\n",
    "        text_individual = Tex(r\"Einzelwellen\", font_size = 24, color = MAIN_COLOR).next_to(separator, 0.5*DOWN + LEFT).shift(width * RIGHT)\n",
    "        self.add(text_super, text_individual)\n",
    "        # number plane for the superposition\n",
    "        self.super_npla = NumberPlane(\n",
    "            x_range = [0, TUBE_LENGTH, 1], y_range = [-3, 3, 1], x_length = width, y_length = 9/10*height*4/6,\n",
    "            x_axis_config = {\"stroke_opacity\": 0.215, \"stroke_color\": MAIN_COLOR}, y_axis_config = {\"stroke_opacity\": 0.125, \"stroke_color\": MAIN_COLOR}, background_line_style = {\"stroke_opacity\": 0.125}\n",
    "        ).move_to(position + np.array([0, height/4, 0])).shift(self.vertical_shift/2)\n",
    "        self.add(self.super_npla)\n",
    "        # number plane for the individual waves\n",
    "        self.individual_npla = NumberPlane(\n",
    "            x_range = [0, TUBE_LENGTH, 1], y_range = [-1.75, 1.75, 1], x_length = width, y_length = 9/10*height*2/6,\n",
    "            x_axis_config = {\"stroke_opacity\": 0.215, \"stroke_color\": MAIN_COLOR}, y_axis_config = {\"stroke_opacity\": 0.125, \"stroke_color\": MAIN_COLOR}, background_line_style = {\"stroke_opacity\": 0.125}\n",
    "        ).move_to(position - np.array([0, height/4, 0])).shift(self.vertical_shift/2)\n",
    "        self.add(self.individual_npla)\n",
    "\n",
    "\n",
    "    def get_incoming(self, t, wave_params):\n",
    "        lambda_wave = wave_params[0]\n",
    "        omega_wave = wave_params[1]\n",
    "        v_ph = lambda_wave * omega_wave / 2 / PI\n",
    "        return self.individual_npla.plot(get_wave_in(t, wave_params), x_range = [0, min(v_ph*t, TUBE_LENGTH)], stroke_width = 2, stroke_color = RED)\n",
    "\n",
    "    def get_reflected(self, t, wave_params):\n",
    "        lambda_wave = wave_params[0]\n",
    "        omega_wave = wave_params[1]\n",
    "        v_ph = lambda_wave * omega_wave / 2 / PI\n",
    "        T = TUBE_LENGTH / v_ph\n",
    "        if (t > T):\n",
    "            return self.individual_npla.plot(get_wave_out(t, wave_params), x_range = [max(0, T*v_ph + TUBE_LENGTH - v_ph*t), TUBE_LENGTH], stroke_width = 2, stroke_color = BLUE)\n",
    "        else:\n",
    "            return Dot(fill_opacity = 0)\n",
    "\n",
    "    def get_superposition(self, t, wave_params):\n",
    "        lambda_wave = wave_params[0]\n",
    "        omega_wave = wave_params[1]\n",
    "        v_ph = lambda_wave * omega_wave / 2 / PI\n",
    "        return self.super_npla.plot(get_super_wave(t, wave_params), x_range = [0, TUBE_LENGTH], stroke_width = 2, stroke_color = GREY)"
   ]
  },
  {
   "cell_type": "code",
   "execution_count": 77,
   "metadata": {},
   "outputs": [
    {
     "name": "stdout",
     "output_type": "stream",
     "text": [
      "Output saved by overwring previous file at animations/standing_wave/standing_wave.mp4.\n"
     ]
    },
    {
     "name": "stderr",
     "output_type": "stream",
     "text": [
      "                                                                                              \r"
     ]
    },
    {
     "data": {
      "text/html": [
       "<video src=\"media/jupyter/sw_Scene@2023-12-15@15-58-13.mp4\" controls autoplay loop style=\"max-width: 60%;\"  >\n",
       "      Your browser does not support the <code>video</code> element.\n",
       "    </video>"
      ],
      "text/plain": [
       "<IPython.core.display.Video object>"
      ]
     },
     "metadata": {},
     "output_type": "display_data"
    }
   ],
   "source": [
    "%%capture_video --path \"animations/standing_wave/standing_wave.mp4\"\n",
    "%%manim -qm --fps 60 $video_scene\n",
    "\n",
    "\n",
    "class sw_Scene(Scene):\n",
    "    def construct(self):\n",
    "        #self.camera.background_color = WHITE\n",
    "        CVC = Text('CVC', font_size = 12, weight = BOLD, color = WHITE, font = 'Latin Modern Sans').align_on_border(RIGHT + DOWN, buff = 0.2)\n",
    "        self.add(CVC)\n",
    "\n",
    "        # Wellenparameter\n",
    "        n = 3\n",
    "        LAMBDA_WAVE = (4 * TUBE_LENGTH) / (2*n - 1)\n",
    "        OMEGA_WAVE = 2\n",
    "        wave_params = (LAMBDA_WAVE, OMEGA_WAVE)\n",
    "\n",
    "        wave_trans_box = StandingWaveTrans(position = np.array([0, 0, 0]), height = 4, width = 6)\n",
    "        self.add(wave_trans_box)\n",
    "\n",
    "        incoming_wave = wave_trans_box.get_incoming(0, wave_params)\n",
    "        #incoming_wave.params = wave_params\n",
    "        incoming_wave.get_method = wave_trans_box.get_incoming\n",
    "        self.add(incoming_wave)\n",
    "\n",
    "        reflected_wave = wave_trans_box.get_reflected(0, wave_params)\n",
    "        #reflected_wave.params = wave_params\n",
    "        reflected_wave.get_method = wave_trans_box.get_reflected\n",
    "        self.add(reflected_wave)\n",
    "\n",
    "        superpositioned_wave = wave_trans_box.get_superposition(0, wave_params)\n",
    "        #superposition_wave.params = wave_params\n",
    "        superpositioned_wave.get_method = wave_trans_box.get_superposition\n",
    "        self.add(superpositioned_wave)\n",
    "\n",
    "\n",
    "        # updates the waves using the ValueTracker time 't'\n",
    "        def wave_updater(wave):\n",
    "            t = t_tracker.get_value()\n",
    "            #wave_params = wave.params\n",
    "            wave.become(wave.get_method(t, wave_params))\n",
    "\n",
    "\n",
    "        self.wait(1)\n",
    "        t_tracker = ValueTracker(0)\n",
    "        incoming_wave.add_updater(wave_updater)\n",
    "        reflected_wave.add_updater(wave_updater)\n",
    "        superpositioned_wave.add_updater(wave_updater)\n",
    "        self.play(t_tracker.animate.set_value(10), rate_func = linear, run_time = 10)\n",
    "        self.wait(5)"
   ]
  }
 ],
 "metadata": {
  "kernelspec": {
   "display_name": ".venv_per",
   "language": "python",
   "name": "python3"
  },
  "language_info": {
   "codemirror_mode": {
    "name": "ipython",
    "version": 3
   },
   "file_extension": ".py",
   "mimetype": "text/x-python",
   "name": "python",
   "nbconvert_exporter": "python",
   "pygments_lexer": "ipython3",
   "version": "3.10.12"
  }
 },
 "nbformat": 4,
 "nbformat_minor": 2
}
