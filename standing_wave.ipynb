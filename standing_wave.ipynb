{
 "cells": [
  {
   "cell_type": "code",
   "execution_count": null,
   "metadata": {},
   "outputs": [],
   "source": [
    "from manim import *\n",
    "#from classes.christmas_fourier_classes import *\n",
    "from PIL import Image\n",
    "import jupyter_capture_output\n",
    "\n",
    "video_scene = f\" -v WARNING --disable_caching sw_Scene\"\n",
    "image_scene = f\" -v WARNING --disable_caching -r {2*427},{2*240}  -s sw_Scene\""
   ]
  },
  {
   "cell_type": "code",
   "execution_count": 2,
   "metadata": {},
   "outputs": [],
   "source": [
    "GLOBAL_AMPLITUDE = 1\n",
    "\n",
    "# incoming wave\n",
    "def get_wave_in(t, wave_params):\n",
    "    lambda_wave = wave_params[0]\n",
    "    omega_wave = wave_params[1]\n",
    "    k_wave = 2*PI / lambda_wave\n",
    "    def wave_in(x):\n",
    "        return np.sin(k_wave*x - omega_wave*t)\n",
    "    return wave_in\n",
    "\n",
    "\n",
    "# reflected wave\n",
    "def get_wave_out(t, wave_params):\n",
    "    lambda_wave = wave_params[0]\n",
    "    omega_wave = wave_params[1]\n",
    "    k_wave = 2*PI / lambda_wave\n",
    "    def wave_out(x):\n",
    "        return np.sin(-k_wave*x - omega_wave*t - PI)\n",
    "    return wave_out\n",
    "\n",
    "\n",
    "# superpositioned wave\n",
    "def get_super_wave(t, wave_params):\n",
    "    lambda_wave = wave_params[0]\n",
    "    omega_wave = wave_params[1]\n",
    "    k_wave = 2*PI / lambda_wave\n",
    "    def super_wave(x):\n",
    "        return 0\n",
    "    return 0"
   ]
  },
  {
   "cell_type": "code",
   "execution_count": null,
   "metadata": {},
   "outputs": [],
   "source": [
    "%%capture_video --path \"animations/standing_wave/standing_wave.mp4\"\n",
    "%%manim -qm --fps 60 $video_scene\n",
    "\n",
    "\n",
    "class cf_Scene(Scene):\n",
    "    def construct(self):\n",
    "        self.camera.background_color = WHITE"
   ]
  }
 ],
 "metadata": {
  "kernelspec": {
   "display_name": ".venv_per",
   "language": "python",
   "name": "python3"
  },
  "language_info": {
   "codemirror_mode": {
    "name": "ipython",
    "version": 3
   },
   "file_extension": ".py",
   "mimetype": "text/x-python",
   "name": "python",
   "nbconvert_exporter": "python",
   "pygments_lexer": "ipython3",
   "version": "3.10.12"
  }
 },
 "nbformat": 4,
 "nbformat_minor": 2
}
