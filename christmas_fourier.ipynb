{
 "cells": [
  {
   "cell_type": "code",
   "execution_count": 1,
   "metadata": {},
   "outputs": [
    {
     "data": {
      "text/html": [
       "<pre style=\"white-space:pre;overflow-x:auto;line-height:normal;font-family:Menlo,'DejaVu Sans Mono',consolas,'Courier New',monospace\">Manim Community <span style=\"color: #008000; text-decoration-color: #008000\">v0.17.3</span>\n",
       "\n",
       "</pre>\n"
      ],
      "text/plain": [
       "Manim Community \u001b[32mv0.\u001b[0m\u001b[32m17.3\u001b[0m\n",
       "\n"
      ]
     },
     "metadata": {},
     "output_type": "display_data"
    },
    {
     "name": "stdout",
     "output_type": "stream",
     "text": [
      "Jupyter Capture Output v0.0.11\n"
     ]
    }
   ],
   "source": [
    "from manim import *\n",
    "from classes.christmas_fourier_classes import *\n",
    "from PIL import Image\n",
    "import jupyter_capture_output\n",
    "\n",
    "video_scene = f\" -v WARNING --disable_caching cf_Scene\"\n",
    "image_scene = f\" -v WARNING --disable_caching -r {2*427},{2*240}  -s cf_Scene\""
   ]
  },
  {
   "cell_type": "code",
   "execution_count": 2,
   "metadata": {},
   "outputs": [
    {
     "data": {
      "image/png": "[encoded data removed]",
      "text/plain": [
       "<PIL.Image.Image image mode=L size=128x128>"
      ]
     },
     "execution_count": 2,
     "metadata": {},
     "output_type": "execute_result"
    }
   ],
   "source": [
    "# reading the image\n",
    "image_snow_leopard1 = Image.open('external_media/SnowLeopard1_128.jpg')\n",
    "image_snow_leopard2 = Image.open('external_media/SnowLeopard2_128.jpg')\n",
    "\n",
    "# convert image to greyscale\n",
    "image_snow_leopard1_greyscale = image_snow_leopard1.convert('L')\n",
    "\n",
    "# creating a numpy array from the greyscale picture (division of the greyscale values by 2 to fit the properties of the encoding)\n",
    "image_snow_leopard1_greyscale_array = np.array(image_snow_leopard1_greyscale)\n",
    "\n",
    "\n",
    "# returning an omega_xyc tupel for given image coordinates and greyscale\n",
    "def get_omega_xyc(i_row, j_column, image_array):\n",
    "    omega_x_encoded = j_column + 128                                                            # turns row number into the correct frequency by adding 128\n",
    "    omega_y_encoded = 3*128 - i_row - 1                                                         # turns column number into its correspoding frequency\n",
    "    omega_c_encoded = image_array[i_row, j_column] / 2 + 3*128                                  # calculates the greyscale value into its frequency\n",
    "    return (omega_x_encoded, omega_y_encoded, omega_c_encoded)\n",
    "\n",
    "\n",
    "# creating iterators with encoded values used by the animation\n",
    "encoded_data_list = []\n",
    "for i_row in range(128):\n",
    "    for j_column in range(128):\n",
    "        encoded_data_list.append(get_omega_xyc(i_row, j_column, image_snow_leopard1_greyscale_array))\n",
    "\n",
    "\n",
    "# iterating through the image via spiral from outside to inside\n",
    "encoded_data_list_spiral = []\n",
    "track_list = []\n",
    "i_row = 0\n",
    "j_column = 0\n",
    "row_start = 1\n",
    "row_end = 128\n",
    "column_start = 0\n",
    "column_end = 128\n",
    "while (column_start != column_end and row_start != row_end):\n",
    "    while (j_column < column_end):\n",
    "        encoded_data_list_spiral.append(get_omega_xyc(i_row, j_column, image_snow_leopard1_greyscale_array))\n",
    "        track_list.append((i_row, j_column))\n",
    "        j_column += 1\n",
    "    j_column -= 1\n",
    "    column_end -=1\n",
    "    i_row += 1\n",
    "    while (i_row < row_end):\n",
    "        encoded_data_list_spiral.append(get_omega_xyc(i_row, j_column, image_snow_leopard1_greyscale_array))\n",
    "        track_list.append((i_row, j_column))\n",
    "        i_row += 1\n",
    "    i_row -= 1\n",
    "    row_end -=1\n",
    "    j_column -= 1\n",
    "    while (j_column >= column_start):\n",
    "        encoded_data_list_spiral.append(get_omega_xyc(i_row, j_column, image_snow_leopard1_greyscale_array))\n",
    "        track_list.append((i_row, j_column))\n",
    "        j_column -= 1\n",
    "    j_column += 1\n",
    "    column_start +=1\n",
    "    i_row -= 1\n",
    "    while (i_row >= row_start):\n",
    "        encoded_data_list_spiral.append(get_omega_xyc(i_row, j_column, image_snow_leopard1_greyscale_array))\n",
    "        track_list.append((i_row, j_column))\n",
    "        i_row -= 1\n",
    "    i_row += 1\n",
    "    row_start += 1\n",
    "    j_column += 1\n",
    "\n",
    "\n",
    "# LANGER SCHWANZ FÜR DIE LISTE DAMIT DER HS NICHT NACH 2 STUNDEN WEGEN 1 ITERELEMENTS RUMHEULT\n",
    "for i in range(100):\n",
    "    encoded_data_list_spiral.append((191, 319, 3*128))\n",
    "\n",
    "\n",
    "# shows the original 128x128 image\n",
    "image_snow_leopard1_greyscale.save(\"external_media/SnowLeopard1_greyscale.jpg\")\n",
    "image_snow_leopard1_greyscale"
   ]
  },
  {
   "cell_type": "code",
   "execution_count": 3,
   "metadata": {},
   "outputs": [
    {
     "name": "stdout",
     "output_type": "stream",
     "text": [
      "Output saved by creating file at animations/christmas_fourier/christmas_fourier_singlewave_WHITE.mp4.\n"
     ]
    },
    {
     "name": "stderr",
     "output_type": "stream",
     "text": [
      "                                                                                             \r"
     ]
    },
    {
     "ename": "KeyboardInterrupt",
     "evalue": "",
     "output_type": "error",
     "traceback": [
      "\u001b[0;31m---------------------------------------------------------------------------\u001b[0m",
      "\u001b[0;31mKeyboardInterrupt\u001b[0m                         Traceback (most recent call last)",
      "Cell \u001b[0;32mIn[3], line 1\u001b[0m\n\u001b[0;32m----> 1\u001b[0m \u001b[43mget_ipython\u001b[49m\u001b[43m(\u001b[49m\u001b[43m)\u001b[49m\u001b[38;5;241;43m.\u001b[39;49m\u001b[43mrun_cell_magic\u001b[49m\u001b[43m(\u001b[49m\u001b[38;5;124;43m'\u001b[39;49m\u001b[38;5;124;43mmanim\u001b[39;49m\u001b[38;5;124;43m'\u001b[39;49m\u001b[43m,\u001b[49m\u001b[43m \u001b[49m\u001b[38;5;124;43m'\u001b[39;49m\u001b[38;5;124;43m-qh --fps 64 $video_scene\u001b[39;49m\u001b[38;5;124;43m'\u001b[39;49m\u001b[43m,\u001b[49m\u001b[43m \u001b[49m\u001b[38;5;124;43m\"\u001b[39;49m\u001b[38;5;130;43;01m\\n\u001b[39;49;00m\u001b[38;5;130;43;01m\\n\u001b[39;49;00m\u001b[38;5;124;43mclass cf_Scene(Scene):\u001b[39;49m\u001b[38;5;130;43;01m\\n\u001b[39;49;00m\u001b[38;5;124;43m    def construct(self):\u001b[39;49m\u001b[38;5;130;43;01m\\n\u001b[39;49;00m\u001b[38;5;124;43m        self.camera.background_color = WHITE\u001b[39;49m\u001b[38;5;130;43;01m\\n\u001b[39;49;00m\u001b[38;5;124;43m        CVC = Text(\u001b[39;49m\u001b[38;5;124;43m'\u001b[39;49m\u001b[38;5;124;43mCVC\u001b[39;49m\u001b[38;5;124;43m'\u001b[39;49m\u001b[38;5;124;43m, font_size = 12, weight = BOLD, color = WHITE, font = \u001b[39;49m\u001b[38;5;124;43m'\u001b[39;49m\u001b[38;5;124;43mLatin Modern Sans\u001b[39;49m\u001b[38;5;124;43m'\u001b[39;49m\u001b[38;5;124;43m).align_on_border(RIGHT + DOWN, buff = 0.2)\u001b[39;49m\u001b[38;5;130;43;01m\\n\u001b[39;49;00m\u001b[38;5;124;43m        self.add(CVC)\u001b[39;49m\u001b[38;5;130;43;01m\\n\u001b[39;49;00m\u001b[38;5;130;43;01m\\n\u001b[39;49;00m\u001b[38;5;124;43m        # initial signal an their iter\u001b[39;49m\u001b[38;5;130;43;01m\\n\u001b[39;49;00m\u001b[38;5;124;43m        init_signal_omega_xyc = encoded_data_list_spiral[0]\u001b[39;49m\u001b[38;5;130;43;01m\\n\u001b[39;49;00m\u001b[38;5;124;43m        encoded_data_iter = iter(encoded_data_list_spiral)\u001b[39;49m\u001b[38;5;130;43;01m\\n\u001b[39;49;00m\u001b[38;5;124;43m        # amplitude list plus iter\u001b[39;49m\u001b[38;5;130;43;01m\\n\u001b[39;49;00m\u001b[38;5;124;43m        amplitude_list = [x**4 for x in np.linspace(0, 1, 3*64 + 1)]\u001b[39;49m\u001b[38;5;130;43;01m\\n\u001b[39;49;00m\u001b[38;5;124;43m        amplitude_iter = iter(amplitude_list)\u001b[39;49m\u001b[38;5;130;43;01m\\n\u001b[39;49;00m\u001b[38;5;130;43;01m\\n\u001b[39;49;00m\u001b[38;5;130;43;01m\\n\u001b[39;49;00m\u001b[38;5;124;43m        # coordinate system for the total initial superposition of waves\u001b[39;49m\u001b[38;5;130;43;01m\\n\u001b[39;49;00m\u001b[38;5;124;43m        full_signal_box = FullSignal(position = np.array([0, 0, 0]))\u001b[39;49m\u001b[38;5;130;43;01m\\n\u001b[39;49;00m\u001b[38;5;124;43m        self.add(full_signal_box)\u001b[39;49m\u001b[38;5;130;43;01m\\n\u001b[39;49;00m\u001b[38;5;124;43m        # full wave and baseline with their iters ()\u001b[39;49m\u001b[38;5;130;43;01m\\n\u001b[39;49;00m\u001b[38;5;124;43m        full_wave_baseline = full_signal_box.get_wave(init_signal_omega_xyc, amplitude = 0, wave_opacity = 1)\u001b[39;49m\u001b[38;5;130;43;01m\\n\u001b[39;49;00m\u001b[38;5;124;43m        full_wave_baseline.iter = amplitude_iter\u001b[39;49m\u001b[38;5;130;43;01m\\n\u001b[39;49;00m\u001b[38;5;124;43m        full_wave = full_signal_box.get_wave(init_signal_omega_xyc, amplitude = 1, wave_opacity = 1)\u001b[39;49m\u001b[38;5;130;43;01m\\n\u001b[39;49;00m\u001b[38;5;124;43m        full_wave.iter = encoded_data_iter\u001b[39;49m\u001b[38;5;130;43;01m\\n\u001b[39;49;00m\u001b[38;5;130;43;01m\\n\u001b[39;49;00m\u001b[38;5;130;43;01m\\n\u001b[39;49;00m\u001b[38;5;124;43m        # updating the wave amplitudes into starting position\u001b[39;49m\u001b[38;5;130;43;01m\\n\u001b[39;49;00m\u001b[38;5;124;43m        def wave_amplitude_updater(wave):\u001b[39;49m\u001b[38;5;130;43;01m\\n\u001b[39;49;00m\u001b[38;5;124;43m            next_amplitude = next(wave.iter)\u001b[39;49m\u001b[38;5;130;43;01m\\n\u001b[39;49;00m\u001b[38;5;124;43m            wave.become(full_signal_box.get_wave(init_signal_omega_xyc, amplitude = next_amplitude, wave_opacity = 1))\u001b[39;49m\u001b[38;5;130;43;01m\\n\u001b[39;49;00m\u001b[38;5;130;43;01m\\n\u001b[39;49;00m\u001b[38;5;130;43;01m\\n\u001b[39;49;00m\u001b[38;5;124;43m        # wave updater\u001b[39;49m\u001b[38;5;130;43;01m\\n\u001b[39;49;00m\u001b[38;5;124;43m        def wave_updater(wave):\u001b[39;49m\u001b[38;5;130;43;01m\\n\u001b[39;49;00m\u001b[38;5;124;43m            next_signal_omega_xyc = next(wave.iter)\u001b[39;49m\u001b[38;5;130;43;01m\\n\u001b[39;49;00m\u001b[38;5;124;43m            wave.become(full_signal_box.get_wave(next_signal_omega_xyc, amplitude = 1, wave_opacity = 1))\u001b[39;49m\u001b[38;5;130;43;01m\\n\u001b[39;49;00m\u001b[38;5;124;43m            #self.add(full_signal_box.get_wave(next_signal_omega_xyc, amplitude = 1, wave_opacity = 0.5))\u001b[39;49m\u001b[38;5;130;43;01m\\n\u001b[39;49;00m\u001b[38;5;130;43;01m\\n\u001b[39;49;00m\u001b[38;5;130;43;01m\\n\u001b[39;49;00m\u001b[38;5;124;43m        self.add(full_wave_baseline)\u001b[39;49m\u001b[38;5;130;43;01m\\n\u001b[39;49;00m\u001b[38;5;124;43m        self.wait(1)\u001b[39;49m\u001b[38;5;130;43;01m\\n\u001b[39;49;00m\u001b[38;5;124;43m        full_wave_baseline.add_updater(wave_amplitude_updater)\u001b[39;49m\u001b[38;5;130;43;01m\\n\u001b[39;49;00m\u001b[38;5;124;43m        t_tracker = ValueTracker(0)\u001b[39;49m\u001b[38;5;130;43;01m\\n\u001b[39;49;00m\u001b[38;5;124;43m        self.play(t_tracker.animate.set_value(1), rate_func = linear, run_time = 3)\u001b[39;49m\u001b[38;5;130;43;01m\\n\u001b[39;49;00m\u001b[38;5;124;43m        full_wave_baseline.remove_updater(wave_amplitude_updater)\u001b[39;49m\u001b[38;5;130;43;01m\\n\u001b[39;49;00m\u001b[38;5;124;43m        self.add(full_wave)\u001b[39;49m\u001b[38;5;130;43;01m\\n\u001b[39;49;00m\u001b[38;5;124;43m        self.remove(full_wave_baseline)\u001b[39;49m\u001b[38;5;130;43;01m\\n\u001b[39;49;00m\u001b[38;5;124;43m        full_wave.add_updater(wave_updater)\u001b[39;49m\u001b[38;5;130;43;01m\\n\u001b[39;49;00m\u001b[38;5;124;43m        self.play(t_tracker.animate.set_value(2), rate_func = linear, run_time = 128/2)\u001b[39;49m\u001b[38;5;130;43;01m\\n\u001b[39;49;00m\u001b[38;5;124;43m\"\u001b[39;49m\u001b[43m)\u001b[49m\n",
      "File \u001b[0;32m~/Documents/Studium/Physik_B.Sc/physics-education-animations/animations_code/.venv_per/lib/python3.10/site-packages/IPython/core/interactiveshell.py:2493\u001b[0m, in \u001b[0;36mInteractiveShell.run_cell_magic\u001b[0;34m(self, magic_name, line, cell)\u001b[0m\n\u001b[1;32m   2491\u001b[0m \u001b[38;5;28;01mwith\u001b[39;00m \u001b[38;5;28mself\u001b[39m\u001b[38;5;241m.\u001b[39mbuiltin_trap:\n\u001b[1;32m   2492\u001b[0m     args \u001b[38;5;241m=\u001b[39m (magic_arg_s, cell)\n\u001b[0;32m-> 2493\u001b[0m     result \u001b[38;5;241m=\u001b[39m \u001b[43mfn\u001b[49m\u001b[43m(\u001b[49m\u001b[38;5;241;43m*\u001b[39;49m\u001b[43margs\u001b[49m\u001b[43m,\u001b[49m\u001b[43m \u001b[49m\u001b[38;5;241;43m*\u001b[39;49m\u001b[38;5;241;43m*\u001b[39;49m\u001b[43mkwargs\u001b[49m\u001b[43m)\u001b[49m\n\u001b[1;32m   2495\u001b[0m \u001b[38;5;66;03m# The code below prevents the output from being displayed\u001b[39;00m\n\u001b[1;32m   2496\u001b[0m \u001b[38;5;66;03m# when using magics with decorator @output_can_be_silenced\u001b[39;00m\n\u001b[1;32m   2497\u001b[0m \u001b[38;5;66;03m# when the last Python token in the expression is a ';'.\u001b[39;00m\n\u001b[1;32m   2498\u001b[0m \u001b[38;5;28;01mif\u001b[39;00m \u001b[38;5;28mgetattr\u001b[39m(fn, magic\u001b[38;5;241m.\u001b[39mMAGIC_OUTPUT_CAN_BE_SILENCED, \u001b[38;5;28;01mFalse\u001b[39;00m):\n",
      "File \u001b[0;32m~/Documents/Studium/Physik_B.Sc/physics-education-animations/animations_code/.venv_per/lib/python3.10/site-packages/manim/utils/ipython_magic.py:141\u001b[0m, in \u001b[0;36mManimMagic.manim\u001b[0;34m(self, line, cell, local_ns)\u001b[0m\n\u001b[1;32m    139\u001b[0m     SceneClass \u001b[38;5;241m=\u001b[39m local_ns[config[\u001b[38;5;124m\"\u001b[39m\u001b[38;5;124mscene_names\u001b[39m\u001b[38;5;124m\"\u001b[39m][\u001b[38;5;241m0\u001b[39m]]\n\u001b[1;32m    140\u001b[0m     scene \u001b[38;5;241m=\u001b[39m SceneClass(renderer\u001b[38;5;241m=\u001b[39mrenderer)\n\u001b[0;32m--> 141\u001b[0m     \u001b[43mscene\u001b[49m\u001b[38;5;241;43m.\u001b[39;49m\u001b[43mrender\u001b[49m\u001b[43m(\u001b[49m\u001b[43m)\u001b[49m\n\u001b[1;32m    142\u001b[0m \u001b[38;5;28;01mfinally\u001b[39;00m:\n\u001b[1;32m    143\u001b[0m     \u001b[38;5;66;03m# Shader cache becomes invalid as the context is destroyed\u001b[39;00m\n\u001b[1;32m    144\u001b[0m     shader_program_cache\u001b[38;5;241m.\u001b[39mclear()\n",
      "File \u001b[0;32m~/Documents/Studium/Physik_B.Sc/physics-education-animations/animations_code/.venv_per/lib/python3.10/site-packages/manim/scene/scene.py:223\u001b[0m, in \u001b[0;36mScene.render\u001b[0;34m(self, preview)\u001b[0m\n\u001b[1;32m    221\u001b[0m \u001b[38;5;28mself\u001b[39m\u001b[38;5;241m.\u001b[39msetup()\n\u001b[1;32m    222\u001b[0m \u001b[38;5;28;01mtry\u001b[39;00m:\n\u001b[0;32m--> 223\u001b[0m     \u001b[38;5;28;43mself\u001b[39;49m\u001b[38;5;241;43m.\u001b[39;49m\u001b[43mconstruct\u001b[49m\u001b[43m(\u001b[49m\u001b[43m)\u001b[49m\n\u001b[1;32m    224\u001b[0m \u001b[38;5;28;01mexcept\u001b[39;00m EndSceneEarlyException:\n\u001b[1;32m    225\u001b[0m     \u001b[38;5;28;01mpass\u001b[39;00m\n",
      "File \u001b[0;32m<string>:44\u001b[0m, in \u001b[0;36mconstruct\u001b[0;34m(self)\u001b[0m\n",
      "File \u001b[0;32m~/Documents/Studium/Physik_B.Sc/physics-education-animations/animations_code/.venv_per/lib/python3.10/site-packages/manim/scene/scene.py:1082\u001b[0m, in \u001b[0;36mScene.play\u001b[0;34m(self, subcaption, subcaption_duration, subcaption_offset, *args, **kwargs)\u001b[0m\n\u001b[1;32m   1079\u001b[0m     \u001b[38;5;28;01mreturn\u001b[39;00m\n\u001b[1;32m   1081\u001b[0m start_time \u001b[38;5;241m=\u001b[39m \u001b[38;5;28mself\u001b[39m\u001b[38;5;241m.\u001b[39mrenderer\u001b[38;5;241m.\u001b[39mtime\n\u001b[0;32m-> 1082\u001b[0m \u001b[38;5;28;43mself\u001b[39;49m\u001b[38;5;241;43m.\u001b[39;49m\u001b[43mrenderer\u001b[49m\u001b[38;5;241;43m.\u001b[39;49m\u001b[43mplay\u001b[49m\u001b[43m(\u001b[49m\u001b[38;5;28;43mself\u001b[39;49m\u001b[43m,\u001b[49m\u001b[43m \u001b[49m\u001b[38;5;241;43m*\u001b[39;49m\u001b[43margs\u001b[49m\u001b[43m,\u001b[49m\u001b[43m \u001b[49m\u001b[38;5;241;43m*\u001b[39;49m\u001b[38;5;241;43m*\u001b[39;49m\u001b[43mkwargs\u001b[49m\u001b[43m)\u001b[49m\n\u001b[1;32m   1083\u001b[0m run_time \u001b[38;5;241m=\u001b[39m \u001b[38;5;28mself\u001b[39m\u001b[38;5;241m.\u001b[39mrenderer\u001b[38;5;241m.\u001b[39mtime \u001b[38;5;241m-\u001b[39m start_time\n\u001b[1;32m   1084\u001b[0m \u001b[38;5;28;01mif\u001b[39;00m subcaption:\n",
      "File \u001b[0;32m~/Documents/Studium/Physik_B.Sc/physics-education-animations/animations_code/.venv_per/lib/python3.10/site-packages/manim/renderer/cairo_renderer.py:104\u001b[0m, in \u001b[0;36mCairoRenderer.play\u001b[0;34m(self, scene, *args, **kwargs)\u001b[0m\n\u001b[1;32m    102\u001b[0m     \u001b[38;5;28mself\u001b[39m\u001b[38;5;241m.\u001b[39mfreeze_current_frame(scene\u001b[38;5;241m.\u001b[39mduration)\n\u001b[1;32m    103\u001b[0m \u001b[38;5;28;01melse\u001b[39;00m:\n\u001b[0;32m--> 104\u001b[0m     \u001b[43mscene\u001b[49m\u001b[38;5;241;43m.\u001b[39;49m\u001b[43mplay_internal\u001b[49m\u001b[43m(\u001b[49m\u001b[43m)\u001b[49m\n\u001b[1;32m    105\u001b[0m \u001b[38;5;28mself\u001b[39m\u001b[38;5;241m.\u001b[39mfile_writer\u001b[38;5;241m.\u001b[39mend_animation(\u001b[38;5;129;01mnot\u001b[39;00m \u001b[38;5;28mself\u001b[39m\u001b[38;5;241m.\u001b[39mskip_animations)\n\u001b[1;32m    107\u001b[0m \u001b[38;5;28mself\u001b[39m\u001b[38;5;241m.\u001b[39mnum_plays \u001b[38;5;241m+\u001b[39m\u001b[38;5;241m=\u001b[39m \u001b[38;5;241m1\u001b[39m\n",
      "File \u001b[0;32m~/Documents/Studium/Physik_B.Sc/physics-education-animations/animations_code/.venv_per/lib/python3.10/site-packages/manim/scene/scene.py:1247\u001b[0m, in \u001b[0;36mScene.play_internal\u001b[0;34m(self, skip_rendering)\u001b[0m\n\u001b[1;32m   1245\u001b[0m \u001b[38;5;28mself\u001b[39m\u001b[38;5;241m.\u001b[39mupdate_to_time(t)\n\u001b[1;32m   1246\u001b[0m \u001b[38;5;28;01mif\u001b[39;00m \u001b[38;5;129;01mnot\u001b[39;00m skip_rendering \u001b[38;5;129;01mand\u001b[39;00m \u001b[38;5;129;01mnot\u001b[39;00m \u001b[38;5;28mself\u001b[39m\u001b[38;5;241m.\u001b[39mskip_animation_preview:\n\u001b[0;32m-> 1247\u001b[0m     \u001b[38;5;28;43mself\u001b[39;49m\u001b[38;5;241;43m.\u001b[39;49m\u001b[43mrenderer\u001b[49m\u001b[38;5;241;43m.\u001b[39;49m\u001b[43mrender\u001b[49m\u001b[43m(\u001b[49m\u001b[38;5;28;43mself\u001b[39;49m\u001b[43m,\u001b[49m\u001b[43m \u001b[49m\u001b[43mt\u001b[49m\u001b[43m,\u001b[49m\u001b[43m \u001b[49m\u001b[38;5;28;43mself\u001b[39;49m\u001b[38;5;241;43m.\u001b[39;49m\u001b[43mmoving_mobjects\u001b[49m\u001b[43m)\u001b[49m\n\u001b[1;32m   1248\u001b[0m \u001b[38;5;28;01mif\u001b[39;00m \u001b[38;5;28mself\u001b[39m\u001b[38;5;241m.\u001b[39mstop_condition \u001b[38;5;129;01mis\u001b[39;00m \u001b[38;5;129;01mnot\u001b[39;00m \u001b[38;5;28;01mNone\u001b[39;00m \u001b[38;5;129;01mand\u001b[39;00m \u001b[38;5;28mself\u001b[39m\u001b[38;5;241m.\u001b[39mstop_condition():\n\u001b[1;32m   1249\u001b[0m     \u001b[38;5;28mself\u001b[39m\u001b[38;5;241m.\u001b[39mtime_progression\u001b[38;5;241m.\u001b[39mclose()\n",
      "File \u001b[0;32m~/Documents/Studium/Physik_B.Sc/physics-education-animations/animations_code/.venv_per/lib/python3.10/site-packages/manim/renderer/cairo_renderer.py:149\u001b[0m, in \u001b[0;36mCairoRenderer.render\u001b[0;34m(self, scene, time, moving_mobjects)\u001b[0m\n\u001b[1;32m    148\u001b[0m \u001b[38;5;28;01mdef\u001b[39;00m \u001b[38;5;21mrender\u001b[39m(\u001b[38;5;28mself\u001b[39m, scene, time, moving_mobjects):\n\u001b[0;32m--> 149\u001b[0m     \u001b[38;5;28;43mself\u001b[39;49m\u001b[38;5;241;43m.\u001b[39;49m\u001b[43mupdate_frame\u001b[49m\u001b[43m(\u001b[49m\u001b[43mscene\u001b[49m\u001b[43m,\u001b[49m\u001b[43m \u001b[49m\u001b[43mmoving_mobjects\u001b[49m\u001b[43m)\u001b[49m\n\u001b[1;32m    150\u001b[0m     \u001b[38;5;28mself\u001b[39m\u001b[38;5;241m.\u001b[39madd_frame(\u001b[38;5;28mself\u001b[39m\u001b[38;5;241m.\u001b[39mget_frame())\n",
      "File \u001b[0;32m~/Documents/Studium/Physik_B.Sc/physics-education-animations/animations_code/.venv_per/lib/python3.10/site-packages/manim/renderer/cairo_renderer.py:146\u001b[0m, in \u001b[0;36mCairoRenderer.update_frame\u001b[0;34m(self, scene, mobjects, include_submobjects, ignore_skipping, **kwargs)\u001b[0m\n\u001b[1;32m    143\u001b[0m     \u001b[38;5;28mself\u001b[39m\u001b[38;5;241m.\u001b[39mcamera\u001b[38;5;241m.\u001b[39mreset()\n\u001b[1;32m    145\u001b[0m kwargs[\u001b[38;5;124m\"\u001b[39m\u001b[38;5;124minclude_submobjects\u001b[39m\u001b[38;5;124m\"\u001b[39m] \u001b[38;5;241m=\u001b[39m include_submobjects\n\u001b[0;32m--> 146\u001b[0m \u001b[38;5;28;43mself\u001b[39;49m\u001b[38;5;241;43m.\u001b[39;49m\u001b[43mcamera\u001b[49m\u001b[38;5;241;43m.\u001b[39;49m\u001b[43mcapture_mobjects\u001b[49m\u001b[43m(\u001b[49m\u001b[43mmobjects\u001b[49m\u001b[43m,\u001b[49m\u001b[43m \u001b[49m\u001b[38;5;241;43m*\u001b[39;49m\u001b[38;5;241;43m*\u001b[39;49m\u001b[43mkwargs\u001b[49m\u001b[43m)\u001b[49m\n",
      "File \u001b[0;32m~/Documents/Studium/Physik_B.Sc/physics-education-animations/animations_code/.venv_per/lib/python3.10/site-packages/manim/camera/camera.py:515\u001b[0m, in \u001b[0;36mCamera.capture_mobjects\u001b[0;34m(self, mobjects, **kwargs)\u001b[0m\n\u001b[1;32m    513\u001b[0m mobjects \u001b[38;5;241m=\u001b[39m \u001b[38;5;28mself\u001b[39m\u001b[38;5;241m.\u001b[39mget_mobjects_to_display(mobjects, \u001b[38;5;241m*\u001b[39m\u001b[38;5;241m*\u001b[39mkwargs)\n\u001b[1;32m    514\u001b[0m \u001b[38;5;28;01mfor\u001b[39;00m group_type, group \u001b[38;5;129;01min\u001b[39;00m it\u001b[38;5;241m.\u001b[39mgroupby(mobjects, \u001b[38;5;28mself\u001b[39m\u001b[38;5;241m.\u001b[39mtype_or_raise):\n\u001b[0;32m--> 515\u001b[0m     \u001b[38;5;28;43mself\u001b[39;49m\u001b[38;5;241;43m.\u001b[39;49m\u001b[43mdisplay_funcs\u001b[49m\u001b[43m[\u001b[49m\u001b[43mgroup_type\u001b[49m\u001b[43m]\u001b[49m\u001b[43m(\u001b[49m\u001b[38;5;28;43mlist\u001b[39;49m\u001b[43m(\u001b[49m\u001b[43mgroup\u001b[49m\u001b[43m)\u001b[49m\u001b[43m,\u001b[49m\u001b[43m \u001b[49m\u001b[38;5;28;43mself\u001b[39;49m\u001b[38;5;241;43m.\u001b[39;49m\u001b[43mpixel_array\u001b[49m\u001b[43m)\u001b[49m\n",
      "File \u001b[0;32m~/Documents/Studium/Physik_B.Sc/physics-education-animations/animations_code/.venv_per/lib/python3.10/site-packages/manim/camera/camera.py:614\u001b[0m, in \u001b[0;36mCamera.display_multiple_vectorized_mobjects\u001b[0;34m(self, vmobjects, pixel_array)\u001b[0m\n\u001b[1;32m    612\u001b[0m     \u001b[38;5;28mself\u001b[39m\u001b[38;5;241m.\u001b[39mdisplay_multiple_background_colored_vmobjects(batch, pixel_array)\n\u001b[1;32m    613\u001b[0m \u001b[38;5;28;01melse\u001b[39;00m:\n\u001b[0;32m--> 614\u001b[0m     \u001b[38;5;28;43mself\u001b[39;49m\u001b[38;5;241;43m.\u001b[39;49m\u001b[43mdisplay_multiple_non_background_colored_vmobjects\u001b[49m\u001b[43m(\u001b[49m\n\u001b[1;32m    615\u001b[0m \u001b[43m        \u001b[49m\u001b[43mbatch\u001b[49m\u001b[43m,\u001b[49m\n\u001b[1;32m    616\u001b[0m \u001b[43m        \u001b[49m\u001b[43mpixel_array\u001b[49m\u001b[43m,\u001b[49m\n\u001b[1;32m    617\u001b[0m \u001b[43m    \u001b[49m\u001b[43m)\u001b[49m\n",
      "File \u001b[0;32m~/Documents/Studium/Physik_B.Sc/physics-education-animations/animations_code/.venv_per/lib/python3.10/site-packages/manim/camera/camera.py:634\u001b[0m, in \u001b[0;36mCamera.display_multiple_non_background_colored_vmobjects\u001b[0;34m(self, vmobjects, pixel_array)\u001b[0m\n\u001b[1;32m    632\u001b[0m ctx \u001b[38;5;241m=\u001b[39m \u001b[38;5;28mself\u001b[39m\u001b[38;5;241m.\u001b[39mget_cairo_context(pixel_array)\n\u001b[1;32m    633\u001b[0m \u001b[38;5;28;01mfor\u001b[39;00m vmobject \u001b[38;5;129;01min\u001b[39;00m vmobjects:\n\u001b[0;32m--> 634\u001b[0m     \u001b[38;5;28;43mself\u001b[39;49m\u001b[38;5;241;43m.\u001b[39;49m\u001b[43mdisplay_vectorized\u001b[49m\u001b[43m(\u001b[49m\u001b[43mvmobject\u001b[49m\u001b[43m,\u001b[49m\u001b[43m \u001b[49m\u001b[43mctx\u001b[49m\u001b[43m)\u001b[49m\n",
      "File \u001b[0;32m~/Documents/Studium/Physik_B.Sc/physics-education-animations/animations_code/.venv_per/lib/python3.10/site-packages/manim/camera/camera.py:651\u001b[0m, in \u001b[0;36mCamera.display_vectorized\u001b[0;34m(self, vmobject, ctx)\u001b[0m\n\u001b[1;32m    636\u001b[0m \u001b[38;5;28;01mdef\u001b[39;00m \u001b[38;5;21mdisplay_vectorized\u001b[39m(\u001b[38;5;28mself\u001b[39m, vmobject: VMobject, ctx: cairo\u001b[38;5;241m.\u001b[39mContext):\n\u001b[1;32m    637\u001b[0m \u001b[38;5;250m    \u001b[39m\u001b[38;5;124;03m\"\"\"Displays a VMobject in the cairo context\u001b[39;00m\n\u001b[1;32m    638\u001b[0m \n\u001b[1;32m    639\u001b[0m \u001b[38;5;124;03m    Parameters\u001b[39;00m\n\u001b[0;32m   (...)\u001b[0m\n\u001b[1;32m    649\u001b[0m \u001b[38;5;124;03m        The camera object\u001b[39;00m\n\u001b[1;32m    650\u001b[0m \u001b[38;5;124;03m    \"\"\"\u001b[39;00m\n\u001b[0;32m--> 651\u001b[0m     \u001b[38;5;28;43mself\u001b[39;49m\u001b[38;5;241;43m.\u001b[39;49m\u001b[43mset_cairo_context_path\u001b[49m\u001b[43m(\u001b[49m\u001b[43mctx\u001b[49m\u001b[43m,\u001b[49m\u001b[43m \u001b[49m\u001b[43mvmobject\u001b[49m\u001b[43m)\u001b[49m\n\u001b[1;32m    652\u001b[0m     \u001b[38;5;28mself\u001b[39m\u001b[38;5;241m.\u001b[39mapply_stroke(ctx, vmobject, background\u001b[38;5;241m=\u001b[39m\u001b[38;5;28;01mTrue\u001b[39;00m)\n\u001b[1;32m    653\u001b[0m     \u001b[38;5;28mself\u001b[39m\u001b[38;5;241m.\u001b[39mapply_fill(ctx, vmobject)\n",
      "File \u001b[0;32m~/Documents/Studium/Physik_B.Sc/physics-education-animations/animations_code/.venv_per/lib/python3.10/site-packages/manim/camera/camera.py:679\u001b[0m, in \u001b[0;36mCamera.set_cairo_context_path\u001b[0;34m(self, ctx, vmobject)\u001b[0m\n\u001b[1;32m    676\u001b[0m     \u001b[38;5;28;01mreturn\u001b[39;00m\n\u001b[1;32m    678\u001b[0m ctx\u001b[38;5;241m.\u001b[39mnew_path()\n\u001b[0;32m--> 679\u001b[0m subpaths \u001b[38;5;241m=\u001b[39m \u001b[43mvmobject\u001b[49m\u001b[38;5;241;43m.\u001b[39;49m\u001b[43mgen_subpaths_from_points_2d\u001b[49m\u001b[43m(\u001b[49m\u001b[43mpoints\u001b[49m\u001b[43m)\u001b[49m\n\u001b[1;32m    680\u001b[0m \u001b[38;5;28;01mfor\u001b[39;00m subpath \u001b[38;5;129;01min\u001b[39;00m subpaths:\n\u001b[1;32m    681\u001b[0m     quads \u001b[38;5;241m=\u001b[39m vmobject\u001b[38;5;241m.\u001b[39mgen_cubic_bezier_tuples_from_points(subpath)\n",
      "File \u001b[0;32m~/Documents/Studium/Physik_B.Sc/physics-education-animations/animations_code/.venv_per/lib/python3.10/site-packages/manim/mobject/types/vectorized_mobject.py:1082\u001b[0m, in \u001b[0;36mVMobject.gen_subpaths_from_points_2d\u001b[0;34m(self, points)\u001b[0m\n\u001b[1;32m   1081\u001b[0m \u001b[38;5;28;01mdef\u001b[39;00m \u001b[38;5;21mgen_subpaths_from_points_2d\u001b[39m(\u001b[38;5;28mself\u001b[39m, points):\n\u001b[0;32m-> 1082\u001b[0m     \u001b[38;5;28;01mreturn\u001b[39;00m \u001b[38;5;28;43mself\u001b[39;49m\u001b[38;5;241;43m.\u001b[39;49m\u001b[43m_gen_subpaths_from_points\u001b[49m\u001b[43m(\u001b[49m\n\u001b[1;32m   1083\u001b[0m \u001b[43m        \u001b[49m\u001b[43mpoints\u001b[49m\u001b[43m,\u001b[49m\n\u001b[1;32m   1084\u001b[0m \u001b[43m        \u001b[49m\u001b[38;5;28;43;01mlambda\u001b[39;49;00m\u001b[43m \u001b[49m\u001b[43mn\u001b[49m\u001b[43m:\u001b[49m\u001b[43m \u001b[49m\u001b[38;5;129;43;01mnot\u001b[39;49;00m\u001b[43m \u001b[49m\u001b[38;5;28;43mself\u001b[39;49m\u001b[38;5;241;43m.\u001b[39;49m\u001b[43mconsider_points_equals_2d\u001b[49m\u001b[43m(\u001b[49m\u001b[43mpoints\u001b[49m\u001b[43m[\u001b[49m\u001b[43mn\u001b[49m\u001b[43m \u001b[49m\u001b[38;5;241;43m-\u001b[39;49m\u001b[43m \u001b[49m\u001b[38;5;241;43m1\u001b[39;49m\u001b[43m]\u001b[49m\u001b[43m,\u001b[49m\u001b[43m \u001b[49m\u001b[43mpoints\u001b[49m\u001b[43m[\u001b[49m\u001b[43mn\u001b[49m\u001b[43m]\u001b[49m\u001b[43m)\u001b[49m\u001b[43m,\u001b[49m\n\u001b[1;32m   1085\u001b[0m \u001b[43m    \u001b[49m\u001b[43m)\u001b[49m\n",
      "File \u001b[0;32m~/Documents/Studium/Physik_B.Sc/physics-education-animations/animations_code/.venv_per/lib/python3.10/site-packages/manim/mobject/types/vectorized_mobject.py:1066\u001b[0m, in \u001b[0;36mVMobject._gen_subpaths_from_points\u001b[0;34m(self, points, filter_func)\u001b[0m\n\u001b[1;32m   1064\u001b[0m nppcc \u001b[38;5;241m=\u001b[39m \u001b[38;5;28mself\u001b[39m\u001b[38;5;241m.\u001b[39mn_points_per_cubic_curve\n\u001b[1;32m   1065\u001b[0m filtered \u001b[38;5;241m=\u001b[39m \u001b[38;5;28mfilter\u001b[39m(filter_func, \u001b[38;5;28mrange\u001b[39m(nppcc, \u001b[38;5;28mlen\u001b[39m(points), nppcc))\n\u001b[0;32m-> 1066\u001b[0m split_indices \u001b[38;5;241m=\u001b[39m [\u001b[38;5;241m0\u001b[39m] \u001b[38;5;241m+\u001b[39m \u001b[38;5;28;43mlist\u001b[39;49m\u001b[43m(\u001b[49m\u001b[43mfiltered\u001b[49m\u001b[43m)\u001b[49m \u001b[38;5;241m+\u001b[39m [\u001b[38;5;28mlen\u001b[39m(points)]\n\u001b[1;32m   1067\u001b[0m \u001b[38;5;28;01mreturn\u001b[39;00m (\n\u001b[1;32m   1068\u001b[0m     points[i1:i2]\n\u001b[1;32m   1069\u001b[0m     \u001b[38;5;28;01mfor\u001b[39;00m i1, i2 \u001b[38;5;129;01min\u001b[39;00m \u001b[38;5;28mzip\u001b[39m(split_indices, split_indices[\u001b[38;5;241m1\u001b[39m:])\n\u001b[1;32m   1070\u001b[0m     \u001b[38;5;28;01mif\u001b[39;00m (i2 \u001b[38;5;241m-\u001b[39m i1) \u001b[38;5;241m>\u001b[39m\u001b[38;5;241m=\u001b[39m nppcc\n\u001b[1;32m   1071\u001b[0m )\n",
      "File \u001b[0;32m~/Documents/Studium/Physik_B.Sc/physics-education-animations/animations_code/.venv_per/lib/python3.10/site-packages/manim/mobject/types/vectorized_mobject.py:1084\u001b[0m, in \u001b[0;36mVMobject.gen_subpaths_from_points_2d.<locals>.<lambda>\u001b[0;34m(n)\u001b[0m\n\u001b[1;32m   1081\u001b[0m \u001b[38;5;28;01mdef\u001b[39;00m \u001b[38;5;21mgen_subpaths_from_points_2d\u001b[39m(\u001b[38;5;28mself\u001b[39m, points):\n\u001b[1;32m   1082\u001b[0m     \u001b[38;5;28;01mreturn\u001b[39;00m \u001b[38;5;28mself\u001b[39m\u001b[38;5;241m.\u001b[39m_gen_subpaths_from_points(\n\u001b[1;32m   1083\u001b[0m         points,\n\u001b[0;32m-> 1084\u001b[0m         \u001b[38;5;28;01mlambda\u001b[39;00m n: \u001b[38;5;129;01mnot\u001b[39;00m \u001b[38;5;28;43mself\u001b[39;49m\u001b[38;5;241;43m.\u001b[39;49m\u001b[43mconsider_points_equals_2d\u001b[49m\u001b[43m(\u001b[49m\u001b[43mpoints\u001b[49m\u001b[43m[\u001b[49m\u001b[43mn\u001b[49m\u001b[43m \u001b[49m\u001b[38;5;241;43m-\u001b[39;49m\u001b[43m \u001b[49m\u001b[38;5;241;43m1\u001b[39;49m\u001b[43m]\u001b[49m\u001b[43m,\u001b[49m\u001b[43m \u001b[49m\u001b[43mpoints\u001b[49m\u001b[43m[\u001b[49m\u001b[43mn\u001b[49m\u001b[43m]\u001b[49m\u001b[43m)\u001b[49m,\n\u001b[1;32m   1085\u001b[0m     )\n",
      "File \u001b[0;32m~/Documents/Studium/Physik_B.Sc/physics-education-animations/animations_code/.venv_per/lib/python3.10/site-packages/manim/mobject/types/vectorized_mobject.py:1004\u001b[0m, in \u001b[0;36mVMobject.consider_points_equals_2d\u001b[0;34m(self, p0, p1)\u001b[0m\n\u001b[1;32m   1002\u001b[0m \u001b[38;5;28;01mif\u001b[39;00m \u001b[38;5;28mabs\u001b[39m(p0[\u001b[38;5;241m0\u001b[39m] \u001b[38;5;241m-\u001b[39m p1[\u001b[38;5;241m0\u001b[39m]) \u001b[38;5;241m>\u001b[39m atol \u001b[38;5;241m+\u001b[39m rtol \u001b[38;5;241m*\u001b[39m \u001b[38;5;28mabs\u001b[39m(p1[\u001b[38;5;241m0\u001b[39m]):\n\u001b[1;32m   1003\u001b[0m     \u001b[38;5;28;01mreturn\u001b[39;00m \u001b[38;5;28;01mFalse\u001b[39;00m\n\u001b[0;32m-> 1004\u001b[0m \u001b[38;5;28;01mif\u001b[39;00m \u001b[38;5;28mabs\u001b[39m(p0[\u001b[38;5;241m1\u001b[39m] \u001b[38;5;241m-\u001b[39m p1[\u001b[38;5;241m1\u001b[39m]) \u001b[38;5;241m>\u001b[39m atol \u001b[38;5;241m+\u001b[39m rtol \u001b[38;5;241m*\u001b[39m \u001b[38;5;28mabs\u001b[39m(p1[\u001b[38;5;241m1\u001b[39m]):\n\u001b[1;32m   1005\u001b[0m     \u001b[38;5;28;01mreturn\u001b[39;00m \u001b[38;5;28;01mFalse\u001b[39;00m\n\u001b[1;32m   1006\u001b[0m \u001b[38;5;28;01mreturn\u001b[39;00m \u001b[38;5;28;01mTrue\u001b[39;00m\n",
      "\u001b[0;31mKeyboardInterrupt\u001b[0m: "
     ]
    }
   ],
   "source": [
    "%%capture_video --path \"animations/christmas_fourier/christmas_fourier_singlewave_WHITE.mp4\"\n",
    "%%manim -qh --fps 64 $video_scene\n",
    "\n",
    "\n",
    "class cf_Scene(Scene):\n",
    "    def construct(self):\n",
    "        self.camera.background_color = WHITE\n",
    "        CVC = Text('CVC', font_size = 12, weight = BOLD, color = WHITE, font = 'Latin Modern Sans').align_on_border(RIGHT + DOWN, buff = 0.2)\n",
    "        self.add(CVC)\n",
    "\n",
    "        # initial signal an their iter\n",
    "        init_signal_omega_xyc = encoded_data_list_spiral[0]\n",
    "        encoded_data_iter = iter(encoded_data_list_spiral)\n",
    "        # amplitude list plus iter\n",
    "        amplitude_list = [x**4 for x in np.linspace(0, 1, 3*64 + 1)]\n",
    "        amplitude_iter = iter(amplitude_list)\n",
    "\n",
    "\n",
    "        # coordinate system for the total initial superposition of waves\n",
    "        full_signal_box = FullSignal(position = np.array([0, 0, 0]))\n",
    "        self.add(full_signal_box)\n",
    "        # full wave and baseline with their iters ()\n",
    "        full_wave_baseline = full_signal_box.get_wave(init_signal_omega_xyc, amplitude = 0, wave_opacity = 1)\n",
    "        full_wave_baseline.iter = amplitude_iter\n",
    "        full_wave = full_signal_box.get_wave(init_signal_omega_xyc, amplitude = 1, wave_opacity = 1)\n",
    "        full_wave.iter = encoded_data_iter\n",
    "\n",
    "\n",
    "        # updating the wave amplitudes into starting position\n",
    "        def wave_amplitude_updater(wave):\n",
    "            next_amplitude = next(wave.iter)\n",
    "            wave.become(full_signal_box.get_wave(init_signal_omega_xyc, amplitude = next_amplitude, wave_opacity = 1))\n",
    "\n",
    "\n",
    "        # wave updater\n",
    "        def wave_updater(wave):\n",
    "            next_signal_omega_xyc = next(wave.iter)\n",
    "            wave.become(full_signal_box.get_wave(next_signal_omega_xyc, amplitude = 1, wave_opacity = 1))\n",
    "            #self.add(full_signal_box.get_wave(next_signal_omega_xyc, amplitude = 1, wave_opacity = 0.5))\n",
    "\n",
    "\n",
    "        self.add(full_wave_baseline)\n",
    "        self.wait(1)\n",
    "        full_wave_baseline.add_updater(wave_amplitude_updater)\n",
    "        t_tracker = ValueTracker(0)\n",
    "        self.play(t_tracker.animate.set_value(1), rate_func = linear, run_time = 3)\n",
    "        full_wave_baseline.remove_updater(wave_amplitude_updater)\n",
    "        self.add(full_wave)\n",
    "        self.remove(full_wave_baseline)\n",
    "        full_wave.add_updater(wave_updater)\n",
    "        self.play(t_tracker.animate.set_value(2), rate_func = linear, run_time = 128/2)"
   ]
  },
  {
   "cell_type": "code",
   "execution_count": 6,
   "metadata": {},
   "outputs": [
    {
     "name": "stdout",
     "output_type": "stream",
     "text": [
      "Output saved by creating file at animations/christmas_fourier/christmas_fourier_multiwave_PURE_WHITE.mp4.\n"
     ]
    },
    {
     "name": "stderr",
     "output_type": "stream",
     "text": [
      "                                                                                                \r"
     ]
    },
    {
     "data": {
      "text/html": [
       "<video src=\"media/jupyter/cf_Scene@2023-12-19@16-01-35.mp4\" controls autoplay loop style=\"max-width: 60%;\"  >\n",
       "      Your browser does not support the <code>video</code> element.\n",
       "    </video>"
      ],
      "text/plain": [
       "<IPython.core.display.Video object>"
      ]
     },
     "metadata": {},
     "output_type": "display_data"
    }
   ],
   "source": [
    "%%capture_video --path \"animations/christmas_fourier/christmas_fourier_multiwave_PURE_WHITE.mp4\"\n",
    "%%manim -qh --fps 64 $video_scene\n",
    "\n",
    "\n",
    "class cf_Scene(Scene):\n",
    "    def construct(self):\n",
    "        self.camera.background_color = WHITE        \n",
    "        CVC = Text('CVC', font_size = 12, weight = BOLD, color = WHITE, font = 'Latin Modern Sans').align_on_border(RIGHT + DOWN, buff = 0.2)\n",
    "        self.add(CVC)\n",
    "\n",
    "\n",
    "        # initial signal\n",
    "        init_signal_omega_xyc = encoded_data_list_spiral[0]\n",
    "        init_signal_omega_x = encoded_data_list[0][0]\n",
    "        init_signal_omega_y = encoded_data_list[0][1]\n",
    "        init_signal_omega_c = encoded_data_list[0][2]\n",
    "        # creating the iter from the signals\n",
    "        encoded_data_iter = iter(encoded_data_list_spiral)\n",
    "        encoded_x_data_iter = iter([omega_xyc[0] for omega_xyc in encoded_data_list_spiral])\n",
    "        encoded_y_data_iter = iter([omega_xyc[1] for omega_xyc in encoded_data_list_spiral])\n",
    "        encoded_c_data_iter = iter([omega_xyc[2] for omega_xyc in encoded_data_list_spiral])\n",
    "\n",
    "\n",
    "        # split waves with their iters and mother class\n",
    "        split_signal_x_box = SplitSignal(position = np.array([3.75, 2.5, 0]), height = 1.25, width = 5, description = \"1. Frequenz: x-Koordinate\", color = PURE_RED)\n",
    "        split_wave_x = split_signal_x_box.get_wave(init_signal_omega_x)\n",
    "        split_wave_x.mother_class = split_signal_x_box\n",
    "        split_wave_x.iter = encoded_x_data_iter\n",
    "\n",
    "        split_signal_y_box = SplitSignal(position = np.array([3.75, 0.5, 0]), height = 1.25, width = 5, description = \"2. Frequenz: y-Koordinate\", color = PURE_BLUE)\n",
    "        split_wave_y = split_signal_y_box.get_wave(init_signal_omega_y)\n",
    "        split_wave_y.mother_class = split_signal_y_box\n",
    "        split_wave_y.iter = encoded_y_data_iter\n",
    "\n",
    "        split_signal_c_box = SplitSignal(position = np.array([3.75, -1.5, 0]), height = 1.25, width = 5, description = \"3. Frequenz: Graustufe\", color = DARK_GREY)\n",
    "        split_wave_c = split_signal_c_box.get_wave(init_signal_omega_c)\n",
    "        split_wave_c.mother_class = split_signal_c_box\n",
    "        split_wave_c.iter = encoded_c_data_iter\n",
    "\n",
    "        self.add(split_signal_x_box, split_signal_y_box, split_signal_c_box)\n",
    "        self.add(split_wave_x, split_wave_y, split_wave_c)\n",
    "\n",
    "\n",
    "        # updates the individual waves on the right\n",
    "        def wave_updater(wave):\n",
    "            next_signal_omega_xyc = next(wave.iter)\n",
    "            wave.become(wave.mother_class.get_wave(next_signal_omega_xyc))\n",
    "            \n",
    "\n",
    "        # square with the untransformed signal \n",
    "        signal_box = IncomingSignal(position = (-3.25, 0.5, 0), height = 4, width = 5)\n",
    "        #self.add(signal_box)\n",
    "\n",
    "        # setting up the signals using the methods of the boxes             \n",
    "        init_signal = signal_box.get_signal(init_signal_omega_xyc)\n",
    "        init_signal.iterator = encoded_data_iter\n",
    "        init_signal.ft_signal = signal_box.get_ft_signal(init_signal_omega_xyc)\n",
    "        #self.add(init_signal, init_signal.ft_signal)\n",
    "\n",
    "\n",
    "        # updates an incoming signal and its fourier transform\n",
    "        def signal_updater(signal):\n",
    "            next_signal_omega_xyc = next(signal.iterator)\n",
    "            signal.ft_signal.become(signal_box.get_ft_signal(next_signal_omega_xyc))\n",
    "            signal.become(signal_box.get_signal(next_signal_omega_xyc)) \n",
    "\n",
    "\n",
    "        self.wait(4)\n",
    "        #init_signal.add_updater(signal_updater)\n",
    "        split_wave_x.add_updater(wave_updater)\n",
    "        split_wave_y.add_updater(wave_updater)\n",
    "        split_wave_c.add_updater(wave_updater)\n",
    "        t_tracker = ValueTracker(0)\n",
    "        self.play(t_tracker.animate.set_value(1), rate_func = linear, run_time = 128/2) # 64 for multiwave, 128 for multiwave + fourier\n",
    "        self.wait(5)"
   ]
  },
  {
   "cell_type": "code",
   "execution_count": null,
   "metadata": {},
   "outputs": [],
   "source": [
    "%%capture_video --path \"animations/christmas_fourier/christmas_fourier_start.mp4\"\n",
    "%%manim -qh --fps 64 $video_scene\n",
    "\n",
    "\n",
    "class cf_Scene(Scene):\n",
    "    def construct(self):\n",
    "        #self.camera.background_color = WHITE\n",
    "\n",
    "        # a fake signal alongside the starting signal\n",
    "        show_signal_omega_xyc = (180, 290, encoded_data_list_spiral[0][2])\n",
    "        init_signal_omega_xyc = encoded_data_list_spiral[0]\n",
    "\n",
    "        # square with the transformed image\n",
    "        image_box = FTransformedImage(position = np.array([3.75, 0.5, 0]), size = 4)\n",
    "\n",
    "        # square with the untransformed signal \n",
    "        signal_box = IncomingSignal(position = (-3.25, 0.5, 0), height = 4, width = 5)\n",
    "        self.add(signal_box)\n",
    "\n",
    "\n",
    "        # setting up the signal using the methods of the boxes             \n",
    "        show_signal = signal_box.get_signal(show_signal_omega_xyc)                                      # the untransformed show signal wave\n",
    "        show_signal.pixel = image_box.get_pixel(show_signal_omega_xyc)                                  # the first pixel of the recreated image\n",
    "        show_signal.pixel_arm = image_box.get_pixel_arm(show_signal_omega_xyc)                          # the descriptor on both axes of the first pixel\n",
    "        show_signal.ft_signal = signal_box.get_ft_signal(show_signal_omega_xyc)                         # the fourier-transformed signal wave\n",
    "\n",
    "        init_signal = signal_box.get_signal(init_signal_omega_xyc)                                      # the initial untransformed signal wave\n",
    "        init_signal.pixel = image_box.get_pixel(init_signal_omega_xyc)                                  # the first pixel of the recreated image\n",
    "        init_signal.pixel_arm = image_box.get_pixel_arm(init_signal_omega_xyc)                          # the descriptor on both axes of the first pixel\n",
    "        init_signal.ft_signal = signal_box.get_ft_signal(init_signal_omega_xyc)                         # the fourier-transformed signal wave\n",
    "        \n",
    "\n",
    "        self.wait(1.5)\n",
    "        self.play(Create(show_signal), run_time = 5)\n",
    "        self.wait(3)\n",
    "        self.play(Create(show_signal.ft_signal), run_time = 5)\n",
    "        self.wait(3)\n",
    "        self.play(FadeIn(image_box), run_time = 3)\n",
    "        self.wait(1.5)\n",
    "        self.play(TransformFromCopy(show_signal.ft_signal, show_signal.pixel), FadeIn(show_signal.pixel_arm), run_time = 3)\n",
    "        self.wait(3)\n",
    "        self.play(\n",
    "            FadeTransform(show_signal, init_signal), \n",
    "            FadeTransform(show_signal.ft_signal, init_signal.ft_signal), \n",
    "            FadeOut(show_signal.pixel), FadeIn(init_signal.pixel), \n",
    "            FadeOut(show_signal.pixel_arm), FadeIn(init_signal.pixel_arm), \n",
    "            run_time = 3)\n",
    "        self.wait(3)"
   ]
  },
  {
   "cell_type": "code",
   "execution_count": null,
   "metadata": {},
   "outputs": [],
   "source": [
    "# ffmpeg -i snow_leopard.mp4 -r 128 -vf \"setpts=0.5*PTS\" snow_leopard_2x.mp4\n",
    "# ffmpeg -i snow_leopard_2x.mp4 -ss 00:00:00 -t 00:02:15 snow_leopard_2x_cut.mp4\n",
    "\n",
    "# ffmpeg -i snow_leopard_WHITE.mp4 -r 60 -vf \"setpts=0.5*PTS\" snow_leopard_WHITE_2x.mp4\n",
    "# ffmpeg -i snow_leopard_WHITE_2x.mp4 -ss 00:00:00 -t 00:02:15 snow_leopard_WHITE_2x_cut.mp4\n",
    "\n",
    "# ffmpeg -i snow_leopard_PURE_WHITE.mp4 -r 60 -vf \"setpts=0.5*PTS\" snow_leopard_PURE_WHITE_2x.mp4\n",
    "# ffmpeg -i snow_leopard_PURE_WHITE_2x.mp4 -ss 00:00:00 -t 00:02:15 snow_leopard_PURE_WHITE_2x_cut.mp4"
   ]
  }
 ],
 "metadata": {
  "kernelspec": {
   "display_name": ".venv_per",
   "language": "python",
   "name": "python3"
  },
  "language_info": {
   "codemirror_mode": {
    "name": "ipython",
    "version": 3
   },
   "file_extension": ".py",
   "mimetype": "text/x-python",
   "name": "python",
   "nbconvert_exporter": "python",
   "pygments_lexer": "ipython3",
   "version": "3.10.12"
  }
 },
 "nbformat": 4,
 "nbformat_minor": 2
}
