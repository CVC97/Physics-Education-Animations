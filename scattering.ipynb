{
 "cells": [
  {
   "cell_type": "code",
   "execution_count": 2,
   "metadata": {},
   "outputs": [
    {
     "data": {
      "text/html": [
       "<pre style=\"white-space:pre;overflow-x:auto;line-height:normal;font-family:Menlo,'DejaVu Sans Mono',consolas,'Courier New',monospace\">Manim Community <span style=\"color: #008000; text-decoration-color: #008000\">v0.16.0.post0</span>\n",
       "\n",
       "</pre>\n"
      ],
      "text/plain": [
       "Manim Community \u001b[32mv0.\u001b[0m\u001b[32m16.0\u001b[0m\u001b[32m.post0\u001b[0m\n",
       "\n"
      ]
     },
     "metadata": {},
     "output_type": "display_data"
    },
    {
     "name": "stdout",
     "output_type": "stream",
     "text": [
      "Jupyter Capture Output v0.0.8\n"
     ]
    }
   ],
   "source": [
    "from manim import *\n",
    "from numpy import linalg as npl\n",
    "import matplotlib.pyplot as plt\n",
    "import jupyter_capture_output\n",
    "from scipy.interpolate import make_interp_spline, BSpline\n",
    "\n",
    "video_scene = \" -v WARNING --progress_bar None --disable_caching comf_Scene\"\n",
    "image_scene = f\" -v WARNING --progress_bar None --disable_caching -r {2*427},{2*240}  -s comf_Scene\""
   ]
  },
  {
   "cell_type": "code",
   "execution_count": 10,
   "metadata": {},
   "outputs": [
    {
     "name": "stdout",
     "output_type": "stream",
     "text": [
      "0.3989422804014327 0.3989422804014327\n"
     ]
    }
   ],
   "source": [
    "# Parameter\n",
    "m1 = 5\n",
    "m2 = 5\n",
    "\n",
    "r1 = np.sqrt(m1/PI/10)\n",
    "r2 = np.sqrt(m2/PI/10)\n",
    "\n",
    "print(r1, r2)"
   ]
  },
  {
   "cell_type": "code",
   "execution_count": 39,
   "metadata": {},
   "outputs": [],
   "source": [
    "# schiefer Stoß\n",
    "def push_pos_i(T, dt):\n",
    "    N = int(T/dt)\n",
    "\n",
    "    b = 0.4\n",
    "    pos1 = np.array([-5., 0.])\n",
    "    pos2 = np.array([0., pos1[1] - b])\n",
    "\n",
    "    v1 = np.array([10., 0.])\n",
    "    v2 = np.array([0., 0.])\n",
    "\n",
    "    pos1_array = np.zeros((N+1, 3))\n",
    "    pos2_array = np.zeros((N+1, 3))\n",
    "\n",
    "    pos1_array[0,:2] = pos1\n",
    "    pos2_array[0,:2] = pos2\n",
    "\n",
    "    i = 1\n",
    "\n",
    "    # Konstante Geschwindigkeit von m1 bis Treffen auf m2\n",
    "    while ((r1 + r2) < npl.norm(pos1 - pos2)):\n",
    "        pos1 += v1 * dt\n",
    "        pos2 += v2 * dt\n",
    "\n",
    "        pos1_array[i,:2] = pos1\n",
    "        pos2_array[i,:2] = pos2\n",
    "\n",
    "        i += 1\n",
    "\n",
    "    # Vollkommen elastischer Stoß von m1 auf m2\n",
    "    theta2 = np.arccos(np.dot(pos2-pos1, v1)/(npl.norm(pos2-pos1)*npl.norm(v1)))\n",
    "    theta = PI - 2*theta2\n",
    "    v2 = (pos2 - pos1) / npl.norm(pos2 - pos1) * npl.norm(v1) * 2*m1 / (m1 + m2) * np.sin(theta/2)  \n",
    "    v1 = np.array([-v2[1], v2[0]]) / npl.norm(v2)  * npl.norm(v1) * np.sqrt(m1**2 + m2**2 + 2*m1*m2*np.cos(theta)) / (m1 + m2)\n",
    "\n",
    "    print(v1, v2)\n",
    "\n",
    "    # Konstante Geschwindigkeit m1 und m2 bis Ende des Arrays\n",
    "    while (i <= N):\n",
    "        pos1 += v1 * dt\n",
    "        pos2 += v2 * dt\n",
    "\n",
    "        pos1_array[i,:2] = pos1\n",
    "        pos2_array[i,:2] = pos2\n",
    "\n",
    "        i += 1\n",
    "\n",
    "    return pos1_array, pos2_array"
   ]
  },
  {
   "cell_type": "code",
   "execution_count": null,
   "metadata": {},
   "outputs": [],
   "source": []
  },
  {
   "cell_type": "code",
   "execution_count": 42,
   "metadata": {},
   "outputs": [],
   "source": [
    "T = 10\n",
    "dt = 0.01\n",
    "\n",
    "#push_pos_i(T, dt)"
   ]
  },
  {
   "cell_type": "code",
   "execution_count": 46,
   "metadata": {},
   "outputs": [
    {
     "name": "stdout",
     "output_type": "stream",
     "text": [
      "Output saved by overwring previous file at animations/center_of_mass_force/scattering.mp4.\n",
      "[3.07692308 4.61538462] [ 6.92307692 -4.61538462]\n"
     ]
    },
    {
     "data": {
      "text/html": [
       "<video src=\"media/jupyter/comf_Scene@2022-12-21@17-14-37.mp4\" controls autoplay loop style=\"max-width: 60%;\"  >\n",
       "      Your browser does not support the <code>video</code> element.\n",
       "    </video>"
      ],
      "text/plain": [
       "<IPython.core.display.Video object>"
      ]
     },
     "metadata": {},
     "output_type": "display_data"
    }
   ],
   "source": [
    "%%capture_video --path \"animations/center_of_mass_force/scattering.mp4\"\n",
    "%%manim -qm --fps 60 $video_scene\n",
    "\n",
    "class comf_Scene(Scene):\n",
    "    def construct(self):\n",
    "        CVC = Text('CVC', font_size = 12, weight = BOLD, color = WHITE, font = 'Latin Modern Sans').align_on_border(RIGHT + DOWN, buff = 0.2)\n",
    "        self.add(CVC)\n",
    "\n",
    "        # Parameter\n",
    "        T = 10\n",
    "        dt = 0.01\n",
    "\n",
    "        pos1_array, pos2_array = push_pos_i(T, dt)\n",
    "\n",
    "        # 2 Massen\n",
    "        m1_dot = Dot(radius = r1, color = BLUE).move_to(pos1_array[0])\n",
    "        m2_dot = Dot(radius = r2, color = WHITE).move_to(pos2_array[0])\n",
    "\n",
    "        # Laborpositionen als Iterator\n",
    "        m1_dot.iter = iter(pos1_array)\n",
    "        m2_dot.iter = iter(pos2_array)\n",
    "\n",
    "        def mass_updater(mass):\n",
    "            mass.move_to(next(mass.iter))\n",
    "\n",
    "        self.add(m1_dot, m2_dot)\n",
    "\n",
    "        m1_dot.add_updater(mass_updater)\n",
    "        m2_dot.add_updater(mass_updater)\n",
    "\n",
    "        timeline = ValueTracker(0)\n",
    "        self.play(timeline.animate.set_value(5), rate_func= linear, run_time = 4)"
   ]
  }
 ],
 "metadata": {
  "kernelspec": {
   "display_name": "Python 3",
   "language": "python",
   "name": "python3"
  },
  "language_info": {
   "codemirror_mode": {
    "name": "ipython",
    "version": 3
   },
   "file_extension": ".py",
   "mimetype": "text/x-python",
   "name": "python",
   "nbconvert_exporter": "python",
   "pygments_lexer": "ipython3",
   "version": "3.10.6"
  },
  "orig_nbformat": 4,
  "vscode": {
   "interpreter": {
    "hash": "916dbcbb3f70747c44a77c7bcd40155683ae19c65e1c03b4aa3499c5328201f1"
   }
  }
 },
 "nbformat": 4,
 "nbformat_minor": 2
}
