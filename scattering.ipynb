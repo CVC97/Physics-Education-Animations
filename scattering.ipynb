{
 "cells": [
  {
   "cell_type": "code",
   "execution_count": 16,
   "metadata": {},
   "outputs": [],
   "source": [
    "from manim import *\n",
    "from numpy import linalg as npl\n",
    "import matplotlib.pyplot as plt\n",
    "import jupyter_capture_output\n",
    "from scipy.interpolate import make_interp_spline, BSpline\n",
    "\n",
    "video_scene = \" -v WARNING --progress_bar None --disable_caching comf_Scene\"\n",
    "image_scene = f\" -v WARNING --progress_bar None --disable_caching -r {2*427},{2*240}  -s comf_Scene\""
   ]
  },
  {
   "cell_type": "code",
   "execution_count": 2,
   "metadata": {},
   "outputs": [
    {
     "name": "stdout",
     "output_type": "stream",
     "text": [
      "0.3989422804014327 0.3989422804014327\n"
     ]
    }
   ],
   "source": [
    "# Parameter\n",
    "m1 = 5\n",
    "m2 = 5\n",
    "\n",
    "r1 = np.sqrt(m1/PI/10)\n",
    "r2 = np.sqrt(m2/PI/10)\n",
    "\n",
    "b = 0.4\n",
    "pos1 = np.array([-5., 0.])\n",
    "pos2 = np.array([0., pos1[1] - b])\n",
    "\n",
    "v1_general = np.array([10., 0.])\n",
    "v2_general = np.array([0., 0.])\n",
    "\n",
    "print(r1, r2)"
   ]
  },
  {
   "cell_type": "code",
   "execution_count": 3,
   "metadata": {},
   "outputs": [],
   "source": [
    "# schiefer Stoß\n",
    "def push_pos_i(T, dt):\n",
    "    N = int(T/dt)\n",
    "\n",
    "    b = 0.4\n",
    "    pos1 = np.array([-5., 0.])\n",
    "    pos2 = np.array([0., pos1[1] - b])\n",
    "\n",
    "    v1 = v1_general\n",
    "    v2 = v2_general\n",
    "\n",
    "    pos1_array = np.zeros((N+1, 3))\n",
    "    pos2_array = np.zeros((N+1, 3))\n",
    "\n",
    "    pos1_array[0,:2] = pos1\n",
    "    pos2_array[0,:2] = pos2\n",
    "\n",
    "    i = 1\n",
    "\n",
    "    # Konstante Geschwindigkeit von m1 bis Treffen auf m2\n",
    "    while ((r1 + r2) < npl.norm(pos1 - pos2)):\n",
    "        pos1 += v1 * dt\n",
    "        pos2 += v2 * dt\n",
    "\n",
    "        pos1_array[i,:2] = pos1\n",
    "        pos2_array[i,:2] = pos2\n",
    "\n",
    "        i += 1\n",
    "\n",
    "    # Vollkommen elastischer Stoß von m1 auf m2\n",
    "    theta2 = np.arccos(np.dot(pos2-pos1, v1)/(npl.norm(pos2-pos1)*npl.norm(v1)))\n",
    "    theta = PI - 2*theta2\n",
    "    v2 = (pos2 - pos1) / npl.norm(pos2 - pos1) * npl.norm(v1) * 2*m1 / (m1 + m2) * np.sin(theta/2)  \n",
    "    v1 = np.array([-v2[1], v2[0]]) / npl.norm(v2)  * npl.norm(v1) * np.sqrt(m1**2 + m2**2 + 2*m1*m2*np.cos(theta)) / (m1 + m2)\n",
    "\n",
    "    t_break = i - 2\n",
    "    print(v1, v2)\n",
    "\n",
    "    # Konstante Geschwindigkeit m1 und m2 bis Ende des Arrays\n",
    "    while (i <= N):\n",
    "        pos1 += v1 * dt\n",
    "        pos2 += v2 * dt\n",
    "\n",
    "        pos1_array[i,:2] = pos1\n",
    "        pos2_array[i,:2] = pos2\n",
    "\n",
    "        i += 1\n",
    "\n",
    "    return pos1_array, pos2_array, t_break"
   ]
  },
  {
   "cell_type": "code",
   "execution_count": 4,
   "metadata": {},
   "outputs": [],
   "source": [
    "T = 10\n",
    "dt = 0.01\n",
    "\n",
    "#push_pos_i(T, dt)"
   ]
  },
  {
   "cell_type": "code",
   "execution_count": 24,
   "metadata": {},
   "outputs": [
    {
     "name": "stdout",
     "output_type": "stream",
     "text": [
      "Output saved by overwring previous file at animations/center_of_mass_force/scattering_zoom.mp4.\n",
      "[3.07692308 4.61538462] [ 6.92307692 -4.61538462]\n"
     ]
    },
    {
     "data": {
      "text/html": [
       "<video src=\"media/jupyter/comf_Scene@2022-12-21@21-20-01.mp4\" controls autoplay loop style=\"max-width: 60%;\"  >\n",
       "      Your browser does not support the <code>video</code> element.\n",
       "    </video>"
      ],
      "text/plain": [
       "<IPython.core.display.Video object>"
      ]
     },
     "metadata": {},
     "output_type": "display_data"
    }
   ],
   "source": [
    "%%capture_video --path \"animations/center_of_mass_force/scattering_zoom.mp4\"\n",
    "%%manim -qm --fps 60 $video_scene\n",
    "\n",
    "class comf_Scene(MovingCameraScene):\n",
    "    def construct(self):\n",
    "        CVC = Text('CVC', font_size = 12, weight = BOLD, color = WHITE, font = 'Latin Modern Sans').align_on_border(RIGHT + DOWN, buff = 0.2)\n",
    "        self.add(CVC)\n",
    "\n",
    "        # Parameter\n",
    "        T = 10\n",
    "        dt = 0.01\n",
    "\n",
    "        pos1_array, pos2_array, t_break = push_pos_i(T, dt)\n",
    "\n",
    "        # Achsen zu Masse 2\n",
    "        cat_x_axis = Line([-50, pos2_array[0][1], 0], [50, pos2_array[0][1], 0], color = WHITE, stroke_width = 0.5)\n",
    "        cat_y_axis = Line([pos2_array[0][0], -50, 0], [pos2_array[0][0], 50, 0], color = WHITE, stroke_width = 0.5)\n",
    "\n",
    "        cat_x = Text(\"x'\", font_size = 16).move_to([6.75, pos2_array[0][1] + 0.25, 0])\n",
    "        cat_y = Text(\"y'\", font_size = 16).move_to([pos2_array[0][0] + 0.25, 3.75, 0])\n",
    "\n",
    "        # 2 Massen\n",
    "        m1_dot = Dot(radius = r1, color = BLUE).move_to(pos1_array[0])\n",
    "        m2_dot = Dot(radius = r2, color = WHITE).move_to(pos2_array[0])\n",
    "\n",
    "        # Laborpositionen als Iterator\n",
    "        m1_dot.iter = iter(pos1_array)\n",
    "        m2_dot.iter = iter(pos2_array)\n",
    "\n",
    "        m1_dot.color = BLUE\n",
    "        m2_dot.color = WHITE\n",
    "\n",
    "        cat_x_axis.iter = iter(pos2_array)\n",
    "        cat_y_axis.iter = iter(pos2_array)\n",
    "        cat_x.iter = iter(pos2_array)\n",
    "        cat_y.iter = iter(pos2_array)\n",
    "\n",
    "\n",
    "        def mass_updater(mass):\n",
    "            next_pos = next(mass.iter)\n",
    "            con_line = Line(mass.get_center(), next_pos, color = mass.color, stroke_opacity = 0.5)\n",
    "            self.add(con_line)\n",
    "            mass.move_to(next_pos)\n",
    "\n",
    "        def cat_x_axis_updater(axis):\n",
    "            y = next(axis.iter)[1]\n",
    "            axis.move_to([0, y, 0])\n",
    "\n",
    "        def cat_y_axis_updater(axis):\n",
    "            x = next(axis.iter)[0]\n",
    "            axis.move_to([x, 0, 0])\n",
    "\n",
    "        def cat_x_updater(label):\n",
    "            y = next(label.iter)[1] + 0.25\n",
    "            label.move_to([6.75, y, 0])\n",
    "\n",
    "        def cat_y_updater(label):\n",
    "            x = next(label.iter)[0] + 0.25\n",
    "            label.move_to([x, 3.75, 0])\n",
    "\n",
    "\n",
    "        self.add(m1_dot, m2_dot)\n",
    "        self.add(cat_x_axis, cat_y_axis, cat_x, cat_y)\n",
    "\n",
    "        m1_dot.add_updater(mass_updater)\n",
    "        m2_dot.add_updater(mass_updater)\n",
    "\n",
    "        cat_x_axis.add_updater(cat_x_axis_updater)\n",
    "        cat_y_axis.add_updater(cat_y_axis_updater)\n",
    "        cat_x.add_updater(cat_x_updater)\n",
    "        cat_y.add_updater(cat_y_updater)\n",
    "\n",
    "        # Save the state of camera\n",
    "        self.camera.frame.save_state()\n",
    "\n",
    "        time = ValueTracker(0)\n",
    "        self.play(time.animate.set_value(0), rate_func = linear, run_time = t_break / 60)\n",
    "        m1_dot.remove_updater(mass_updater)\n",
    "        m2_dot.remove_updater(mass_updater)\n",
    "\n",
    "        cat_x_axis.remove_updater(cat_x_axis_updater)\n",
    "        cat_y_axis.remove_updater(cat_y_axis_updater)\n",
    "        cat_x.remove_updater(cat_x_updater)\n",
    "        cat_y.remove_updater(cat_y_updater)\n",
    "        self.wait(0.5)\n",
    "        # self.play(\n",
    "        #     AnimationGroup(\n",
    "\n",
    "        #     )\n",
    "        #     self.camera.frame.set_width,m1_dot.get_width()*1.2,\n",
    "        #     self.camera.frame.move_to,m1_dot\n",
    "        #     )\n",
    "        self.play(self.camera.frame.animate.set_height(m1_dot.height * 1.5))\n",
    "        self.wait(2)\n",
    "\n",
    "        self.play(time.animate.set_value(0), rate_func = linear, run_time = 3)"
   ]
  }
 ],
 "metadata": {
  "kernelspec": {
   "display_name": "Python 3",
   "language": "python",
   "name": "python3"
  },
  "language_info": {
   "codemirror_mode": {
    "name": "ipython",
    "version": 3
   },
   "file_extension": ".py",
   "mimetype": "text/x-python",
   "name": "python",
   "nbconvert_exporter": "python",
   "pygments_lexer": "ipython3",
   "version": "3.10.6"
  },
  "orig_nbformat": 4,
  "vscode": {
   "interpreter": {
    "hash": "916dbcbb3f70747c44a77c7bcd40155683ae19c65e1c03b4aa3499c5328201f1"
   }
  }
 },
 "nbformat": 4,
 "nbformat_minor": 2
}
