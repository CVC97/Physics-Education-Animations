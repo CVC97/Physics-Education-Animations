{
 "cells": [
  {
   "cell_type": "code",
   "execution_count": 1,
   "metadata": {},
   "outputs": [
    {
     "data": {
      "text/html": [
       "<pre style=\"white-space:pre;overflow-x:auto;line-height:normal;font-family:Menlo,'DejaVu Sans Mono',consolas,'Courier New',monospace\">Manim Community <span style=\"color: #008000; text-decoration-color: #008000\">v0.18.0.post0</span>\n",
       "\n",
       "</pre>\n"
      ],
      "text/plain": [
       "Manim Community \u001b[32mv0.\u001b[0m\u001b[32m18.0\u001b[0m\u001b[32m.post0\u001b[0m\n",
       "\n"
      ]
     },
     "metadata": {},
     "output_type": "display_data"
    },
    {
     "name": "stdout",
     "output_type": "stream",
     "text": [
      "Jupyter Capture Output v0.0.11\n"
     ]
    }
   ],
   "source": [
    "from manim import *\n",
    "import jupyter_capture_output\n",
    "\n",
    "video_scene = \" -v WARNING --progress_bar None --disable_caching galvani_Scene\"\n",
    "image_scene = f\" -v WARNING --progress_bar None --disable_caching -r {2*427},{2*240}  -s galvani_Scene\""
   ]
  },
  {
   "cell_type": "code",
   "execution_count": 14,
   "metadata": {},
   "outputs": [],
   "source": [
    "# parameters of the system\n",
    "k = 1                       # proportionality between current I and magnetic field B_coil\n",
    "gamma = 0.25                 # friction coefficient\n",
    "delta_t = 0.1               # time increment\n",
    "\n",
    "\n",
    "# force on the needle by the magnetic field of the earth (depending on the angle)\n",
    "def earth_magnetic_force(angle):\n",
    "    return -np.sin(angle)\n",
    "\n",
    "\n",
    "# force on the needly by the coil (depending on angle AND the electric current I)\n",
    "def coil_magnetic_force(angle, I):\n",
    "    return -k*I*np.sin(angle-PI/2)\n",
    "\n",
    "\n",
    "# uses the state of the needle and the current I to calculate its next state\n",
    "def next_state(state, I):\n",
    "\n",
    "    angle = state[0]\n",
    "    d_angle = state[1]\n",
    "    dd_angle = earth_magnetic_force(angle) + coil_magnetic_force(angle, I) - gamma*d_angle\n",
    "\n",
    "    a1 = np.array([d_angle, dd_angle])\n",
    "    state[0] += a1[0]*delta_t + a1[1]*delta_t**2\n",
    "\n",
    "    angle = state[0]\n",
    "    dd_angle = earth_magnetic_force(angle) + coil_magnetic_force(angle, I) - gamma*d_angle\n",
    "\n",
    "    a2 = np.array([d_angle, dd_angle])\n",
    "    state[1] += (a1[1] + a2[1]) * delta_t / 2\n",
    "    return state"
   ]
  },
  {
   "cell_type": "code",
   "execution_count": 15,
   "metadata": {},
   "outputs": [],
   "source": [
    "class Compass(Mobject):\n",
    "    def __init__(self, centre, radius, **kwargs):\n",
    "        super().__init__(**kwargs)\n",
    "        self.centre = centre\n",
    "        self.radius = radius\n",
    "\n",
    "        # circle with angels\n",
    "        tick_width = 0.2\n",
    "        angle_circle = Circle(radius = self.radius, color = BLACK, stroke_opacity = 0.5, stroke_width = 2).move_to(centre)\n",
    "        angle_circle_out = Circle(radius = self.radius+tick_width, color = BLACK, stroke_opacity = 0.5, stroke_width = 2).move_to(centre)\n",
    "        for i in range(8):\n",
    "            angle = i*2*PI/8\n",
    "            degree_angle = int(i/8*360)\n",
    "            angle_tick = Line(start = centre+radius*UP, end = centre+(radius+tick_width)*UP, color = BLACK, stroke_opacity = 0.5, stroke_width = 2).rotate(about_point = self.centre, angle = angle)\n",
    "            angle_tick_descriptor = Text(f\"{degree_angle}\", color = BLACK, fill_opacity = 0.5, font_size = 20).move_to(self.centre + (self.radius+2.75*tick_width)*(UP*np.cos(angle) + LEFT*np.sin(angle)))\n",
    "            self.add(angle_tick, angle_tick_descriptor)\n",
    "        self.add(angle_circle, angle_circle_out)\n",
    "\n",
    "\n",
    "    # returns the needle for a given angle in rad\n",
    "    def get_needle(self, angle):\n",
    "        base_width = 0.5\n",
    "        top_width = 0.2\n",
    "        needle_radius = 0.95\n",
    "\n",
    "        # center dot\n",
    "        centre_dot = Circle(radius = self.radius/20, color = BLACK, fill_color = BLACK, fill_opacity = 0.5, stroke_opacity = 0.75).move_to(self.centre)\n",
    "        \n",
    "        # polygon edges\n",
    "        base_left = self.centre + base_width/2*LEFT\n",
    "        base_right = self.centre + base_width/2*RIGHT\n",
    "        upper_left = self.centre + (needle_radius*self.radius)*UP + top_width/2*LEFT\n",
    "        upper_right = self.centre + (needle_radius*self.radius)*UP + top_width/2*RIGHT\n",
    "        lower_left = self.centre + (needle_radius*self.radius)*DOWN + top_width/2*LEFT\n",
    "        lower_right = self.centre + (needle_radius*self.radius)*DOWN + top_width/2*RIGHT\n",
    "\n",
    "        # lists of polygon edges\n",
    "        top_position_list = [base_left, upper_left, upper_right, base_right]\n",
    "        down_position_list = [base_left, lower_left, lower_right, base_right]\n",
    "        # polygons\n",
    "        upper_polygon = Polygon(*top_position_list, stroke_color = RED, fill_color = RED, fill_opacity = 0.5, stroke_opacity = 0)\n",
    "        lower_polygon = Polygon(*down_position_list, stroke_color = BLUE, fill_color = GREEN, fill_opacity = 0.5, stroke_opacity = 0)\n",
    "\n",
    "        # arcs\n",
    "        arc_angle = 2*np.arcsin(top_width/2/needle_radius/self.radius)\n",
    "        upper_arc = Arc(arc_center = self.centre, radius = needle_radius*self.radius, start_angle = PI/2-arc_angle/2, angle = arc_angle, fill_color = RED, stroke_color = BLACK, fill_opacity = 0.5, stroke_opacity = 0)\n",
    "        lower_arc = Arc(arc_center = self.centre, radius = needle_radius*self.radius, start_angle = PI+PI/2-arc_angle/2, angle = arc_angle, fill_color = GREEN, stroke_color = BLACK, fill_opacity = 0.5, stroke_opacity = 0)\n",
    "        return VGroup(upper_polygon, lower_polygon, upper_arc, lower_arc, centre_dot).rotate(about_point = self.centre, angle = angle)\n",
    "    \n",
    "\n",
    "    # get poles\n",
    "    def get_poles(self):\n",
    "        north = Text(\"North\", color = RED, font_size = 32).move_to(self.centre + (self.radius + 1.25) * UP)\n",
    "        south = Text(\"South\", color = GREEN, font_size = 32).move_to(self.centre + (self.radius + 1.25) * DOWN)\n",
    "        return VGroup(north, south)\n",
    "\n",
    "\n",
    "class Coil(Mobject):\n",
    "    def __init__(self, centre, height, width, **kwargs):\n",
    "        super().__init__(**kwargs)\n",
    "        self.centre = centre\n",
    "        self.coil_height = height\n",
    "        self.coil_width = width\n",
    "\n",
    "        coil_rect = Rectangle(height = self.coil_height, width = self.coil_width, color = BLACK, fill_opacity = 0.5, stroke_opacity = 0).move_to(self.centre)\n",
    "        self.add(coil_rect)"
   ]
  },
  {
   "cell_type": "code",
   "execution_count": null,
   "metadata": {},
   "outputs": [
    {
     "name": "stdout",
     "output_type": "stream",
     "text": [
      "Output saved by overwring previous file at animations/galvanometre/galvanometre.mp4.\n"
     ]
    },
    {
     "data": {
      "text/html": [
       "<video src=\"media/jupyter/galvani_Scene@2024-10-31@16-28-39.mp4\" controls autoplay loop style=\"max-width: 60%;\"  >\n",
       "      Your browser does not support the <code>video</code> element.\n",
       "    </video>"
      ],
      "text/plain": [
       "<IPython.core.display.Video object>"
      ]
     },
     "metadata": {},
     "output_type": "display_data"
    }
   ],
   "source": [
    "%%capture_video --path \"animations/galvanometre/galvanometre.mp4\"\n",
    "%%manim -qm --fps 60 $video_scene\n",
    "\n",
    "\n",
    "class galvani_Scene(Scene):\n",
    "    def construct(self):\n",
    "        self.camera.background_color = WHITE\n",
    "\n",
    "        # value tracker running the current\n",
    "        I_tracker = ValueTracker(0)\n",
    "\n",
    "        # parameters\n",
    "        compass_centre = np.array([-3.5, 0.5, 0])\n",
    "        compass_radius = 1.5\n",
    "        initial_angle = 1\n",
    "\n",
    "        coil_centre = np.array([3, 0.5, 0])\n",
    "        coil_height = 1.5\n",
    "        coil_width = 4.5\n",
    "\n",
    "\n",
    "        # compass\n",
    "        compass = Compass(centre = compass_centre, radius = compass_radius)\n",
    "        needle = compass.get_needle(initial_angle)\n",
    "        poles = compass.get_poles()\n",
    "        needle.state = np.array([initial_angle, 0.0])\n",
    "        needle.current = I_tracker.get_value()\n",
    "        self.add(compass, needle, poles)\n",
    "\n",
    "        # coil\n",
    "        coil = Coil(centre = coil_centre, height = coil_height, width = coil_width)\n",
    "        self.add(coil)\n",
    "\n",
    "\n",
    "        # updates the needle according to current and state\n",
    "        def needle_updater(needle):\n",
    "            state = needle.state                                        # get the current needle state\n",
    "            current = I_tracker.get_value()                             # get current from value tracker\n",
    "            new_state = next_state(state, current)                      # calculate the new state according to the old one and the current\n",
    "            needle.state = new_state\n",
    "            needle.become(compass.get_needle(new_state[0]))\n",
    "\n",
    "        \n",
    "        # needle.add_updater(needle_updater)\n",
    "        # self.play(I_tracker.animate.set_value(0), rate_func= linear, run_time = 5)\n",
    "        # self.play(I_tracker.animate.set_value(10), rate_func= lambda x: x**2, run_time = 20)\n",
    "        # self.play(I_tracker.animate.set_value(10), rate_func= linear, run_time = 5)"
   ]
  },
  {
   "cell_type": "code",
   "execution_count": null,
   "metadata": {},
   "outputs": [],
   "source": []
  }
 ],
 "metadata": {
  "kernelspec": {
   "display_name": ".venv_per",
   "language": "python",
   "name": "python3"
  },
  "language_info": {
   "codemirror_mode": {
    "name": "ipython",
    "version": 3
   },
   "file_extension": ".py",
   "mimetype": "text/x-python",
   "name": "python",
   "nbconvert_exporter": "python",
   "pygments_lexer": "ipython3",
   "version": "3.12.3"
  }
 },
 "nbformat": 4,
 "nbformat_minor": 2
}
