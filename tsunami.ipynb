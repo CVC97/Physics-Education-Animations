{
 "cells": [
  {
   "cell_type": "code",
   "execution_count": 2,
   "metadata": {},
   "outputs": [
    {
     "data": {
      "text/html": [
       "<pre style=\"white-space:pre;overflow-x:auto;line-height:normal;font-family:Menlo,'DejaVu Sans Mono',consolas,'Courier New',monospace\">Manim Community <span style=\"color: #008000; text-decoration-color: #008000\">v0.16.0.post0</span>\n",
       "\n",
       "</pre>\n"
      ],
      "text/plain": [
       "Manim Community \u001b[32mv0.\u001b[0m\u001b[32m16.0\u001b[0m\u001b[32m.post0\u001b[0m\n",
       "\n"
      ]
     },
     "metadata": {},
     "output_type": "display_data"
    },
    {
     "name": "stdout",
     "output_type": "stream",
     "text": [
      "Jupyter Capture Output v0.0.8\n"
     ]
    }
   ],
   "source": [
    "from manim import *\n",
    "from numpy import linalg as npl\n",
    "import math\n",
    "import matplotlib.pyplot as plt\n",
    "import jupyter_capture_output\n",
    "from scipy.interpolate import make_interp_spline, BSpline\n",
    "from multiprocessing import Process\n",
    "\n",
    "video_scene = \" -v WARNING --progress_bar None --disable_caching tsunami_Scene\"\n",
    "image_scene = f\" -v WARNING --progress_bar None --disable_caching -r {2*427},{2*240}  -s tsunami_Scene\""
   ]
  },
  {
   "cell_type": "code",
   "execution_count": 3,
   "metadata": {},
   "outputs": [],
   "source": [
    "# Parameter des Ozeans\n",
    "OCEAN_HEIGHT = 5000;                               # generelle Wassertiefe des Ozeans\n",
    "OCEAN_HEIGHT_RIFF = 20;                            # Wassertiefe am Riff\n",
    "\n",
    "OCEAN_X_LEFT = -1000;                            # linker Rand des Ozeans\n",
    "OCEAN_X_RIGHT = 0;                                 # rechter Rand des Ozeans\n",
    "OCEAN_X_RIFF_LEFT = -700;                        # linker Rand des Riffs\n",
    "OCEAN_X_BEACH_LEFT = -550;                       # linker Rand des Strandes\n",
    "OCEAN_X_BEACH_RIGHT = -450;                      # rechter Rand des Strandes\n",
    "OCEAN_X_RIFF_RIGHT = -300;                       # rechter Rand des Riffs\n",
    "\n",
    "\n",
    "# Profil des Meeresbodes\n",
    "def height_ocean(x):\n",
    "    if (OCEAN_X_LEFT <= x and x < OCEAN_X_RIFF_LEFT):\n",
    "        return OCEAN_HEIGHT\n",
    "    elif (OCEAN_X_RIFF_LEFT <= x and x < OCEAN_X_BEACH_LEFT):\n",
    "        return OCEAN_HEIGHT + (OCEAN_HEIGHT_RIFF-OCEAN_HEIGHT) * (np.sin(PI/2 * (x-OCEAN_X_RIFF_LEFT) / (OCEAN_X_BEACH_LEFT-OCEAN_X_RIFF_LEFT)))**2\n",
    "    elif (OCEAN_X_BEACH_LEFT <= x and x < OCEAN_X_BEACH_RIGHT):\n",
    "        return OCEAN_HEIGHT_RIFF\n",
    "    elif (OCEAN_X_BEACH_RIGHT <= x and x < OCEAN_X_RIFF_RIGHT):\n",
    "        return OCEAN_HEIGHT_RIFF - (OCEAN_HEIGHT_RIFF-OCEAN_HEIGHT) * (np.sin(PI/2 * (OCEAN_X_BEACH_RIGHT-x) / (OCEAN_X_BEACH_RIGHT-OCEAN_X_RIFF_RIGHT)))**2\n",
    "    elif (OCEAN_X_RIFF_RIGHT <= x and x < OCEAN_X_RIGHT):\n",
    "        return OCEAN_HEIGHT\n",
    "    else:\n",
    "        return -5000\n",
    "    \n",
    "\n",
    "riff_x_plot = np.linspace(OCEAN_X_LEFT, OCEAN_X_RIGHT-1, 1000)\n",
    "riff_h_plot = np.array([5000 - height_ocean(riff_x_plot_i) for riff_x_plot_i in riff_x_plot]) \n"
   ]
  },
  {
   "cell_type": "code",
   "execution_count": 22,
   "metadata": {},
   "outputs": [
    {
     "name": "stdout",
     "output_type": "stream",
     "text": [
      "Output saved by creating file at animations/tsunami/tsunami3.mp4.\n"
     ]
    },
    {
     "data": {
      "text/html": [
       "<video src=\"media/jupyter/tsunami_Scene@2023-06-22@11-44-07.mp4\" controls autoplay loop style=\"max-width: 60%;\"  >\n",
       "      Your browser does not support the <code>video</code> element.\n",
       "    </video>"
      ],
      "text/plain": [
       "<IPython.core.display.Video object>"
      ]
     },
     "metadata": {},
     "output_type": "display_data"
    }
   ],
   "source": [
    "%%capture_video --path \"animations/tsunami/tsunami3.mp4\"\n",
    "%%manim -qh --fps 60 $video_scene\n",
    "\n",
    "\n",
    "### Datenerzeugung ###\n",
    "A26_Tsunami_data = np.loadtxt(\"external_data/A26_Tsunami_data.csv\", delimiter = \",\", skiprows = 0)\n",
    "\n",
    "x_ocean_array = A26_Tsunami_data[0,1:] / 1000\n",
    "wave_iter_list = []\n",
    "\n",
    "# Erzeugung des Iter-Arrays\n",
    "for i in range(1, len(x_ocean_array)+1):\n",
    "    wave_iter_list.append(iter(A26_Tsunami_data[1::10,i]))\n",
    "### Datenerzeugung ###\n",
    "\n",
    "\n",
    "class tsunami_Scene(Scene):\n",
    "    def construct(self):\n",
    "        CVC = Text('CVC', font_size = 12, weight = BOLD, color = WHITE, font = 'Latin Modern Sans').align_on_border(RIGHT + DOWN, buff = 0.2)\n",
    "        self.add(CVC)\n",
    "\n",
    "\n",
    "        # Header\n",
    "        text_heat = Tex(r\"1D-d'Alembert-Gleichung: $\\partial_t^2\\xi(x, t)=u^2(x)\\cdot\\partial_x^2\\xi(x, t)$\", font_size = 48).align_on_border(UP + LEFT, buff = 0.5).shift(0.75 * RIGHT)\n",
    "        self.add(text_heat)\n",
    "\n",
    "\n",
    "        # Riff: Coordinate System\n",
    "        x_riff_range = [OCEAN_X_LEFT, OCEAN_X_RIGHT, 50]\n",
    "        y_riff_range = [0, OCEAN_HEIGHT, 1000]\n",
    "\n",
    "        x_riff_length = 12\n",
    "        y_riff_length = 1.25\n",
    "\n",
    "        x_riff_dict = dict(zip(\n",
    "            [OCEAN_X_LEFT, OCEAN_X_RIFF_LEFT, OCEAN_X_BEACH_LEFT, OCEAN_X_BEACH_RIGHT, OCEAN_X_RIFF_RIGHT, OCEAN_X_RIGHT], \n",
    "            [r\"$x_\\mathrm{L}$\", r\"$x_\\mathrm{Riff,\\,L}$\", r\"$x_\\mathrm{Strand,\\,L}$\", r\"$x_\\mathrm{Strand,\\,R}$\", r\"$x_\\mathrm{Riff,\\,R}$\", r\"$x_\\mathrm{R}$\"]))\n",
    "        y_riff_dict = dict(zip([5000, 3000, 1000], [0, -2000, -4000]))\n",
    "        npla_riff = NumberPlane(\n",
    "            x_range = x_riff_range, y_range = y_riff_range, x_length = x_riff_length, y_length = y_riff_length,\n",
    "            axis_config = {\"include_numbers\": False, \"stroke_opacity\": 0.25}, background_line_style = {\"stroke_opacity\": 0.25}, ).shift(2.25 * DOWN)\n",
    "        ax_riff = Axes(\n",
    "            x_range = x_riff_range, y_range = y_riff_range, x_length = x_riff_length, y_length = y_riff_length, \n",
    "            axis_config = {\"stroke_width\": 1, \"stroke_opacity\": 0.75}, tips = False).add_coordinates(x_riff_dict, y_riff_dict, font_size = 20).shift(2.25 * DOWN)\n",
    "        line_graph_riff = ax_riff.plot_line_graph(x_values = riff_x_plot, y_values = riff_h_plot, line_color = GREY, add_vertex_dots = False, stroke_width = 2)\n",
    "\n",
    "        riff_coordinate_system = VGroup(ax_riff, npla_riff, line_graph_riff)\n",
    "        self.add(riff_coordinate_system)\n",
    "\n",
    "\n",
    "        # Wave: Coordinate System\n",
    "        x_wave_range = [OCEAN_X_LEFT, OCEAN_X_RIGHT, 50]\n",
    "        y_wave_range = [-20, 20, 5]\n",
    "\n",
    "        x_wave_length = 12\n",
    "        y_wave_length = 3.5\n",
    "\n",
    "        y_wave_dict = dict(zip([-20, -10, 10, 20], [-20, -10, 10, 20]))\n",
    "        ax_wave = Axes(\n",
    "            x_range = x_wave_range, y_range = y_wave_range, x_length = x_wave_length, y_length = y_wave_length, \n",
    "            axis_config = {\"stroke_width\": 1, \"stroke_opacity\": 0.75}, tips = False).add_coordinates([], y_wave_dict, font_size = 20).shift(0.725 * UP)\n",
    "\n",
    "        wave_coordinate_system = VGroup(ax_wave)\n",
    "        self.add(wave_coordinate_system)\n",
    "\n",
    "\n",
    "        # Riff-Lines\n",
    "        x_riff_L_line = DashedLine(ax_riff.c2p(OCEAN_X_RIFF_LEFT, 0, 0), ax_wave.c2p(OCEAN_X_RIFF_LEFT, 20, 0), dash_length = 0.05, dashed_ratio = 0.75, color = WHITE, stroke_opacity = 0.5, stroke_width = 1)\n",
    "        x_beach_L_line = DashedLine(ax_riff.c2p(OCEAN_X_BEACH_LEFT, 0, 0), ax_wave.c2p(OCEAN_X_BEACH_LEFT, 20, 0), dash_length = 0.05, dashed_ratio = 0.75, color = WHITE, stroke_opacity = 0.5, stroke_width = 1)\n",
    "        x_beach_R_line = DashedLine(ax_riff.c2p(OCEAN_X_BEACH_RIGHT, 0, 0), ax_wave.c2p(OCEAN_X_BEACH_RIGHT, 20, 0), dash_length = 0.05, dashed_ratio = 0.75, color = WHITE, stroke_opacity = 0.5, stroke_width = 1)\n",
    "        x_riff_R_line = DashedLine(ax_riff.c2p(OCEAN_X_RIFF_RIGHT, 0, 0), ax_wave.c2p(OCEAN_X_RIFF_RIGHT, 20, 0), dash_length = 0.05, dashed_ratio = 0.75, color = WHITE, stroke_opacity = 0.5, stroke_width = 1)\n",
    "\n",
    "\n",
    "        self.add(x_riff_L_line, x_beach_L_line, x_beach_R_line, x_riff_R_line)\n",
    "\n",
    "\n",
    "        # Wave\n",
    "        wave_line_list = []\n",
    "        for i, wave_iter in enumerate(wave_iter_list):\n",
    "\n",
    "            x_wave = x_ocean_array[i]\n",
    "            y_wave = next(wave_iter)\n",
    "\n",
    "            wave_line = Line(start = ax_wave.c2p(x_wave, y_wave, 0), end = ax_wave.c2p(x_wave, -20, 0), color = BLUE, stroke_opacity = 0.3)\n",
    "            wave_line_list.append(wave_line)\n",
    "            self.add(wave_line_list[i])\n",
    "\n",
    "\n",
    "        # Wave-Updater\n",
    "        def wave_updater(wave):\n",
    "            for i, wave_iter in enumerate(wave_iter_list):\n",
    "\n",
    "                x_wave = x_ocean_array[i]\n",
    "                y_wave = next(wave_iter)\n",
    "\n",
    "                wave_line = Line(start = ax_wave.c2p(x_wave, y_wave, 0), end = ax_wave.c2p(x_wave, -20, 0), color = BLUE, stroke_opacity = 0.3)\n",
    "                wave_line_list[i].become(wave_line)\n",
    "\n",
    "\n",
    "        # Adding Dynamic\n",
    "        time = ValueTracker(0)\n",
    "        ax_wave.add_updater(wave_updater)\n",
    "        self.wait(0.5)\n",
    "        self.play(time.animate.set_value(1), rate_func = linear, run_time = 29.5)\n"
   ]
  }
 ],
 "metadata": {
  "kernelspec": {
   "display_name": "Python 3",
   "language": "python",
   "name": "python3"
  },
  "language_info": {
   "codemirror_mode": {
    "name": "ipython",
    "version": 3
   },
   "file_extension": ".py",
   "mimetype": "text/x-python",
   "name": "python",
   "nbconvert_exporter": "python",
   "pygments_lexer": "ipython3",
   "version": "3.10.6"
  },
  "orig_nbformat": 4
 },
 "nbformat": 4,
 "nbformat_minor": 2
}
