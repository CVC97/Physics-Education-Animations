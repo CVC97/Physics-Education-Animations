{
 "cells": [
  {
   "cell_type": "code",
   "execution_count": 5,
   "metadata": {},
   "outputs": [],
   "source": [
    "from manim import *\n",
    "from numpy import linalg as npl\n",
    "import math\n",
    "import matplotlib.pyplot as plt\n",
    "import jupyter_capture_output\n",
    "from scipy.interpolate import make_interp_spline, BSpline\n",
    "from multiprocessing import Process\n",
    "\n",
    "diff_video_scene = \" -v WARNING --progress_bar None --disable_caching differentiation_Scene\"\n",
    "diff_image_scene = f\" -v WARNING --progress_bar None --disable_caching -r {2*427},{2*240}  -s differentiation_Scene\"\n",
    "\n",
    "int_video_scene = \" -v WARNING --progress_bar None --disable_caching integration_Scene\"\n",
    "int_image_scene = f\" -v WARNING --progress_bar None --disable_caching -r {2*427},{2*240}  -s integration_Scene\""
   ]
  },
  {
   "cell_type": "code",
   "execution_count": null,
   "metadata": {},
   "outputs": [],
   "source": [
    "%%capture_video --path \"animations/differentiation_integration/differentiation.mp4\"\n",
    "%%manim -qh --fps 60 $diff_video_scene\n",
    "\n",
    "class differentiation_Scene(Scene):\n",
    "    def construct(self):\n",
    "        CVC = Text('CVC', font_size = 12, weight = BOLD, color = WHITE, font = 'Latin Modern Sans').align_on_border(RIGHT + DOWN, buff = 0.2)\n",
    "        self.add(CVC)"
   ]
  },
  {
   "cell_type": "code",
   "execution_count": 213,
   "metadata": {},
   "outputs": [
    {
     "name": "stdout",
     "output_type": "stream",
     "text": [
      "Output saved by overwring previous file at animations/differentiation_integration/integration.mp4.\n"
     ]
    },
    {
     "data": {
      "text/html": [
       "<video src=\"media/jupyter/integration_Scene@2023-07-25@18-56-20.mp4\" controls autoplay loop style=\"max-width: 60%;\"  >\n",
       "      Your browser does not support the <code>video</code> element.\n",
       "    </video>"
      ],
      "text/plain": [
       "<IPython.core.display.Video object>"
      ]
     },
     "metadata": {},
     "output_type": "display_data"
    }
   ],
   "source": [
    "%%capture_video --path \"animations/differentiation_integration/integration.mp4\"\n",
    "%%manim -qh --fps 60 $int_video_scene\n",
    "\n",
    "class integration_Scene(Scene):\n",
    "    def construct(self):\n",
    "        CVC = Text('CVC', font_size = 12, weight = BOLD, color = WHITE, font = 'Latin Modern Sans').align_on_border(RIGHT + DOWN, buff = 0.2)\n",
    "        self.add(CVC)\n",
    "\n",
    "        text_riemann = Tex(r\"Intgral als Riemannsumme: $\\int_a^bf(x)dx=\\sum_{i=1}^nf(x_i)\\Delta x$\", font_size = 48).align_on_border(UP + LEFT, buff = 0.5).shift(0.5 * RIGHT)\n",
    "        text_riemann[0][10:22].set_color(BLUE)\n",
    "        text_riemann[0][33:45].set_color(BLUE)\n",
    "        self.add(text_riemann)\n",
    "\n",
    "\n",
    "        # Integrierbare Funktion (abhängig von x)\n",
    "        func_range = [0, 11]\n",
    "        def integrable_function(x):\n",
    "            return -1 + 3*x - 14*(x/4)**2 + 3.8*(x/4)**3\n",
    "\n",
    "        \n",
    "        # Riemann-Summe (abhängig von n)\n",
    "        def riemann_squares(n):\n",
    "            a = func_range[0]\n",
    "            b = func_range[1]\n",
    "            delta_x = (b - a) / n\n",
    "            riemann_group = VGroup()\n",
    "            for i in range(n):\n",
    "                left = a + i * delta_x\n",
    "                right = a + (i+1) * delta_x\n",
    "                upper = integrable_function(right)\n",
    "                polygon = Polygon(ax.c2p(left, 0), ax.c2p(left, upper), ax.c2p(right, upper), ax.c2p(right, 0), stroke_width = 1.5, color = BLUE, fill_color = BLUE, fill_opacity = 0.25, stroke_opacity = 1)\n",
    "                riemann_group.add(polygon)\n",
    "                #self.add(polygon)\n",
    "            return riemann_group\n",
    "\n",
    "\n",
    "        # Main: Coordinate System\n",
    "        origin = [0, -0.5, 0]\n",
    "\n",
    "        x_range = [-0.5, 3.75*PI, 1]\n",
    "        y_range = [-5, 5, 1]\n",
    "\n",
    "        x_length = 11\n",
    "        y_length = 5.5\n",
    "\n",
    "        npla = NumberPlane(\n",
    "            x_range = x_range, y_range = y_range, x_length = x_length, y_length = y_length, \n",
    "            axis_config = {\"include_numbers\": False, \"stroke_opacity\": 0.25}, background_line_style = {\"stroke_opacity\": 0.25}, ).move_to(origin)\n",
    "        ax = Axes(x_range = x_range, y_range = y_range, x_length = x_length, y_length = y_length, axis_config = {\"stroke_width\": 1, \"stroke_opacity\": 0.75}).move_to(origin)#.add_coordinates()#x_dict, y_dict)\n",
    "\n",
    "        ax_xlabel = ax.get_x_axis_label(Tex(r\"x\", font_size = 36)).shift(0.25*DOWN + 0.125*RIGHT)\n",
    "        ax_ylabel = ax.get_y_axis_label(Tex(r\"y\", font_size = 36)).shift(0.8125*LEFT + 0.5*DOWN)\n",
    "\n",
    "        coordinate_system = VGroup(npla, ax, ax_xlabel, ax_ylabel)\n",
    "        func = ax.plot(integrable_function, color = WHITE, stroke_width = 1.5, stroke_opacity = 1, x_range = func_range)\n",
    "\n",
    "\n",
    "        # Animation\n",
    "        #self.play(Write(text_riemann), run_time = 3)\n",
    "        self.wait(0.5)\n",
    "        self.play(FadeIn(coordinate_system), run_time = 3)\n",
    "        self.wait(0.5)\n",
    "        self.play(Create(func), run_time = 3)\n",
    "        self.wait(0.5)\n",
    "\n",
    "        riemann_squares_pre = riemann_squares(10)\n",
    "        self.play(Create(riemann_squares_pre), run_time = 5)\n",
    "        self.wait(2)\n",
    "        for i in range(11, 200, 1):\n",
    "            riemann_squares_post = riemann_squares(i)\n",
    "            self.play(FadeTransform(riemann_squares_pre, riemann_squares_post), run_time = 2 / i)\n",
    "            riemann_squares_pre = riemann_squares_post\n",
    "        self.wait(5)"
   ]
  }
 ],
 "metadata": {
  "kernelspec": {
   "display_name": "Python 3",
   "language": "python",
   "name": "python3"
  },
  "language_info": {
   "codemirror_mode": {
    "name": "ipython",
    "version": 3
   },
   "file_extension": ".py",
   "mimetype": "text/x-python",
   "name": "python",
   "nbconvert_exporter": "python",
   "pygments_lexer": "ipython3",
   "version": "3.10.6"
  },
  "orig_nbformat": 4
 },
 "nbformat": 4,
 "nbformat_minor": 2
}
