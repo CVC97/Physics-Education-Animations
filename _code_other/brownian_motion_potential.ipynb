{
 "cells": [
  {
   "cell_type": "code",
   "execution_count": 1,
   "metadata": {},
   "outputs": [
    {
     "data": {
      "text/html": [
       "<pre style=\"white-space:pre;overflow-x:auto;line-height:normal;font-family:Menlo,'DejaVu Sans Mono',consolas,'Courier New',monospace\">Manim Community <span style=\"color: #008000; text-decoration-color: #008000\">v0.18.0.post0</span>\n",
       "\n",
       "</pre>\n"
      ],
      "text/plain": [
       "Manim Community \u001b[32mv0.\u001b[0m\u001b[32m18.0\u001b[0m\u001b[32m.post0\u001b[0m\n",
       "\n"
      ]
     },
     "metadata": {},
     "output_type": "display_data"
    },
    {
     "name": "stdout",
     "output_type": "stream",
     "text": [
      "Jupyter Capture Output v0.0.11\n"
     ]
    }
   ],
   "source": [
    "from manim import *\n",
    "import jupyter_capture_output\n",
    "from numpy import linalg as npl\n",
    "\n",
    "video_scene = \" -v WARNING --disable_caching brown_pot_Scene\"\n",
    "image_scene = f\" -v WARNING --disable_caching -r {2*427},{2*240}  -s brown_pot_Scene\""
   ]
  },
  {
   "cell_type": "code",
   "execution_count": 2,
   "metadata": {},
   "outputs": [],
   "source": [
    "# potential function\n",
    "def V(x, y):\n",
    "    # return -1 / np.sqrt(x**2 + y**2 + 1)\n",
    "    return x**2 + y**2\n",
    "\n",
    "\n",
    "# Langevin differential equation of Brownian motion in potential: takes state of the system and returns its derivative array\n",
    "def langevin_brown_DEQ(state, params):\n",
    "    # system state\n",
    "    x = state[0]\n",
    "    y = state[1]\n",
    "    v_x = state[2]\n",
    "    v_y = state[3]\n",
    "    # force calculation\n",
    "    gamma = params[0]\n",
    "    sigma = params[1]\n",
    "    angle = np.random.uniform(0, 2*np.pi)\n",
    "    delta = 10e-4\n",
    "    a_x = -gamma * v_x - (V(x+delta, y) - V(x-delta, y)) / (2*delta) + sigma*np.cos(angle)\n",
    "    a_y = -gamma * v_y - (V(x, y+delta) - V(x, y-delta)) / (2*delta) + sigma*np.sin(angle)\n",
    "    # derivative array calculation\n",
    "    d_state = np.zeros_like(state)\n",
    "    d_state[0] = v_x\n",
    "    d_state[1] = v_y\n",
    "    d_state[2] = a_x\n",
    "    d_state[3] = a_y\n",
    "    return d_state\n",
    "\n",
    "\n",
    "# verlet integrator\n",
    "def verlet_step(state, delta_t, params):\n",
    "    N = int(len(state) / 2)\n",
    "    # calculation support a1\n",
    "    a1 = langevin_brown_DEQ(state, params)\n",
    "    # using a1: recalculation first half of state array\n",
    "    for i in range(N):\n",
    "        state[i] += a1[i] * delta_t + a1[N+i] * delta_t**2/2\n",
    "    # calculation support a2\n",
    "    a2 = langevin_brown_DEQ(state, params)\n",
    "    # using a2: recalculation second half of state array\n",
    "    for i in range(N):\n",
    "        state[N+i] += (a1[N+i] + a2[N+1]) * delta_t/2\n",
    "    return state\n",
    "\n",
    "\n",
    "# calculation of mean square deviation\n",
    "def get_msd(list_of_states):\n",
    "    N = len(list_of_states)\n",
    "    r_sum = 0\n",
    "    for state in list_of_states:\n",
    "        x = state[0]\n",
    "        y = state[1]\n",
    "        r_sum += x**2 + y**2\n",
    "    return r_sum / N"
   ]
  },
  {
   "cell_type": "code",
   "execution_count": 3,
   "metadata": {},
   "outputs": [
    {
     "name": "stdout",
     "output_type": "stream",
     "text": [
      "Output saved by overwring previous file at animations/brownian_motion/Brownian_Motion_Potential.mp4.\n"
     ]
    },
    {
     "name": "stderr",
     "output_type": "stream",
     "text": [
      "                                                                                                \r"
     ]
    },
    {
     "data": {
      "text/html": [
       "<video src=\"media/jupyter/brown_pot_Scene@2024-11-11@15-37-58.mp4\" controls autoplay loop style=\"max-width: 60%;\"  >\n",
       "      Your browser does not support the <code>video</code> element.\n",
       "    </video>"
      ],
      "text/plain": [
       "<IPython.core.display.Video object>"
      ]
     },
     "metadata": {},
     "output_type": "display_data"
    }
   ],
   "source": [
    "%%capture_video --path \"animations/brownian_motion/Brownian_Motion_Potential.mp4\"\n",
    "%%manim -qm --fps 60 $video_scene\n",
    "\n",
    "class brown_pot_Scene(Scene):\n",
    "    def construct(self):\n",
    "        CVC = Text('CVC', font_size = 12, weight = BOLD, color = WHITE, font = 'Latin Modern Sans').align_on_border(RIGHT + DOWN, buff = 0.2)\n",
    "        self.add(CVC)\n",
    "\n",
    "        headline = Title(\"Brownian Motion in a Confining Potential\", font_size = 48).align_on_border(UP + LEFT, buff = 0.5).shift(0.5 * RIGHT)  \n",
    "        self.add(headline)\n",
    "\n",
    "\n",
    "        # parameters\n",
    "        origin = np.array([-3, -1, 0])\n",
    "        gamma = 1\n",
    "        sigma = 10\n",
    "        params = (gamma, sigma)\n",
    "        delta_t = 10e-3\n",
    "\n",
    "        # seed !!!\n",
    "        np.random.seed(3)\n",
    "\n",
    "\n",
    "        # add particles\n",
    "        brown_1 = Circle(radius = 0.1, color = WHITE, fill_color = WHITE, fill_opacity = 0.5).move_to(origin)\n",
    "        brown_2 = Circle(radius = 0.1, color = RED, fill_color = RED, fill_opacity = 0.5).move_to(origin)\n",
    "        brown_3 = Circle(radius = 0.1, color = BLUE, fill_color = BLUE, fill_opacity = 0.5).move_to(origin)\n",
    "\n",
    "        brown_1.state = np.zeros((4, ))\n",
    "        brown_2.state = np.zeros((4, ))\n",
    "        brown_3.state = np.zeros((4, ))\n",
    "\n",
    "        brown_1.color = WHITE\n",
    "        brown_2.color = RED\n",
    "        brown_3.color = BLUE\n",
    "\n",
    "        self.add(brown_1)\n",
    "        self.add(brown_2)\n",
    "        self.add(brown_3)\n",
    "\n",
    "\n",
    "        # coordinate system for MSD over time\n",
    "        axis_center = np.array([3, -0.5, 0])\n",
    "        x_range = [0, 30, 5]\n",
    "        y_range = [0, 7, 1]\n",
    "        axis = Axes(x_range = x_range, y_range = y_range, x_length = 4, y_length = 4, axis_config = {'color': WHITE, \"tip_width\": 0.15, \"tip_height\": 0.15}).move_to(axis_center)\n",
    "        ax_xlabel = axis.get_x_axis_label(Tex(r\"$t$\", font_size = 36, color = WHITE))#.shift(0.1 *LEFT)\n",
    "        ax_ylabel = axis.get_y_axis_label(Tex(r\"$<r^2>$\", font_size = 36, color = WHITE))#.shift(0.15 * DOWN)\n",
    "        plot_line = Line(start = axis.c2p(0, 0), end = axis.c2p(0, 0), color = WHITE, stroke_width = 4, stroke_opacity = 0.75)\n",
    "        plot_line.time = 0\n",
    "        plot_line.msd = get_msd([brown_1.state, brown_2.state, brown_3.state])\n",
    "        self.add(axis, ax_xlabel, ax_ylabel, plot_line)\n",
    "\n",
    "\n",
    "\n",
    "        # particle updater\n",
    "        def particle_updater(particle):\n",
    "            particle_state = particle.state.copy()\n",
    "            new_particle_state = verlet_step(particle.state, delta_t, params)\n",
    "            # connecting old and new position\n",
    "            particle_connector = Line(start = np.array([*particle_state[0:2], 0]) + origin, end = np.array([*new_particle_state[0:2], 0]) + origin, color = particle.color, stroke_opacity = 0.5)\n",
    "            self.add(particle_connector)\n",
    "            # update the state of the particle to its new position\n",
    "            particle.state = new_particle_state\n",
    "            # move particle to new location\n",
    "            particle.move_to(np.array([*new_particle_state[0:2], 0]) + origin)\n",
    "\n",
    "\n",
    "        # plot updater\n",
    "        def plot_updater(plot_line):\n",
    "            time_old = plot_line.time\n",
    "            time_new = timeline.get_value()\n",
    "            msd_old = plot_line.msd\n",
    "            msd_new = get_msd([brown_1.state, brown_2.state, brown_3.state])\n",
    "\n",
    "            plot_line.msd = msd_new\n",
    "            plot_line.time = time_new\n",
    "\n",
    "            # print(time_old, time_new, msd_old, msd_new)\n",
    "            new_plot_line = Line(start = axis.c2p(time_old, msd_old), end = axis.c2p(time_new, msd_new), color = WHITE, stroke_width = 4, stroke_opacity = 0.75)\n",
    "            self.add(new_plot_line)\n",
    "\n",
    "\n",
    "        # print(brown_1.state)\n",
    "        # animation\n",
    "        brown_1.add_updater(particle_updater)\n",
    "        brown_2.add_updater(particle_updater)\n",
    "        brown_3.add_updater(particle_updater)\n",
    "        plot_line.add_updater(plot_updater)\n",
    "\n",
    "        timeline = ValueTracker(0)\n",
    "        self.play(timeline.animate.set_value(30), rate_func= linear, run_time = 30)\n",
    "        self.wait(5)   "
   ]
  }
 ],
 "metadata": {
  "kernelspec": {
   "display_name": ".venv_per",
   "language": "python",
   "name": "python3"
  },
  "language_info": {
   "codemirror_mode": {
    "name": "ipython",
    "version": 3
   },
   "file_extension": ".py",
   "mimetype": "text/x-python",
   "name": "python",
   "nbconvert_exporter": "python",
   "pygments_lexer": "ipython3",
   "version": "3.12.3"
  }
 },
 "nbformat": 4,
 "nbformat_minor": 2
}
