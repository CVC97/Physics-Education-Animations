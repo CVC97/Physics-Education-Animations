{
 "cells": [
  {
   "cell_type": "code",
   "execution_count": 1,
   "metadata": {},
   "outputs": [
    {
     "data": {
      "text/html": [
       "<pre style=\"white-space:pre;overflow-x:auto;line-height:normal;font-family:Menlo,'DejaVu Sans Mono',consolas,'Courier New',monospace\">Manim Community <span style=\"color: #008000; text-decoration-color: #008000\">v0.17.3</span>\n",
       "\n",
       "</pre>\n"
      ],
      "text/plain": [
       "Manim Community \u001b[32mv0.\u001b[0m\u001b[32m17.3\u001b[0m\n",
       "\n"
      ]
     },
     "metadata": {},
     "output_type": "display_data"
    },
    {
     "name": "stdout",
     "output_type": "stream",
     "text": [
      "Jupyter Capture Output v0.0.11\n"
     ]
    }
   ],
   "source": [
    "from manim import *\n",
    "import jupyter_capture_output\n",
    "\n",
    "video_scene = \" -v WARNING --progress_bar None --disable_caching charge_Scene\"\n",
    "image_scene = f\" -v WARNING --progress_bar None --disable_caching -r {2*427},{2*240}  -s charge_Scene\""
   ]
  },
  {
   "cell_type": "code",
   "execution_count": 124,
   "metadata": {},
   "outputs": [],
   "source": [
    "smoothing_factor = 1e-10\n",
    "\n",
    "# main color of the animation (opposite of the background color)\n",
    "# main_color = BLACK\n",
    "# inverted_main_color = WHITE\n",
    "# red_color = PURE_RED\n",
    "# blue_color = PURE_BLUE\n",
    "# grey_color = DARK_GREY\n",
    "\n",
    "main_color = WHITE\n",
    "inverted_main_color = BLACK\n",
    "red_color = RED\n",
    "blue_color = BLUE\n",
    "grey_color = GREY"
   ]
  },
  {
   "cell_type": "code",
   "execution_count": 151,
   "metadata": {},
   "outputs": [],
   "source": [
    "class ElectricField(Mobject):\n",
    "    def __init__(self, center = np.array([0, 0, 0]), list_of_charges = [(1, np.array([0, 0, 0]))], **kwargs):\n",
    "        super().__init__(**kwargs)\n",
    "        self.list_of_charges = list_of_charges\n",
    "\n",
    "        # coordinate system\n",
    "        x_range = np.array([-10, 10, 1])\n",
    "        y_range = np.array([-5, 5, 1])\n",
    "        x_length = 20\n",
    "        y_length = 20\n",
    "        self.x_scale = (x_range[1] - x_range[0]) / x_length\n",
    "        self.y_scale = (y_range[1] - y_range[0]) / y_length\n",
    "        self.npla = NumberPlane(\n",
    "            x_range = x_range, y_range = y_range, x_length = x_length, y_length = y_length,\n",
    "            x_axis_config = {\"stroke_opacity\": 0.215, \"stroke_color\": BLACK}, y_axis_config = {\"stroke_opacity\": 0.125, \"stroke_color\": BLACK}, background_line_style = {\"stroke_opacity\": 0.125}).move_to(center)\n",
    "        self.add(self.npla)\n",
    "\n",
    "\n",
    "    # returns list of point charge mobjects\n",
    "    def get_charge(self, radius = 0.5):\n",
    "        charge_list = []\n",
    "        for charge in self.list_of_charges:\n",
    "            q = charge[0]\n",
    "            charge_position = charge[1]\n",
    "            bg_circle = Circle(radius = radius, color = inverted_main_color, stroke_opacity = 0.75, fill_color = inverted_main_color, fill_opacity = 0.75).move_to(self.npla.c2p(*charge_position))\n",
    "            bg_circle.z_index = 0.5\n",
    "            if q > 0:   \n",
    "                charge_circle = Circle(radius = radius, stroke_opacity = 0, fill_color = red_color, fill_opacity = 0.5).move_to(self.npla.c2p(*charge_position))\n",
    "                charge_text = Text(r\"+\", weight = BOLD, color = main_color).move_to(self.npla.c2p(*charge_position))\n",
    "            elif q < 0:\n",
    "                charge_circle = Circle(radius = radius, stroke_opacity = 0, fill_color = blue_color, fill_opacity = 0.5).move_to(self.npla.c2p(*charge_position))\n",
    "                charge_text = Text(r\"-\", weight = BOLD, color = main_color).move_to(self.npla.c2p(*charge_position))\n",
    "            charge_circle.z_index = 1\n",
    "            charge_text[0][0].z_index = 2\n",
    "            single_charge = VGroup(bg_circle, charge_circle, charge_text)   \n",
    "            charge_list.append(single_charge)\n",
    "        return charge_list\n",
    "    \n",
    "\n",
    "    # returns potential value at 'position'\n",
    "    def get_potential(self, position):\n",
    "        x = position[0]\n",
    "        y = position[1]\n",
    "        potential = 0\n",
    "        for charge in self.list_of_charges:\n",
    "            q = charge[0]\n",
    "            pos_in_coord = self.npla.c2p(*charge[1])\n",
    "            x_i = pos_in_coord[0]\n",
    "            y_i = pos_in_coord[1]\n",
    "            potential += q / np.sqrt((x-x_i)**2 + (y-y_i)**2 + smoothing_factor)\n",
    "        return potential\n",
    "    \n",
    "\n",
    "    # returns field vector for given position\n",
    "    def get_vector(self, position):\n",
    "        x = position[0]\n",
    "        y = position[1]\n",
    "        field_vector = 0\n",
    "        for charge in self.list_of_charges:\n",
    "            q = charge[0]\n",
    "            pos_in_coord = self.npla.c2p(*charge[1])\n",
    "            x_i = pos_in_coord[0]\n",
    "            y_i = pos_in_coord[1]\n",
    "            field_vector += q / np.sqrt(((x-x_i) * self.x_scale)**2 + ((y-y_i) * self.y_scale)**2 + smoothing_factor)**3 * ((x-x_i)*RIGHT + (y-y_i)*UP)\n",
    "        return field_vector\n",
    "\n",
    "    \n",
    "    # returns electric vector field \n",
    "    def get_efield(self):\n",
    "        # function defining the vector field for given 'position'\n",
    "        field_func = self.get_vector\n",
    "        return ArrowVectorField(field_func)\n",
    "    \n",
    "\n",
    "class GaussianVolume(Mobject):\n",
    "    def __init__(self, center = np.array([0, 0, 0]), radius = 1, x_stretch = 1, y_stretch = 1, rotation = 0, **kwargs):\n",
    "        super().__init__(**kwargs)\n",
    "        self.center = center\n",
    "        self.radius = radius\n",
    "        self.x_stretch = x_stretch\n",
    "        self.y_stretch = y_stretch\n",
    "        self.rotation = rotation\n",
    "\n",
    "        def gauss_volume_function_intern(phi):\n",
    "            x = self.radius * self.x_stretch * np.cos(phi) * np.cos(self.rotation) + self.radius * self.y_stretch * np.sin(phi) * np.sin(self.rotation)\n",
    "            y = self.radius * self.y_stretch * np.sin(phi) * np.cos(self.rotation) - self.radius * self.x_stretch * np.cos(phi) * np.sin(self.rotation)\n",
    "            return np.array([x, y, 0]) + self.center\n",
    "\n",
    "\n",
    "        # returns gauss volume\n",
    "        parametric_function_gauss_volume = ParametricFunction(gauss_volume_function_intern, color = main_color, stroke_opacity = 0.75, stroke_width = 4, t_range = np.array([0, 2*PI, 0.01]))\n",
    "        self.add(parametric_function_gauss_volume)\n",
    "\n",
    "\n",
    "    # returns gauss function\n",
    "    def gauss_volume_function(self, phi):\n",
    "        x = self.radius * self.x_stretch * np.cos(phi) * np.cos(self.rotation) + self.radius * self.y_stretch * np.sin(phi) * np.sin(self.rotation)\n",
    "        y = self.radius * self.y_stretch * np.sin(phi) * np.cos(self.rotation) - self.radius * self.x_stretch * np.cos(phi) * np.sin(self.rotation)\n",
    "        return np.array([x, y, 0]) + self.center\n",
    "    \n",
    "    \n",
    "    # returns vector of the field on the gaussian volumes surface\n",
    "    def get_gauss_vector(self, vector_field, phi):\n",
    "        vector_position = self.gauss_volume_function(phi)\n",
    "        vector_direction = vector_field(vector_position)\n",
    "        vector = Line(start = vector_position - vector_direction/4, end = vector_position + vector_direction/4, color = main_color, stroke_width = 2).add_tip(tip_width = 0.08, tip_length = 0.08)\n",
    "        return vector\n",
    "    \n",
    "\n",
    "    def get_gauss_normal_vector(self, vector_field, phi):\n",
    "        vector_position = self.gauss_volume_function(phi)\n",
    "        vector_gauss_parallel = self.gauss_volume_function(phi) - self.gauss_volume_function(phi-0.001)\n",
    "        vector_gauss_normal = np.array([vector_gauss_parallel[1], -vector_gauss_parallel[0], 0]) / np.sqrt(vector_gauss_parallel[0]**2 + vector_gauss_parallel[1]**2 + smoothing_factor)\n",
    "        vector_direction = vector_field(vector_position)\n",
    "        normal_length = vector_gauss_normal[0]*vector_direction[0] + vector_gauss_normal[1]*vector_direction[1]\n",
    "        vector = Line(start = vector_position - vector_gauss_normal/4*normal_length, end = vector_position + vector_gauss_normal/4*normal_length, color = main_color, stroke_width = 2).add_tip(tip_width = 0.08, tip_length = 0.08)\n",
    "        return vector"
   ]
  },
  {
   "cell_type": "code",
   "execution_count": 153,
   "metadata": {},
   "outputs": [
    {
     "name": "stdout",
     "output_type": "stream",
     "text": [
      "Output saved by creating file at animations/point_charge/point_charge.mp4.\n"
     ]
    },
    {
     "data": {
      "text/html": [
       "<video src=\"media/jupyter/charge_Scene@2024-04-05@14-46-32.mp4\" controls autoplay loop style=\"max-width: 60%;\"  >\n",
       "      Your browser does not support the <code>video</code> element.\n",
       "    </video>"
      ],
      "text/plain": [
       "<IPython.core.display.Video object>"
      ]
     },
     "metadata": {},
     "output_type": "display_data"
    }
   ],
   "source": [
    "%%capture_video --path \"animations/point_charge/point_charge.mp4\"\n",
    "%%manim -qm --fps 60 $video_scene\n",
    "\n",
    "\n",
    "class charge_Scene(Scene):\n",
    "    def construct(self):\n",
    "        self.camera.background_color = inverted_main_color\n",
    "\n",
    "        # headline\n",
    "        headline = Title(r\"Gauß'sches Gesetz\", font_size = 48, color = main_color).align_on_border(UP + LEFT, buff = 0.5).shift(0.5 * RIGHT)\n",
    "        for i in range(len(headline[0])):\n",
    "            headline[0][i].z_index = 4\n",
    "        headline_surrect = SurroundingRectangle(headline, color = inverted_main_color, fill_color = inverted_main_color, stroke_opacity = 0.5, fill_opacity = 0.5, buff = 0.2)\n",
    "        headline.underline.z_index = 3\n",
    "        headline_surrect.z_index = 2 \n",
    "        self.add(headline_surrect, headline)\n",
    "\n",
    "\n",
    "        list_of_charges = [\n",
    "            (-1, np.array([-4.0, 0, 0])),\n",
    "            (1, np.array([0, -0.5, 0])),\n",
    "        ]\n",
    "\n",
    "        efield = ElectricField(center = np.array([0, 0, 0]), list_of_charges = list_of_charges)\n",
    "        self.add(efield)\n",
    "\n",
    "        point_charges = efield.get_charge()\n",
    "        for charge in point_charges:\n",
    "            self.add(charge)\n",
    "\n",
    "        electric_field = efield.get_efield()\n",
    "        self.add(electric_field)\n",
    "\n",
    "        gauss_volume = GaussianVolume(center = np.array([-2, -0.5, 0]), x_stretch = 4, y_stretch = 2, rotation = PI/12)\n",
    "        self.add(gauss_volume)\n",
    "\n",
    "        gauss_vector_group = VGroup()\n",
    "        gauss_vector_normal_group = VGroup()\n",
    "        for phi in np.linspace(0, 2*PI, 100):\n",
    "            gauss_vector = gauss_volume.get_gauss_vector(vector_field = efield.get_vector, phi = phi)\n",
    "            gauss_normal_vector = gauss_volume.get_gauss_normal_vector(vector_field = efield.get_vector, phi = phi)\n",
    "            gauss_vector_group.add(gauss_vector)\n",
    "            gauss_vector_normal_group.add(gauss_normal_vector)\n",
    "\n",
    "        \n",
    "        self.wait(1.5)\n",
    "        self.play(FadeIn(gauss_vector_group), run_time = 3)\n",
    "        self.play(FadeTransform(gauss_vector_group, gauss_vector_normal_group), run_time = 3)\n",
    "        self.wait(1.5)\n"
   ]
  }
 ],
 "metadata": {
  "kernelspec": {
   "display_name": ".venv_per",
   "language": "python",
   "name": "python3"
  },
  "language_info": {
   "codemirror_mode": {
    "name": "ipython",
    "version": 3
   },
   "file_extension": ".py",
   "mimetype": "text/x-python",
   "name": "python",
   "nbconvert_exporter": "python",
   "pygments_lexer": "ipython3",
   "version": "3.10.12"
  }
 },
 "nbformat": 4,
 "nbformat_minor": 2
}
